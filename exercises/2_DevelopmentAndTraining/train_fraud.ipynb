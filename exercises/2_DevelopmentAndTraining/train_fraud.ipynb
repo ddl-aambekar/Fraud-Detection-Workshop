{
 "cells": [
  {
   "cell_type": "code",
   "execution_count": 1,
   "id": "1e892762",
   "metadata": {},
   "outputs": [
    {
     "name": "stdout",
     "output_type": "stream",
     "text": [
      "training model XGBoost\n"
     ]
    },
    {
     "name": "stderr",
     "output_type": "stream",
     "text": [
      "Registered model 'CC Fraud XGBoost Classifier' already exists. Creating a new version of this model...\n",
      "2025/07/01 20:05:14 INFO mlflow.store.model_registry.abstract_store: Waiting up to 300 seconds for model version to finish creation. Model name: CC Fraud XGBoost Classifier, version 108\n",
      "Created version '108' of model 'CC Fraud XGBoost Classifier'.\n"
     ]
    },
    {
     "name": "stdout",
     "output_type": "stream",
     "text": [
      "🏃 View run XGBoost at: http://127.0.0.1:8768/#/experiments/1566/runs/b19d3f2ff4a943c7bbfe59bd5c7231b3\n",
      "🧪 View experiment at: http://127.0.0.1:8768/#/experiments/1566\n"
     ]
    },
    {
     "ename": "TypeError",
     "evalue": "train_and_log() missing 7 required positional arguments: 'df', 'X_train', 'X_val', 'y_train', 'y_val', 'features', and 'clean_filename'",
     "output_type": "error",
     "traceback": [
      "\u001b[0;31m---------------------------------------------------------------------------\u001b[0m",
      "\u001b[0;31mTypeError\u001b[0m                                 Traceback (most recent call last)",
      "Cell \u001b[0;32mIn[1], line 27\u001b[0m\n\u001b[1;32m     17\u001b[0m     train_fraud_gnb()\n\u001b[1;32m     19\u001b[0m     \u001b[38;5;66;03m# for model, name in model_list:\u001b[39;00m\n\u001b[1;32m     20\u001b[0m     \u001b[38;5;66;03m#     print(f'training model {name}')\u001b[39;00m\n\u001b[1;32m     21\u001b[0m     \u001b[38;5;66;03m#     train_and_log(\u001b[39;00m\n\u001b[0;32m   (...)\u001b[0m\n\u001b[1;32m     24\u001b[0m     \u001b[38;5;66;03m#         features, clean_filename\u001b[39;00m\n\u001b[1;32m     25\u001b[0m     \u001b[38;5;66;03m#     )\u001b[39;00m\n\u001b[0;32m---> 27\u001b[0m \u001b[43mtrain_fraud\u001b[49m\u001b[43m(\u001b[49m\u001b[43m)\u001b[49m\n",
      "Cell \u001b[0;32mIn[1], line 16\u001b[0m, in \u001b[0;36mtrain_fraud\u001b[0;34m()\u001b[0m\n\u001b[1;32m     13\u001b[0m mlflow\u001b[38;5;241m.\u001b[39mset_experiment(experiment_name)\n\u001b[1;32m     15\u001b[0m train_fraud_xgb()\n\u001b[0;32m---> 16\u001b[0m \u001b[43mtrain_fraud_ada\u001b[49m\u001b[43m(\u001b[49m\u001b[43m)\u001b[49m\n\u001b[1;32m     17\u001b[0m train_fraud_gnb()\n",
      "File \u001b[0;32m/mnt/code/flows/b_training_ada.py:13\u001b[0m, in \u001b[0;36mtrain_fraud_ada\u001b[0;34m(random_state)\u001b[0m\n\u001b[1;32m      5\u001b[0m model_obj \u001b[38;5;241m=\u001b[39m AdaBoostClassifier(\n\u001b[1;32m      6\u001b[0m     n_estimators\u001b[38;5;241m=\u001b[39m\u001b[38;5;241m10\u001b[39m,\n\u001b[1;32m      7\u001b[0m     learning_rate\u001b[38;5;241m=\u001b[39m\u001b[38;5;241m0.1\u001b[39m,\n\u001b[1;32m      8\u001b[0m     algorithm\u001b[38;5;241m=\u001b[39m\u001b[38;5;124m\"\u001b[39m\u001b[38;5;124mSAMME\u001b[39m\u001b[38;5;124m\"\u001b[39m,\n\u001b[1;32m      9\u001b[0m     random_state\u001b[38;5;241m=\u001b[39mrandom_state\n\u001b[1;32m     10\u001b[0m )\n\u001b[1;32m     12\u001b[0m model_name \u001b[38;5;241m=\u001b[39m \u001b[38;5;124m\"\u001b[39m\u001b[38;5;124mAdaBoost\u001b[39m\u001b[38;5;124m\"\u001b[39m\n\u001b[0;32m---> 13\u001b[0m \u001b[43mtrain_and_log\u001b[49m\u001b[43m(\u001b[49m\u001b[43mmodel_obj\u001b[49m\u001b[43m,\u001b[49m\u001b[43m \u001b[49m\u001b[43mmodel_name\u001b[49m\u001b[43m)\u001b[49m\n",
      "\u001b[0;31mTypeError\u001b[0m: train_and_log() missing 7 required positional arguments: 'df', 'X_train', 'X_val', 'y_train', 'y_val', 'features', and 'clean_filename'"
     ]
    }
   ],
   "source": [
    "import mlflow\n",
    "from flows.b_training_xgb import train_fraud_xgb\n",
    "from flows.b_training_ada import train_fraud_ada\n",
    "from flows.b_training_gnb import train_fraud_gnb\n",
    "from helpers.domino_short_id import domino_short_id\n",
    "\n",
    "\n",
    "def train_fraud():\n",
    "    clean_filename = 'preprocessing_processed_cc_transactions.csv'\n",
    "    experiment_name = f\"CC Fraud Classifier Training {domino_short_id()}\"\n",
    "    \n",
    "    # Set up experiment\n",
    "    mlflow.set_experiment(experiment_name)\n",
    "    \n",
    "    train_fraud_xgb()\n",
    "    train_fraud_ada()\n",
    "    train_fraud_gnb()\n",
    "    \n",
    "    # for model, name in model_list:\n",
    "    #     print(f'training model {name}')\n",
    "    #     train_and_log(\n",
    "    #         model, name,\n",
    "    #         df, X_train, X_val, y_train, y_val,\n",
    "    #         features, clean_filename\n",
    "    #     )\n",
    "\n",
    "train_fraud()\n"
   ]
  },
  {
   "cell_type": "code",
   "execution_count": null,
   "id": "d4238aef",
   "metadata": {},
   "outputs": [],
   "source": []
  }
 ],
 "metadata": {
  "kernelspec": {
   "display_name": "Python 3 (ipykernel)",
   "language": "python",
   "name": "python3"
  },
  "language_info": {
   "codemirror_mode": {
    "name": "ipython",
    "version": 3
   },
   "file_extension": ".py",
   "mimetype": "text/x-python",
   "name": "python",
   "nbconvert_exporter": "python",
   "pygments_lexer": "ipython3",
   "version": "3.10.14"
  }
 },
 "nbformat": 4,
 "nbformat_minor": 5
}
