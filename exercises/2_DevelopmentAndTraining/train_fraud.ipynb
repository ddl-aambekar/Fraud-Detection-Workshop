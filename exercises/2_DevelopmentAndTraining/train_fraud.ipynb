{
 "cells": [
  {
   "cell_type": "code",
   "execution_count": 1,
   "id": "1e892762",
   "metadata": {},
   "outputs": [
    {
     "name": "stdout",
     "output_type": "stream",
     "text": [
      "training model XGBoost\n"
     ]
    },
    {
     "name": "stderr",
     "output_type": "stream",
     "text": [
      "Registered model 'CC Fraud XGBoost Classifier' already exists. Creating a new version of this model...\n",
      "2025/07/01 16:20:05 INFO mlflow.store.model_registry.abstract_store: Waiting up to 300 seconds for model version to finish creation. Model name: CC Fraud XGBoost Classifier, version 107\n",
      "Created version '107' of model 'CC Fraud XGBoost Classifier'.\n"
     ]
    },
    {
     "name": "stdout",
     "output_type": "stream",
     "text": [
      "🏃 View run XGBoost at: http://127.0.0.1:8768/#/experiments/1566/runs/80a347f6487f4bc3bf920333a3eb4755\n",
      "🧪 View experiment at: http://127.0.0.1:8768/#/experiments/1566\n",
      "training model AdaBoost\n"
     ]
    },
    {
     "name": "stderr",
     "output_type": "stream",
     "text": [
      "/opt/conda/lib/python3.10/site-packages/sklearn/ensemble/_weight_boosting.py:527: FutureWarning: The SAMME.R algorithm (the default) is deprecated and will be removed in 1.6. Use the SAMME algorithm to circumvent this warning.\n",
      "  warnings.warn(\n",
      "Registered model 'CC Fraud AdaBoost Classifier' already exists. Creating a new version of this model...\n",
      "2025/07/01 16:20:14 INFO mlflow.store.model_registry.abstract_store: Waiting up to 300 seconds for model version to finish creation. Model name: CC Fraud AdaBoost Classifier, version 113\n",
      "Created version '113' of model 'CC Fraud AdaBoost Classifier'.\n"
     ]
    },
    {
     "name": "stdout",
     "output_type": "stream",
     "text": [
      "🏃 View run AdaBoost at: http://127.0.0.1:8768/#/experiments/1566/runs/ecbe1afba6764ee6b0fa37ae83f23e0f\n",
      "🧪 View experiment at: http://127.0.0.1:8768/#/experiments/1566\n",
      "training model NaiveBayes\n"
     ]
    },
    {
     "name": "stderr",
     "output_type": "stream",
     "text": [
      "Registered model 'CC Fraud NaiveBayes Classifier' already exists. Creating a new version of this model...\n",
      "2025/07/01 16:20:21 INFO mlflow.store.model_registry.abstract_store: Waiting up to 300 seconds for model version to finish creation. Model name: CC Fraud NaiveBayes Classifier, version 48\n",
      "Created version '48' of model 'CC Fraud NaiveBayes Classifier'.\n"
     ]
    },
    {
     "name": "stdout",
     "output_type": "stream",
     "text": [
      "🏃 View run NaiveBayes at: http://127.0.0.1:8768/#/experiments/1566/runs/a5a46557415248cbb3e988cb9c78745f\n",
      "🧪 View experiment at: http://127.0.0.1:8768/#/experiments/1566\n"
     ]
    }
   ],
   "source": [
    "import argparse\n",
    "import mlflow\n",
    "from fraud_trainer import load_data, train_and_log\n",
    "from helpers.domino_short_id import domino_short_id\n",
    "from sklearn.ensemble import AdaBoostClassifier\n",
    "from xgboost import XGBClassifier\n",
    "from sklearn.naive_bayes import GaussianNB\n",
    "\n",
    "\n",
    "def train_fraud():\n",
    "    # parser = argparse.ArgumentParser(description=\"Train fraud classifiers and log to MLflow\")\n",
    "    # parser.add_argument('--clean-filename', required=True, help='CSV file name under data/<project>')\n",
    "    # parser.add_argument('--model', choices=['xgb','ada','all'], default='all', help='Which model(s) to run')\n",
    "    # parser.add_argument('--experiment-name', default=\"CC Fraud Classifier Training\", help='MLflow experiment name')\n",
    "    # parser.add_argument('--random-state', type=int, default=2018)\n",
    "    # args = parser.parse_args()\n",
    "    clean_filename = 'preprocessing_processed_cc_transactions.csv'\n",
    "    experiment_name = f\"CC Fraud Classifier Training {domino_short_id()}\"\n",
    "    model = 'ada'\n",
    "    random_state = None\n",
    "    \n",
    "    # Set up experiment\n",
    "    mlflow.set_experiment(experiment_name)\n",
    "\n",
    "    # Load data once\n",
    "    df, X_train, X_val, y_train, y_val, features = load_data(\n",
    "        clean_filename,\n",
    "        random_state=random_state\n",
    "    )\n",
    "    \n",
    "    xgb = XGBClassifier(\n",
    "        n_estimators=200,\n",
    "        learning_rate=0.05,\n",
    "        max_depth=4,\n",
    "        subsample=0.8,\n",
    "        colsample_bytree=0.8,\n",
    "        use_label_encoder=False,\n",
    "        eval_metric=\"auc\",\n",
    "        random_state=random_state\n",
    "    )\n",
    "    \n",
    "    ada = AdaBoostClassifier(\n",
    "        n_estimators=10,\n",
    "        learning_rate=0.1,\n",
    "        random_state=random_state\n",
    "    )\n",
    "    \n",
    "    gnb = GaussianNB()\n",
    "\n",
    "    model_list = [\n",
    "        (xgb, 'XGBoost'),\n",
    "        (ada, 'AdaBoost'),\n",
    "        (gnb, 'NaiveBayes')\n",
    "    ]\n",
    "    \n",
    "    for model, name in model_list:\n",
    "        print(f'training model {name}')\n",
    "        train_and_log(\n",
    "            model, name,\n",
    "            df, X_train, X_val, y_train, y_val,\n",
    "            features, clean_filename\n",
    "        )\n",
    "\n",
    "for i in range(1):\n",
    "    train_fraud()\n"
   ]
  },
  {
   "cell_type": "code",
   "execution_count": null,
   "id": "f6d39e0d-4d61-4dc0-ba03-270cc66be9a3",
   "metadata": {},
   "outputs": [],
   "source": []
  }
 ],
 "metadata": {
  "kernelspec": {
   "display_name": "Python 3 (ipykernel)",
   "language": "python",
   "name": "python3"
  },
  "language_info": {
   "codemirror_mode": {
    "name": "ipython",
    "version": 3
   },
   "file_extension": ".py",
   "mimetype": "text/x-python",
   "name": "python",
   "nbconvert_exporter": "python",
   "pygments_lexer": "ipython3",
   "version": "3.10.14"
  }
 },
 "nbformat": 4,
 "nbformat_minor": 5
}
