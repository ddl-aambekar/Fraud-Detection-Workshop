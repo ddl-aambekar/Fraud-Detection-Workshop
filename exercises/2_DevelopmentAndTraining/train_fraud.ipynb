{
 "cells": [
  {
   "cell_type": "code",
   "execution_count": 1,
   "id": "1e892762",
   "metadata": {},
   "outputs": [
    {
     "name": "stdout",
     "output_type": "stream",
     "text": [
      "training model XGBoost\n"
     ]
    },
    {
     "name": "stderr",
     "output_type": "stream",
     "text": [
      "Registered model 'CC Fraud XGBoost Classifier' already exists. Creating a new version of this model...\n",
      "2025/07/01 20:07:28 INFO mlflow.store.model_registry.abstract_store: Waiting up to 300 seconds for model version to finish creation. Model name: CC Fraud XGBoost Classifier, version 109\n",
      "Created version '109' of model 'CC Fraud XGBoost Classifier'.\n"
     ]
    },
    {
     "name": "stdout",
     "output_type": "stream",
     "text": [
      "🏃 View run XGBoost at: http://127.0.0.1:8768/#/experiments/1566/runs/66647e94b2eb4bac9d923a4755173983\n",
      "🧪 View experiment at: http://127.0.0.1:8768/#/experiments/1566\n",
      "training model AdaBoost\n"
     ]
    },
    {
     "name": "stderr",
     "output_type": "stream",
     "text": [
      "Registered model 'CC Fraud AdaBoost Classifier' already exists. Creating a new version of this model...\n",
      "2025/07/01 20:07:36 INFO mlflow.store.model_registry.abstract_store: Waiting up to 300 seconds for model version to finish creation. Model name: CC Fraud AdaBoost Classifier, version 114\n",
      "Created version '114' of model 'CC Fraud AdaBoost Classifier'.\n"
     ]
    },
    {
     "name": "stdout",
     "output_type": "stream",
     "text": [
      "🏃 View run AdaBoost at: http://127.0.0.1:8768/#/experiments/1566/runs/30a2c54e53bb43b1af06ebe02d3bb648\n",
      "🧪 View experiment at: http://127.0.0.1:8768/#/experiments/1566\n",
      "training model NaiveBayes\n"
     ]
    },
    {
     "name": "stderr",
     "output_type": "stream",
     "text": [
      "Registered model 'CC Fraud NaiveBayes Classifier' already exists. Creating a new version of this model...\n",
      "2025/07/01 20:07:44 INFO mlflow.store.model_registry.abstract_store: Waiting up to 300 seconds for model version to finish creation. Model name: CC Fraud NaiveBayes Classifier, version 49\n",
      "Created version '49' of model 'CC Fraud NaiveBayes Classifier'.\n"
     ]
    },
    {
     "name": "stdout",
     "output_type": "stream",
     "text": [
      "🏃 View run NaiveBayes at: http://127.0.0.1:8768/#/experiments/1566/runs/663548e8eabe4b73b36b3c21d2c0074d\n",
      "🧪 View experiment at: http://127.0.0.1:8768/#/experiments/1566\n"
     ]
    }
   ],
   "source": [
    "import mlflow\n",
    "from flows.b_training_xgb import train_fraud_xgb\n",
    "from flows.b_training_ada import train_fraud_ada\n",
    "from flows.b_training_gnb import train_fraud_gnb\n",
    "from helpers.domino_short_id import domino_short_id\n",
    "\n",
    "\n",
    "def train_fraud():\n",
    "    clean_filename = 'preprocessing_processed_cc_transactions.csv'\n",
    "    experiment_name = f\"CC Fraud Classifier Training {domino_short_id()}\"\n",
    "    \n",
    "    # Set up experiment\n",
    "    mlflow.set_experiment(experiment_name)\n",
    "    \n",
    "    train_fraud_xgb()\n",
    "    train_fraud_ada()\n",
    "    train_fraud_gnb()\n",
    "    \n",
    "    # for model, name in model_list:\n",
    "    #     print(f'training model {name}')\n",
    "    #     train_and_log(\n",
    "    #         model, name,\n",
    "    #         df, X_train, X_val, y_train, y_val,\n",
    "    #         features, clean_filename\n",
    "    #     )\n",
    "\n",
    "train_fraud()\n"
   ]
  },
  {
   "cell_type": "code",
   "execution_count": null,
   "id": "d4238aef",
   "metadata": {},
   "outputs": [],
   "source": []
  }
 ],
 "metadata": {
  "kernelspec": {
   "display_name": "Python 3 (ipykernel)",
   "language": "python",
   "name": "python3"
  },
  "language_info": {
   "codemirror_mode": {
    "name": "ipython",
    "version": 3
   },
   "file_extension": ".py",
   "mimetype": "text/x-python",
   "name": "python",
   "nbconvert_exporter": "python",
   "pygments_lexer": "ipython3",
   "version": "3.10.14"
  }
 },
 "nbformat": 4,
 "nbformat_minor": 5
}
