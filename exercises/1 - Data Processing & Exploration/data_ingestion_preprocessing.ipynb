{
 "cells": [
  {
   "cell_type": "code",
   "execution_count": 5,
   "id": "bf2b1218-f752-4e49-b0f6-95f2ac8b8323",
   "metadata": {},
   "outputs": [
    {
     "name": "stderr",
     "output_type": "stream",
     "text": [
      "/tmp/ipykernel_388/3550456014.py:19: DtypeWarning: Columns (0,1,2,3,4,5,6,7,8,9,10,11,12,13,14,15,16,17,18,19,20,21,22,23,24,25,26,27,28,29,30) have mixed types. Specify dtype option on import or set low_memory=False.\n",
      "  df_raw = pd.read_csv(buf)\n"
     ]
    },
    {
     "name": "stdout",
     "output_type": "stream",
     "text": [
      "  Time RelSpend-Z   dTime-Z GeoJump-Z Log-Amount POS-ModeRisk  MCC-Risk  \\\n",
      "0  0.0  -1.359807 -0.072781  2.536347   1.378155    -0.338321  0.462388   \n",
      "1  0.0   1.191857  0.266151   0.16648   0.448154     0.060018 -0.082361   \n",
      "2  1.0  -1.358354 -1.340163  1.773209    0.37978    -0.503198  1.800499   \n",
      "3  1.0  -0.966272 -0.185226  1.792993  -0.863291    -0.010309  1.247203   \n",
      "4  2.0  -1.158233  0.877737  1.548718   0.403034    -0.407193  0.095921   \n",
      "\n",
      "  Device-Risk  Lon-Jump  Lat-Jump  ...  TxnSim-3 RollSpend-24h RollSpend-7d  \\\n",
      "0    0.239599  0.098698  0.363787  ... -0.018307      0.277838    -0.110474   \n",
      "1   -0.078803  0.085102 -0.255425  ... -0.225775     -0.638672     0.101288   \n",
      "2    0.791461  0.247676 -1.514654  ...  0.247998      0.771679     0.909412   \n",
      "3    0.237609  0.377436 -1.387024  ...   -0.1083      0.005274    -0.190321   \n",
      "4    0.592941 -0.270533  0.817739  ... -0.009431      0.798278    -0.137458   \n",
      "\n",
      "  RollSpend-30d  SoftBL-1  SoftBL-2 Manual-Review Chargeback-Flag  Amount  \\\n",
      "0      0.066928  0.128539 -0.189115      0.133558       -0.021053  149.62   \n",
      "1     -0.339846   0.16717  0.125895     -0.008983        0.014724    2.69   \n",
      "2     -0.689281 -0.327642 -0.139097     -0.055353       -0.059752  378.66   \n",
      "3     -1.175575  0.647376 -0.221929      0.062723        0.061458   123.5   \n",
      "4      0.141267  -0.20601  0.502292      0.219422        0.215153   69.99   \n",
      "\n",
      "  Class  \n",
      "0     0  \n",
      "1     0  \n",
      "2     0  \n",
      "3     0  \n",
      "4     0  \n",
      "\n",
      "[5 rows x 31 columns]\n"
     ]
    },
    {
     "ename": "NameError",
     "evalue": "name 'dataset_name' is not defined",
     "output_type": "error",
     "traceback": [
      "\u001b[0;31m---------------------------------------------------------------------------\u001b[0m",
      "\u001b[0;31mNameError\u001b[0m                                 Traceback (most recent call last)",
      "Cell \u001b[0;32mIn[5], line 46\u001b[0m\n\u001b[1;32m     43\u001b[0m raw_filename \u001b[38;5;241m=\u001b[39m \u001b[38;5;124m'\u001b[39m\u001b[38;5;124mraw_cc_transaction_rolling_2d_window.csv\u001b[39m\u001b[38;5;124m'\u001b[39m\n\u001b[1;32m     44\u001b[0m clean_filename \u001b[38;5;241m=\u001b[39m \u001b[38;5;124m'\u001b[39m\u001b[38;5;124m[PATH HERE]/cleaned_cc_transaction_rolling_2d_window.csv\u001b[39m\u001b[38;5;124m'\u001b[39m\n\u001b[0;32m---> 46\u001b[0m \u001b[43mclean_and_save_cc_file\u001b[49m\u001b[43m(\u001b[49m\u001b[43mraw_filename\u001b[49m\u001b[43m,\u001b[49m\u001b[43m \u001b[49m\u001b[43mclean_filename\u001b[49m\u001b[43m)\u001b[49m\n",
      "Cell \u001b[0;32mIn[5], line 36\u001b[0m, in \u001b[0;36mclean_and_save_cc_file\u001b[0;34m(raw_filename, clean_filename)\u001b[0m\n\u001b[1;32m     33\u001b[0m clean_buf\u001b[38;5;241m.\u001b[39mseek(\u001b[38;5;241m0\u001b[39m)\n\u001b[1;32m     35\u001b[0m \u001b[38;5;66;03m# Upload to Dataset\u001b[39;00m\n\u001b[0;32m---> 36\u001b[0m dataset \u001b[38;5;241m=\u001b[39m DatasetClient()\u001b[38;5;241m.\u001b[39mget_dataset(\u001b[43mdataset_name\u001b[49m)\n\u001b[1;32m     37\u001b[0m dataset\u001b[38;5;241m.\u001b[39mupload_fileobj(clean_filename, clean_buf)\n\u001b[1;32m     39\u001b[0m \u001b[38;5;66;03m# df_cleaned.to_csv(clean_file, index=False)\u001b[39;00m\n",
      "\u001b[0;31mNameError\u001b[0m: name 'dataset_name' is not defined"
     ]
    }
   ],
   "source": [
    "import pandas as pd\n",
    "import io\n",
    "import mlflow\n",
    "\n",
    "from domino.data_sources import DataSourceClient\n",
    "from domino_data.datasets import DatasetClient\n",
    "\n",
    "\n",
    "def clean_and_save_cc_file(raw_filename: str, clean_filename: str):\n",
    "    # Load with force numeric, bad values → NaN\n",
    "    object_store = DataSourceClient().get_datasource(\"credit_card_fraud_detection\")\n",
    "    \n",
    "    # Stream to in-memory buffer\n",
    "    buf = io.BytesIO()\n",
    "    object_store.download_fileobj(raw_filename, buf)\n",
    "    buf.seek(0)\n",
    "    \n",
    "    # Read into DataFrame in-memory\n",
    "    df_raw = pd.read_csv(buf)\n",
    "    \n",
    "    print(df_raw.head())\n",
    "\n",
    "    # Coerce all columns to numeric, invalid strings become NaN\n",
    "    df_numeric = df_raw.apply(pd.to_numeric, errors='coerce')\n",
    "\n",
    "    # Keep rows with no NaN anywhere\n",
    "    mask = df_numeric.notna().all(axis=1)\n",
    "    df_cleaned = df_numeric[mask]\n",
    "\n",
    "    # Convert back to in-memory buffer\n",
    "    clean_buf = io.BytesIO()\n",
    "    df_cleaned.to_csv(clean_buf, index=False)\n",
    "    clean_buf.seek(0)\n",
    "\n",
    "    # Upload to Dataset\n",
    "    dataset = DatasetClient().get_dataset(dataset_name)\n",
    "    dataset.upload_fileobj(clean_filename, clean_buf)\n",
    "\n",
    "    # df_cleaned.to_csv(clean_file, index=False)\n",
    "    print(f\"✅ Cleaned data saved to: {clean_filename}. Removed {len(df_raw) - len(df_cleaned)} rows\")\n",
    "    # TODO get this to save to a dataset\n",
    "\n",
    "raw_filename = 'raw_cc_transaction_rolling_2d_window.csv'\n",
    "clean_filename = '[PATH HERE]/cleaned_cc_transaction_rolling_2d_window.csv'\n",
    "\n",
    "clean_and_save_cc_file(raw_filename, clean_filename)\n",
    "\n"
   ]
  },
  {
   "cell_type": "code",
   "execution_count": null,
   "id": "c99468e3-e6bf-49c3-aa91-dfefc455ffd9",
   "metadata": {},
   "outputs": [],
   "source": []
  }
 ],
 "metadata": {
  "kernelspec": {
   "display_name": "Python 3 (ipykernel)",
   "language": "python",
   "name": "python3"
  },
  "language_info": {
   "codemirror_mode": {
    "name": "ipython",
    "version": 3
   },
   "file_extension": ".py",
   "mimetype": "text/x-python",
   "name": "python",
   "nbconvert_exporter": "python",
   "pygments_lexer": "ipython3",
   "version": "3.10.14"
  }
 },
 "nbformat": 4,
 "nbformat_minor": 5
}
