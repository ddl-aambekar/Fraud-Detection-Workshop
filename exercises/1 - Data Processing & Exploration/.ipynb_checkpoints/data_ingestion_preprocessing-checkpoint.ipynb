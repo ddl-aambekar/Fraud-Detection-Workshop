{
 "cells": [
  {
   "cell_type": "code",
   "execution_count": 1,
   "id": "bf2b1218-f752-4e49-b0f6-95f2ac8b8323",
   "metadata": {},
   "outputs": [],
   "source": [
    "# TODO Change this so that it reads from the s3 data source\n",
    "\n",
    "# import pandas as pd\n",
    "# from pathlib import Path\n",
    "# import mlflow\n",
    "\n",
    "# def clean_cc_file(dirty_file: Path, clean_file: Path):\n",
    "#     # Load with force numeric, bad values → NaN\n",
    "#     df_dirty = pd.read_csv(dirty_file, dtype=str)\n",
    "\n",
    "#     # Coerce all columns to numeric, invalid strings become NaN\n",
    "#     df_numeric = df_dirty.apply(pd.to_numeric, errors='coerce')\n",
    "\n",
    "#     # Keep rows with no NaN anywhere\n",
    "#     mask = df_numeric.notna().all(axis=1)\n",
    "#     df_cleaned = df_numeric[mask]\n",
    "\n",
    "#     df_cleaned.to_csv(clean_file, index=False)\n",
    "#     print(f\"✅ Cleaned data saved to: {clean_file}. Removed {len(df_dirty) - len(df_cleaned)} rows\")\n",
    "\n",
    "# dirty_file = Path(\"../data/fsi-credit-fraud-demo/raw_cc_transaction_rolling_2d_window.csv\")\n",
    "# clean_file = Path(\"../data/fsi-credit-fraud-demo/cleaned_cc_transaction_rolling_2d_window.csv\")\n",
    "\n",
    "# clean_cc_file(dirty_file, clean_file)\n"
   ]
  },
  {
   "cell_type": "code",
   "execution_count": null,
   "id": "c99468e3-e6bf-49c3-aa91-dfefc455ffd9",
   "metadata": {},
   "outputs": [],
   "source": []
  }
 ],
 "metadata": {
  "kernelspec": {
   "display_name": "Python 3 (ipykernel)",
   "language": "python",
   "name": "python3"
  },
  "language_info": {
   "codemirror_mode": {
    "name": "ipython",
    "version": 3
   },
   "file_extension": ".py",
   "mimetype": "text/x-python",
   "name": "python",
   "nbconvert_exporter": "python",
   "pygments_lexer": "ipython3",
   "version": "3.10.14"
  }
 },
 "nbformat": 4,
 "nbformat_minor": 5
}
