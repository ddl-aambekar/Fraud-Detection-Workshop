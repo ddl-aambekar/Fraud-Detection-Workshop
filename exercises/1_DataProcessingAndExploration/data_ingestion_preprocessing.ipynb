{
 "cells": [
  {
   "cell_type": "code",
   "execution_count": 5,
   "id": "e2a70c71",
   "metadata": {},
   "outputs": [
    {
     "name": "stderr",
     "output_type": "stream",
     "text": [
      "2025/07/01 20:32:26 INFO mlflow.tracking.fluent: Experiment with name 'CC Fraud Preprocessing nick_goble_Q0lHKulx' does not exist. Creating a new experiment.\n"
     ]
    },
    {
     "name": "stdout",
     "output_type": "stream",
     "text": [
      "🔍 Loaded 78,324 rows from raw_cc_transactions.csv\n",
      "🧹 Dropped 1,114 rows with missing data\n",
      "✅ Saved preprocessing_features_processed.npy and preprocessing_feature_labels.csv for downstream modeling\n"
     ]
    },
    {
     "name": "stderr",
     "output_type": "stream",
     "text": [
      "2025/07/01 20:32:31 WARNING mlflow.sklearn: Model was missing function: predict. Not logging python_function flavor!\n",
      "Registered model 'CC Fraud Preprocessing' already exists. Creating a new version of this model...\n",
      "2025/07/01 20:32:35 INFO mlflow.store.model_registry.abstract_store: Waiting up to 300 seconds for model version to finish creation. Model name: CC Fraud Preprocessing, version 27\n",
      "Created version '27' of model 'CC Fraud Preprocessing'.\n"
     ]
    },
    {
     "data": {
      "application/vnd.jupyter.widget-view+json": {
       "model_id": "4dc928c326294ab28fa3e1e370eec351",
       "version_major": 2,
       "version_minor": 0
      },
      "text/plain": [
       "Summarize dataset:   0%|          | 0/5 [00:00<?, ?it/s]"
      ]
     },
     "metadata": {},
     "output_type": "display_data"
    },
    {
     "name": "stderr",
     "output_type": "stream",
     "text": [
      "100%|█████████████████████████████████████████████████████████████████████████████████████████████████████| 19/19 [00:00<00:00, 39.08it/s]\n"
     ]
    },
    {
     "data": {
      "application/vnd.jupyter.widget-view+json": {
       "model_id": "849a009e029147559f96dd27be550379",
       "version_major": 2,
       "version_minor": 0
      },
      "text/plain": [
       "Generate report structure:   0%|          | 0/1 [00:00<?, ?it/s]"
      ]
     },
     "metadata": {},
     "output_type": "display_data"
    },
    {
     "data": {
      "application/vnd.jupyter.widget-view+json": {
       "model_id": "93237a32708e47d6802c7929520bdbd3",
       "version_major": 2,
       "version_minor": 0
      },
      "text/plain": [
       "Render HTML:   0%|          | 0/1 [00:00<?, ?it/s]"
      ]
     },
     "metadata": {},
     "output_type": "display_data"
    },
    {
     "data": {
      "application/vnd.jupyter.widget-view+json": {
       "model_id": "24055ceb61664a29b9ac25dcaa884583",
       "version_major": 2,
       "version_minor": 0
      },
      "text/plain": [
       "Export report to file:   0%|          | 0/1 [00:00<?, ?it/s]"
      ]
     },
     "metadata": {},
     "output_type": "display_data"
    },
    {
     "name": "stdout",
     "output_type": "stream",
     "text": [
      "🏃 View run Preprocessing Pipeline at: http://127.0.0.1:8768/#/experiments/1571/runs/24587c1181824fbfb44147c225a7c54c\n",
      "🧪 View experiment at: http://127.0.0.1:8768/#/experiments/1571\n"
     ]
    }
   ],
   "source": [
    "from flows.a_preprocessing import run_data_ingestion_and_processing\n",
    "from helpers.domino_short_id import domino_short_id\n",
    "\n",
    "raw_filename = \"raw_cc_transactions.csv\"\n",
    "clean_filename = \"preprocessing_processed_cc_transactions.csv\"\n",
    "experiment_name = f\"CC Fraud Preprocessing {domino_short_id()}\"\n",
    "\n",
    "raw_df, features_processed, y = run_data_ingestion_and_processing(\n",
    "    raw_filename=raw_filename,\n",
    "    clean_filename=clean_filename,\n",
    "    experiment_name=experiment_name\n",
    ")"
   ]
  },
  {
   "cell_type": "code",
   "execution_count": null,
   "id": "e1e7bda9",
   "metadata": {},
   "outputs": [],
   "source": []
  }
 ],
 "metadata": {
  "kernelspec": {
   "display_name": "Python 3 (ipykernel)",
   "language": "python",
   "name": "python3"
  },
  "language_info": {
   "codemirror_mode": {
    "name": "ipython",
    "version": 3
   },
   "file_extension": ".py",
   "mimetype": "text/x-python",
   "name": "python",
   "nbconvert_exporter": "python",
   "pygments_lexer": "ipython3",
   "version": "3.10.14"
  }
 },
 "nbformat": 4,
 "nbformat_minor": 5
}
