{
 "cells": [
  {
   "cell_type": "code",
   "execution_count": 6,
   "id": "e2a70c71",
   "metadata": {},
   "outputs": [
    {
     "name": "stdout",
     "output_type": "stream",
     "text": [
      "🔍 Loaded 78,324 rows from raw_cc_transactions.csv\n",
      "🧹 Dropped 1,114 rows with missing data\n",
      "✅ Saved preprocessing_features_processed.npy and preprocessing_feature_labels.csv for downstream modeling\n"
     ]
    },
    {
     "name": "stderr",
     "output_type": "stream",
     "text": [
      "2025/07/01 20:34:11 WARNING mlflow.sklearn: Model was missing function: predict. Not logging python_function flavor!\n",
      "Registered model 'CC Fraud Preprocessing' already exists. Creating a new version of this model...\n",
      "2025/07/01 20:34:15 INFO mlflow.store.model_registry.abstract_store: Waiting up to 300 seconds for model version to finish creation. Model name: CC Fraud Preprocessing, version 28\n",
      "Created version '28' of model 'CC Fraud Preprocessing'.\n"
     ]
    },
    {
     "data": {
      "application/vnd.jupyter.widget-view+json": {
       "model_id": "52e93c6d89e940a3848382780808ad6d",
       "version_major": 2,
       "version_minor": 0
      },
      "text/plain": [
       "Summarize dataset:   0%|          | 0/5 [00:00<?, ?it/s]"
      ]
     },
     "metadata": {},
     "output_type": "display_data"
    },
    {
     "name": "stderr",
     "output_type": "stream",
     "text": [
      "100%|█████████████████████████████████████████████████████████████████████████████████████████████████████| 19/19 [00:00<00:00, 36.31it/s]\n"
     ]
    },
    {
     "data": {
      "application/vnd.jupyter.widget-view+json": {
       "model_id": "8e76c0fe796f42fb8008d5750f478f7b",
       "version_major": 2,
       "version_minor": 0
      },
      "text/plain": [
       "Generate report structure:   0%|          | 0/1 [00:00<?, ?it/s]"
      ]
     },
     "metadata": {},
     "output_type": "display_data"
    },
    {
     "data": {
      "application/vnd.jupyter.widget-view+json": {
       "model_id": "4e5f3338231c4aa4b7d8400d6a0f08c0",
       "version_major": 2,
       "version_minor": 0
      },
      "text/plain": [
       "Render HTML:   0%|          | 0/1 [00:00<?, ?it/s]"
      ]
     },
     "metadata": {},
     "output_type": "display_data"
    },
    {
     "data": {
      "application/vnd.jupyter.widget-view+json": {
       "model_id": "8361532bfe6a4868a6255d5d695aef21",
       "version_major": 2,
       "version_minor": 0
      },
      "text/plain": [
       "Export report to file:   0%|          | 0/1 [00:00<?, ?it/s]"
      ]
     },
     "metadata": {},
     "output_type": "display_data"
    },
    {
     "name": "stdout",
     "output_type": "stream",
     "text": [
      "🏃 View run Preprocessing Pipeline at: http://127.0.0.1:8768/#/experiments/1571/runs/9e54c0921905490d8b9c894f7a16a7f7\n",
      "🧪 View experiment at: http://127.0.0.1:8768/#/experiments/1571\n"
     ]
    }
   ],
   "source": [
    "from flows.a_preprocessing import run_data_ingestion_and_processing\n",
    "from helpers.domino_short_id import domino_short_id\n",
    "\n",
    "raw_filename = \"raw_cc_transactions.csv\"\n",
    "clean_filename = \"preprocessing_processed_cc_transactions.csv\"\n",
    "experiment_name = f\"CC Fraud Preprocessing {domino_short_id()}\"\n",
    "\n",
    "raw_df, features_processed, y = run_data_ingestion_and_processing(\n",
    "    raw_filename=raw_filename,\n",
    "    clean_filename=clean_filename,\n",
    "    experiment_name=experiment_name\n",
    ")"
   ]
  },
  {
   "cell_type": "code",
   "execution_count": null,
   "id": "e1e7bda9",
   "metadata": {},
   "outputs": [],
   "source": []
  }
 ],
 "metadata": {
  "kernelspec": {
   "display_name": "Python 3 (ipykernel)",
   "language": "python",
   "name": "python3"
  }
 },
 "nbformat": 4,
 "nbformat_minor": 5
}
