{
 "cells": [
  {
   "cell_type": "code",
   "execution_count": 2,
   "id": "e2a70c71",
   "metadata": {},
   "outputs": [
    {
     "data": {
      "text/html": [
       "\n",
       "            <div>\n",
       "                <ins><a href=\"https://ydata.ai/register\">Upgrade to ydata-sdk</a></ins>\n",
       "                <p>\n",
       "                    Improve your data and profiling with ydata-sdk, featuring data quality scoring, redundancy detection, outlier identification, text validation, and synthetic data generation.\n",
       "                </p>\n",
       "            </div>\n",
       "            "
      ],
      "text/plain": [
       "<IPython.core.display.HTML object>"
      ]
     },
     "metadata": {},
     "output_type": "display_data"
    },
    {
     "name": "stdout",
     "output_type": "stream",
     "text": [
      "🔍 Loaded 78,324 rows from raw_cc_transactions.csv\n",
      "🧹 Dropped 1,114 rows with missing data (1.42%)\n",
      "📊 Features: 12 numeric, 4 categorical\n",
      "⚡ Pipeline fit/transform completed in 0.07 seconds\n",
      "✅ Saved processed data:\n",
      "   - Features: /mnt/data/Fraud-Detection-Workshop/preprocessing_features_processed.npy\n",
      "   - Labels: /mnt/data/Fraud-Detection-Workshop/preprocessing_feature_labels.csv\n",
      "   - Clean data: /mnt/data/Fraud-Detection-Workshop/preprocessing_processed_cc_transactions.csv\n",
      "📊 Generated visualizations:\n",
      "   - Correlation matrix: /mnt/artifacts/raw_correlation_matrix.png\n",
      "   - Scatter plots: /mnt/artifacts/raw_scatter_plots.png\n"
     ]
    },
    {
     "name": "stderr",
     "output_type": "stream",
     "text": [
      "/opt/conda/lib/python3.10/site-packages/ydata_profiling/utils/dataframe.py:137: SettingWithCopyWarning: \n",
      "A value is trying to be set on a copy of a slice from a DataFrame\n",
      "\n",
      "See the caveats in the documentation: https://pandas.pydata.org/pandas-docs/stable/user_guide/indexing.html#returning-a-view-versus-a-copy\n",
      "  df.rename(columns={\"index\": \"df_index\"}, inplace=True)\n"
     ]
    },
    {
     "data": {
      "application/vnd.jupyter.widget-view+json": {
       "model_id": "32e9949e53fe4b91b46962be5f58a16d",
       "version_major": 2,
       "version_minor": 0
      },
      "text/plain": [
       "Summarize dataset:   0%|          | 0/5 [00:00<?, ?it/s]"
      ]
     },
     "metadata": {},
     "output_type": "display_data"
    },
    {
     "name": "stderr",
     "output_type": "stream",
     "text": [
      "\n",
      "  0%|          | 0/19 [00:00<?, ?it/s]\u001b[A\n",
      "  5%|▌         | 1/19 [00:00<00:02,  6.38it/s]\u001b[A\n",
      " 26%|██▋       | 5/19 [00:00<00:00, 15.18it/s]\u001b[A\n",
      "100%|██████████| 19/19 [00:00<00:00, 37.41it/s]\u001b[A\n"
     ]
    },
    {
     "data": {
      "application/vnd.jupyter.widget-view+json": {
       "model_id": "42500fdc8e464380ba8bee3012984031",
       "version_major": 2,
       "version_minor": 0
      },
      "text/plain": [
       "Generate report structure:   0%|          | 0/1 [00:00<?, ?it/s]"
      ]
     },
     "metadata": {},
     "output_type": "display_data"
    },
    {
     "data": {
      "application/vnd.jupyter.widget-view+json": {
       "model_id": "490823dec75e4b1da4b697cd82434f8f",
       "version_major": 2,
       "version_minor": 0
      },
      "text/plain": [
       "Render HTML:   0%|          | 0/1 [00:00<?, ?it/s]"
      ]
     },
     "metadata": {},
     "output_type": "display_data"
    },
    {
     "data": {
      "application/vnd.jupyter.widget-view+json": {
       "model_id": "3ff0a93fc34a4526ad613e5f970c8648",
       "version_major": 2,
       "version_minor": 0
      },
      "text/plain": [
       "Export report to file:   0%|          | 0/1 [00:00<?, ?it/s]"
      ]
     },
     "metadata": {},
     "output_type": "display_data"
    },
    {
     "name": "stdout",
     "output_type": "stream",
     "text": [
      "📄 Generated EDA report: /mnt/artifacts/preprocessing_report.html\n"
     ]
    },
    {
     "name": "stderr",
     "output_type": "stream",
     "text": [
      "2025/07/03 15:28:30 WARNING mlflow.sklearn: Model was missing function: predict. Not logging python_function flavor!\n",
      "Registered model 'CC Fraud Preprocessing' already exists. Creating a new version of this model...\n",
      "2025/07/03 15:28:43 INFO mlflow.store.model_registry.abstract_store: Waiting up to 300 seconds for model version to finish creation. Model name: CC Fraud Preprocessing, version 41\n",
      "Created version '41' of model 'CC Fraud Preprocessing'.\n"
     ]
    },
    {
     "name": "stdout",
     "output_type": "stream",
     "text": [
      "📝 Logged all artifacts to MLflow\n",
      "✅ Pipeline completed successfully!\n",
      "🏃 View run Preprocessing Pipeline at: http://127.0.0.1:8768/#/experiments/1571/runs/0dad41a54d5b40b887a9d0d9f7cff35c\n",
      "🧪 View experiment at: http://127.0.0.1:8768/#/experiments/1571\n",
      "\n",
      "🎉 Processing complete!\n",
      "   Features: /mnt/data/Fraud-Detection-Workshop/preprocessing_features_processed.npy\n",
      "   Labels: /mnt/data/Fraud-Detection-Workshop/preprocessing_feature_labels.csv\n",
      "   Clean data: /mnt/data/Fraud-Detection-Workshop/preprocessing_processed_cc_transactions.csv\n"
     ]
    }
   ],
   "source": [
    "from flows.a_preprocessing_old import run_data_ingestion_and_processing\n",
    "from helpers.domino_short_id import domino_short_id\n",
    "\n",
    "# Configuration\n",
    "raw_filename = \"raw_cc_transactions.csv\"  # Fixed: removed trailing comma\n",
    "clean_filename = \"preprocessing_processed_cc_transactions.csv\"\n",
    "experiment_name = f\"CC Fraud Preprocessing {domino_short_id()}\"\n",
    "\n",
    "# Run the pipeline\n",
    "try:\n",
    "    features_path, labels_path, clean_path = run_data_ingestion_and_processing(\n",
    "        raw_filename=raw_filename,\n",
    "        clean_filename=clean_filename,\n",
    "        experiment_name=experiment_name\n",
    "    )\n",
    "    print(f\"\\n🎉 Processing complete!\")\n",
    "    print(f\"   Features: {features_path}\")\n",
    "    print(f\"   Labels: {labels_path}\")\n",
    "    print(f\"   Clean data: {clean_path}\")\n",
    "    \n",
    "except Exception as e:\n",
    "    print(f\"❌ Pipeline failed: {str(e)}\")\n",
    "    raise"
   ]
  },
  {
   "cell_type": "code",
   "execution_count": null,
   "id": "e1e7bda9",
   "metadata": {},
   "outputs": [],
   "source": []
  }
 ],
 "metadata": {
  "kernelspec": {
   "display_name": "Python 3 (ipykernel)",
   "language": "python",
   "name": "python3"
  },
  "language_info": {
   "codemirror_mode": {
    "name": "ipython",
    "version": 3
   },
   "file_extension": ".py",
   "mimetype": "text/x-python",
   "name": "python",
   "nbconvert_exporter": "python",
   "pygments_lexer": "ipython3",
   "version": "3.10.14"
  }
 },
 "nbformat": 4,
 "nbformat_minor": 5
}
