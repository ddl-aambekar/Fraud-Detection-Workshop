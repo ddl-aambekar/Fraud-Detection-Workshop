{
 "cells": [
  {
   "cell_type": "code",
   "execution_count": 2,
   "id": "e2a70c71",
   "metadata": {},
   "outputs": [
    {
     "name": "stdout",
     "output_type": "stream",
     "text": [
      "🔍 Loaded 78,324 rows from raw_cc_transactions.csv\n",
      "🧹 Dropped 2 rows with missing data (1.96%)\n",
      "📊 Features: 12 numeric, 4 categorical\n",
      "⚡ Pipeline fit/transform completed in 0.01 seconds\n",
      "✅ Saved processed data:\n",
      "   - Features: /mnt/data/Fraud-Detection-Workshop/preprocessing_features_processed.npy\n",
      "   - Labels: /mnt/data/Fraud-Detection-Workshop/preprocessing_feature_labels.csv\n",
      "   - Clean data: /mnt/data/Fraud-Detection-Workshop/preprocessing_processed_cc_transactions.csv\n",
      "📝 Wrote file to /mnt/data/Fraud-Detection-Workshop/test_file_20250704145050.csv\n"
     ]
    },
    {
     "name": "stderr",
     "output_type": "stream",
     "text": [
      "/opt/conda/lib/python3.10/site-packages/pandas/plotting/_matplotlib/misc.py:100: UserWarning: Attempting to set identical low and high xlims makes transformation singular; automatically expanding.\n",
      "  ax.set_xlim(boundaries_list[j])\n",
      "/opt/conda/lib/python3.10/site-packages/pandas/plotting/_matplotlib/misc.py:101: UserWarning: Attempting to set identical low and high ylims makes transformation singular; automatically expanding.\n",
      "  ax.set_ylim(boundaries_list[i])\n",
      "/opt/conda/lib/python3.10/site-packages/pandas/plotting/_matplotlib/misc.py:91: UserWarning: Attempting to set identical low and high xlims makes transformation singular; automatically expanding.\n",
      "  ax.set_xlim(boundaries_list[i])\n"
     ]
    },
    {
     "name": "stdout",
     "output_type": "stream",
     "text": [
      "📊 Generated visualizations:\n",
      "   - Correlation matrix: /mnt/artifacts/raw_correlation_matrix.png\n",
      "   - Scatter plots: /mnt/artifacts/raw_scatter_plots.png\n"
     ]
    },
    {
     "name": "stderr",
     "output_type": "stream",
     "text": [
      "/opt/conda/lib/python3.10/site-packages/ydata_profiling/utils/dataframe.py:137: SettingWithCopyWarning: \n",
      "A value is trying to be set on a copy of a slice from a DataFrame\n",
      "\n",
      "See the caveats in the documentation: https://pandas.pydata.org/pandas-docs/stable/user_guide/indexing.html#returning-a-view-versus-a-copy\n",
      "  df.rename(columns={\"index\": \"df_index\"}, inplace=True)\n"
     ]
    },
    {
     "data": {
      "application/vnd.jupyter.widget-view+json": {
       "model_id": "f67357b3c95b47958156d416b717048a",
       "version_major": 2,
       "version_minor": 0
      },
      "text/plain": [
       "Summarize dataset:   0%|          | 0/5 [00:00<?, ?it/s]"
      ]
     },
     "metadata": {},
     "output_type": "display_data"
    },
    {
     "name": "stderr",
     "output_type": "stream",
     "text": [
      "\n",
      "100%|██████████| 19/19 [00:00<00:00, 208617.21it/s]\n"
     ]
    },
    {
     "data": {
      "application/vnd.jupyter.widget-view+json": {
       "model_id": "4a57403822bf41068178a23f774a0612",
       "version_major": 2,
       "version_minor": 0
      },
      "text/plain": [
       "Generate report structure:   0%|          | 0/1 [00:00<?, ?it/s]"
      ]
     },
     "metadata": {},
     "output_type": "display_data"
    },
    {
     "data": {
      "application/vnd.jupyter.widget-view+json": {
       "model_id": "099935b113704db7ad9221520d8ece15",
       "version_major": 2,
       "version_minor": 0
      },
      "text/plain": [
       "Render HTML:   0%|          | 0/1 [00:00<?, ?it/s]"
      ]
     },
     "metadata": {},
     "output_type": "display_data"
    },
    {
     "data": {
      "application/vnd.jupyter.widget-view+json": {
       "model_id": "13f99e1a79e24881b51cea521d752cda",
       "version_major": 2,
       "version_minor": 0
      },
      "text/plain": [
       "Export report to file:   0%|          | 0/1 [00:00<?, ?it/s]"
      ]
     },
     "metadata": {},
     "output_type": "display_data"
    },
    {
     "name": "stdout",
     "output_type": "stream",
     "text": [
      "📄 Generated EDA report: /mnt/artifacts/preprocessing_report.html\n"
     ]
    },
    {
     "name": "stderr",
     "output_type": "stream",
     "text": [
      "2025/07/04 14:51:05 WARNING mlflow.sklearn: Model was missing function: predict. Not logging python_function flavor!\n",
      "Registered model 'CC Fraud Preprocessing' already exists. Creating a new version of this model...\n",
      "2025/07/04 14:51:08 INFO mlflow.store.model_registry.abstract_store: Waiting up to 300 seconds for model version to finish creation. Model name: CC Fraud Preprocessing, version 84\n",
      "Created version '84' of model 'CC Fraud Preprocessing'.\n"
     ]
    },
    {
     "name": "stdout",
     "output_type": "stream",
     "text": [
      "📝 Logged all artifacts to MLflow\n",
      "✅ Pipeline completed successfully!\n",
      "🏃 View run Preprocessing Pipeline at: http://127.0.0.1:8768/#/experiments/1571/runs/84b3cd80adda49f294f76917b6994fda\n",
      "🧪 View experiment at: http://127.0.0.1:8768/#/experiments/1571\n",
      "\n",
      "🎉 Processing complete!\n",
      "   Features: /mnt/data/Fraud-Detection-Workshop/preprocessing_features_processed.npy\n",
      "   Labels: /mnt/data/Fraud-Detection-Workshop/preprocessing_feature_labels.csv\n",
      "   Clean data: /mnt/data/Fraud-Detection-Workshop/preprocessing_processed_cc_transactions.csv\n",
      "   Clean data (head):      Amount       Age    Tenure  MerchantRisk  DeviceTrust    Txn24h  \\\n",
      "0 -0.232650  0.569735 -0.205172      0.795911     1.182233 -0.127506   \n",
      "1 -0.127340  0.409791 -0.352778      0.116186    -0.365424 -0.127506   \n",
      "2 -0.131706 -0.487922  0.385251      0.565791    -0.394763 -0.329895   \n",
      "3 -0.124212 -0.684786  2.008916      0.786851     0.393882 -0.127506   \n",
      "4 -0.237688 -0.838770 -1.238413     -1.085691    -0.373079  0.074884   \n",
      "\n",
      "     Avg30d  IPReputation  Latitude  Longitude  ...  MerchantCat_gas  \\\n",
      "0 -0.407553     -1.856952  0.707698  -0.338698  ...              0.0   \n",
      "1 -0.205159      0.005680  0.224548  -0.798508  ...              1.0   \n",
      "2 -2.097753      0.563421  0.557700   1.750056  ...              0.0   \n",
      "3 -1.697980      0.313877  0.624794   1.750056  ...              0.0   \n",
      "4  1.215382      0.621415  0.829109   1.750056  ...              0.0   \n",
      "\n",
      "   MerchantCat_grocery  MerchantCat_restaurant  MerchantCat_travel  \\\n",
      "0                  0.0                     0.0                 0.0   \n",
      "1                  0.0                     0.0                 0.0   \n",
      "2                  0.0                     0.0                 0.0   \n",
      "3                  0.0                     0.0                 1.0   \n",
      "4                  1.0                     0.0                 0.0   \n",
      "\n",
      "   MerchantCat_utilities  Channel_chip  Channel_contactless  Channel_in-store  \\\n",
      "0                    0.0           0.0                  0.0               1.0   \n",
      "1                    0.0           0.0                  1.0               0.0   \n",
      "2                    0.0           0.0                  0.0               0.0   \n",
      "3                    0.0           0.0                  1.0               0.0   \n",
      "4                    0.0           1.0                  0.0               0.0   \n",
      "\n",
      "   Channel_online  Class  \n",
      "0             0.0      0  \n",
      "1             0.0      0  \n",
      "2             1.0      1  \n",
      "3             0.0      0  \n",
      "4             0.0      1  \n",
      "\n",
      "[5 rows x 34 columns]\n"
     ]
    }
   ],
   "source": [
    "from exercises.b_DataProcessingAndExploration.preprocessing import run_data_ingestion_and_processing\n",
    "from helpers.domino_short_id import domino_short_id\n",
    "\n",
    "# Configuration\n",
    "raw_filename = \"raw_cc_transactions.csv\"  # Fixed: removed trailing comma\n",
    "clean_filename = \"preprocessing_processed_cc_transactions.csv\"\n",
    "experiment_name = f\"CC Fraud Preprocessing {domino_short_id()}\"\n",
    "\n",
    "# Run the pipeline\n",
    "try:\n",
    "    clean_df, clean_path, features_path, labels_path = run_data_ingestion_and_processing(\n",
    "        raw_filename=raw_filename,\n",
    "        clean_filename=clean_filename,\n",
    "        experiment_name=experiment_name\n",
    "    )\n",
    "    print(f\"\\n🎉 Processing complete!\")\n",
    "    print(f\"   Features: {features_path}\")\n",
    "    print(f\"   Labels: {labels_path}\")\n",
    "    print(f\"   Clean data: {clean_path}\")\n",
    "    print(f\"   Clean data (head): {clean_df.head()}\")\n",
    "    \n",
    "except Exception as e:\n",
    "    print(f\"❌ Pipeline failed: {str(e)}\")\n",
    "    raise"
   ]
  },
  {
   "cell_type": "code",
   "execution_count": 3,
   "id": "e1e7bda9",
   "metadata": {},
   "outputs": [],
   "source": [
    "# 1 grab data from s3"
   ]
  },
  {
   "cell_type": "code",
   "execution_count": null,
   "id": "23bb0dd6-7667-4917-9ce3-e579b7c8cd0c",
   "metadata": {},
   "outputs": [],
   "source": [
    "# 2 clean and normalize"
   ]
  },
  {
   "cell_type": "code",
   "execution_count": null,
   "id": "515d2c48-2f26-4b6f-b5e0-5448d52bb44f",
   "metadata": {},
   "outputs": [],
   "source": [
    "# 3 generate plots"
   ]
  },
  {
   "cell_type": "code",
   "execution_count": null,
   "id": "aa6d7a8c-0445-4c57-abef-5721f15e8aad",
   "metadata": {},
   "outputs": [],
   "source": [
    "# 4 save to dataset\n",
    "\n",
    "'''\n",
    "data exploration is a notebook\n",
    "data engineering and scaling is a normal script\n",
    "the training is a flow\n",
    "\n",
    "\n",
    "'''"
   ]
  }
 ],
 "metadata": {
  "kernelspec": {
   "display_name": "Python 3 (ipykernel)",
   "language": "python",
   "name": "python3"
  },
  "language_info": {
   "codemirror_mode": {
    "name": "ipython",
    "version": 3
   },
   "file_extension": ".py",
   "mimetype": "text/x-python",
   "name": "python",
   "nbconvert_exporter": "python",
   "pygments_lexer": "ipython3",
   "version": "3.10.14"
  }
 },
 "nbformat": 4,
 "nbformat_minor": 5
}
