{
 "cells": [
  {
   "cell_type": "code",
   "execution_count": 7,
   "id": "bf2b1218-f752-4e49-b0f6-95f2ac8b8323",
   "metadata": {},
   "outputs": [
    {
     "name": "stderr",
     "output_type": "stream",
     "text": [
      "/tmp/ipykernel_1069/4087182614.py:20: DtypeWarning: Columns (0,1,2,3,4,5,6,7,8,9,10,11,12,13,14,15,16,17,18,19,20,21,22,23,24,25,26,27,28,29,30) have mixed types. Specify dtype option on import or set low_memory=False.\n",
      "  df_raw = pd.read_csv(buf)\n"
     ]
    },
    {
     "name": "stdout",
     "output_type": "stream",
     "text": [
      "  Time RelSpend-Z   dTime-Z GeoJump-Z Log-Amount POS-ModeRisk  MCC-Risk  \\\n",
      "0  0.0  -1.359807 -0.072781  2.536347   1.378155    -0.338321  0.462388   \n",
      "1  0.0   1.191857  0.266151   0.16648   0.448154     0.060018 -0.082361   \n",
      "2  1.0  -1.358354 -1.340163  1.773209    0.37978    -0.503198  1.800499   \n",
      "3  1.0  -0.966272 -0.185226  1.792993  -0.863291    -0.010309  1.247203   \n",
      "4  2.0  -1.158233  0.877737  1.548718   0.403034    -0.407193  0.095921   \n",
      "\n",
      "  Device-Risk  Lon-Jump  Lat-Jump  ...  TxnSim-3 RollSpend-24h RollSpend-7d  \\\n",
      "0    0.239599  0.098698  0.363787  ... -0.018307      0.277838    -0.110474   \n",
      "1   -0.078803  0.085102 -0.255425  ... -0.225775     -0.638672     0.101288   \n",
      "2    0.791461  0.247676 -1.514654  ...  0.247998      0.771679     0.909412   \n",
      "3    0.237609  0.377436 -1.387024  ...   -0.1083      0.005274    -0.190321   \n",
      "4    0.592941 -0.270533  0.817739  ... -0.009431      0.798278    -0.137458   \n",
      "\n",
      "  RollSpend-30d  SoftBL-1  SoftBL-2 Manual-Review Chargeback-Flag  Amount  \\\n",
      "0      0.066928  0.128539 -0.189115      0.133558       -0.021053  149.62   \n",
      "1     -0.339846   0.16717  0.125895     -0.008983        0.014724    2.69   \n",
      "2     -0.689281 -0.327642 -0.139097     -0.055353       -0.059752  378.66   \n",
      "3     -1.175575  0.647376 -0.221929      0.062723        0.061458   123.5   \n",
      "4      0.141267  -0.20601  0.502292      0.219422        0.215153   69.99   \n",
      "\n",
      "  Class  \n",
      "0     0  \n",
      "1     0  \n",
      "2     0  \n",
      "3     0  \n",
      "4     0  \n",
      "\n",
      "[5 rows x 31 columns]\n",
      "✅ Cleaned data saved to: cleaned_cc_transaction_rolling_2d_window.csv. Removed 30000 rows\n"
     ]
    }
   ],
   "source": [
    "import numpy as np\n",
    "import pandas as pd\n",
    "import io\n",
    "import mlflow\n",
    "\n",
    "from domino.data_sources import DataSourceClient\n",
    "from domino_data.datasets import DatasetClient\n",
    "\n",
    "\n",
    "def clean_and_save_cc_file(raw_filename: str, clean_filename: str):\n",
    "    # Load with force numeric, bad values → NaN\n",
    "    object_store = DataSourceClient().get_datasource(\"credit_card_fraud_detection\")\n",
    "    \n",
    "    # Stream to in-memory buffer\n",
    "    buf = io.BytesIO()\n",
    "    object_store.download_fileobj(raw_filename, buf)\n",
    "    buf.seek(0)\n",
    "    \n",
    "    # Read into DataFrame in-memory\n",
    "    df_raw = pd.read_csv(buf)\n",
    "    \n",
    "    print(df_raw.head())\n",
    "\n",
    "    # Coerce all columns to numeric, invalid strings become NaN\n",
    "    df_numeric = df_raw.apply(pd.to_numeric, errors='coerce')\n",
    "\n",
    "    # Keep rows with no NaN anywhere\n",
    "    mask = df_numeric.notna().all(axis=1)\n",
    "    df_cleaned = df_numeric[mask]\n",
    "\n",
    "    full_path = f\"/mnt/data/Fraud-Detection-Workshop/{clean_filename}\"\n",
    "    df_cleaned.to_csv(full_path, index=False)\n",
    "\n",
    "    # df_cleaned.to_csv(clean_file, index=False)\n",
    "    print(f\"✅ Cleaned data saved to: {clean_filename}. Removed {len(df_raw) - len(df_cleaned)} rows\")\n",
    "    # TODO get this to save to a dataset\n",
    "\n",
    "raw_filename = 'raw_cc_transaction_rolling_2d_window.csv'\n",
    "clean_filename = 'cleaned_cc_transaction_rolling_2d_window.csv'\n",
    "\n",
    "clean_and_save_cc_file(raw_filename, clean_filename)\n",
    "\n"
   ]
  },
  {
   "cell_type": "code",
   "execution_count": null,
   "id": "c99468e3-e6bf-49c3-aa91-dfefc455ffd9",
   "metadata": {},
   "outputs": [],
   "source": []
  }
 ],
 "metadata": {
  "kernelspec": {
   "display_name": "Python 3 (ipykernel)",
   "language": "python",
   "name": "python3"
  },
  "language_info": {
   "codemirror_mode": {
    "name": "ipython",
    "version": 3
   },
   "file_extension": ".py",
   "mimetype": "text/x-python",
   "name": "python",
   "nbconvert_exporter": "python",
   "pygments_lexer": "ipython3",
   "version": "3.10.14"
  }
 },
 "nbformat": 4,
 "nbformat_minor": 5
}
