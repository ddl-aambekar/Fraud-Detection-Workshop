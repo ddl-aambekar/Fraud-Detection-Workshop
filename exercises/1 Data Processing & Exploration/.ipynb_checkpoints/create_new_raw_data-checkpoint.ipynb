{
 "cells": [
  {
   "cell_type": "code",
   "execution_count": null,
   "id": "c99468e3-e6bf-49c3-aa91-dfefc455ffd9",
   "metadata": {},
   "outputs": [],
   "source": [
    "import numpy as np\n",
    "import pandas as pd\n",
    "\n",
    "def generate_synthetic_pca_dataset(\n",
    "    cleaned_file_path: str,\n",
    "    synthetic_file_path: str,\n",
    "    n_samples: int = None,\n",
    "    random_state: int = 42,\n",
    "):\n",
    "    print('-0')\n",
    "    # 1) load your cleaned data\n",
    "    df = pd.read_csv(cleaned_file_path)\n",
    "    print('read1')\n",
    "    # if no custom size, match the original\n",
    "    if n_samples is None:\n",
    "        n_samples = len(df)\n",
    "    \n",
    "    # reproducibility\n",
    "    np.random.seed(random_state)\n",
    "    \n",
    "    # 2) identify PCA columns and get their stats\n",
    "    pca_cols = [c for c in df.columns if c.startswith(\"V\")]\n",
    "    stats = df[pca_cols].agg([\"mean\", \"std\", \"min\", \"max\"]).T\n",
    "    print('2')\n",
    "    # 3) build synthetic PCA features\n",
    "    synthetic = pd.DataFrame()\n",
    "    for col in pca_cols:\n",
    "        print('col', col)\n",
    "        mu, sigma, lo, hi = stats.loc[col, [\"mean\", \"std\", \"min\", \"max\"]]\n",
    "        vals = np.random.normal(loc=mu, scale=sigma, size=n_samples)\n",
    "        synthetic[col] = np.clip(vals, lo, hi)\n",
    "    \n",
    "    # 4) sample Time & Amount from the original empirical distribution\n",
    "    synthetic[\"Time\"]   = np.random.choice(df[\"Time\"].values,   size=n_samples, replace=True)\n",
    "    synthetic[\"Amount\"] = np.random.choice(df[\"Amount\"].values, size=n_samples, replace=True)\n",
    "    print('4')\n",
    "    # 5) simulate Class at the original fraud rate\n",
    "    fraud_rate = df[\"Class\"].mean()\n",
    "    synthetic[\"Class\"] = (np.random.rand(n_samples) < fraud_rate).astype(int)\n",
    "    \n",
    "    # 6) reorder columns and save\n",
    "    cols = [\"Time\"] + pca_cols + [\"Amount\", \"Class\"]\n",
    "    synthetic[cols].to_csv(synthetic_file_path, index=False)\n",
    "    print(f\"✅ Synthetic dataset with {n_samples:,} rows written to {synthetic_file_path}\")\n",
    "print('hello....)\n",
    "generate_synthetic_pca_dataset(\n",
    "    cleaned_file_path=\"/mnt/data/Fraud-Detection-Workshop/cleaned_cc_transaction_rolling_2d_window.csv\",\n",
    "    synthetic_file_path=\"/mnt/data/Fraud-Detection-Workshop/synthetic_pca_dataset.csv\",\n",
    "    # n_samples=100000,  # optionally override\n",
    ")\n"
   ]
  },
  {
   "cell_type": "code",
   "execution_count": null,
   "id": "98062594-6df7-485e-a930-1c2cb90ba63f",
   "metadata": {},
   "outputs": [],
   "source": []
  }
 ],
 "metadata": {
  "kernelspec": {
   "display_name": "Python 3 (ipykernel)",
   "language": "python",
   "name": "python3"
  },
  "language_info": {
   "codemirror_mode": {
    "name": "ipython",
    "version": 3
   },
   "file_extension": ".py",
   "mimetype": "text/x-python",
   "name": "python",
   "nbconvert_exporter": "python",
   "pygments_lexer": "ipython3",
   "version": "3.10.14"
  }
 },
 "nbformat": 4,
 "nbformat_minor": 5
}
