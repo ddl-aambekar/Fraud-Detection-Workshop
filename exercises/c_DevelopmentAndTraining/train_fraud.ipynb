{
 "cells": [
  {
   "cell_type": "code",
   "execution_count": 1,
   "id": "1e892762",
   "metadata": {},
   "outputs": [
    {
     "name": "stdout",
     "output_type": "stream",
     "text": [
      "training model XGBoost\n"
     ]
    },
    {
     "name": "stderr",
     "output_type": "stream",
     "text": [
      "Registered model 'CC Fraud XGBoost Classifier' already exists. Creating a new version of this model...\n",
      "2025/07/01 20:42:24 INFO mlflow.store.model_registry.abstract_store: Waiting up to 300 seconds for model version to finish creation. Model name: CC Fraud XGBoost Classifier, version 110\n",
      "Created version '110' of model 'CC Fraud XGBoost Classifier'.\n"
     ]
    },
    {
     "name": "stdout",
     "output_type": "stream",
     "text": [
      "🏃 View run XGBoost at: http://127.0.0.1:8768/#/experiments/1566/runs/4611bbcf7bf046658d159bea655dc223\n",
      "🧪 View experiment at: http://127.0.0.1:8768/#/experiments/1566\n",
      "training model AdaBoost\n"
     ]
    },
    {
     "name": "stderr",
     "output_type": "stream",
     "text": [
      "Registered model 'CC Fraud AdaBoost Classifier' already exists. Creating a new version of this model...\n",
      "2025/07/01 20:42:32 INFO mlflow.store.model_registry.abstract_store: Waiting up to 300 seconds for model version to finish creation. Model name: CC Fraud AdaBoost Classifier, version 115\n",
      "Created version '115' of model 'CC Fraud AdaBoost Classifier'.\n"
     ]
    },
    {
     "name": "stdout",
     "output_type": "stream",
     "text": [
      "🏃 View run AdaBoost at: http://127.0.0.1:8768/#/experiments/1566/runs/5bf39e67a65340d7b5bf90c83f3568eb\n",
      "🧪 View experiment at: http://127.0.0.1:8768/#/experiments/1566\n",
      "training model NaiveBayes\n"
     ]
    },
    {
     "name": "stderr",
     "output_type": "stream",
     "text": [
      "Registered model 'CC Fraud NaiveBayes Classifier' already exists. Creating a new version of this model...\n",
      "2025/07/01 20:42:39 INFO mlflow.store.model_registry.abstract_store: Waiting up to 300 seconds for model version to finish creation. Model name: CC Fraud NaiveBayes Classifier, version 50\n",
      "Created version '50' of model 'CC Fraud NaiveBayes Classifier'.\n"
     ]
    },
    {
     "name": "stdout",
     "output_type": "stream",
     "text": [
      "🏃 View run NaiveBayes at: http://127.0.0.1:8768/#/experiments/1566/runs/f078b88a27a345f483d568378b1ab604\n",
      "🧪 View experiment at: http://127.0.0.1:8768/#/experiments/1566\n"
     ]
    }
   ],
   "source": [
    "from flows.b_training_xgb import train_fraud_xgb\n",
    "from flows.b_training_ada import train_fraud_ada\n",
    "from flows.b_training_gnb import train_fraud_gnb\n",
    "\n",
    "train_fraud_xgb()\n",
    "train_fraud_ada()\n",
    "train_fraud_gnb()\n",
    "    "
   ]
  },
  {
   "cell_type": "code",
   "execution_count": null,
   "id": "d4238aef",
   "metadata": {},
   "outputs": [],
   "source": []
  }
 ],
 "metadata": {
  "kernelspec": {
   "display_name": "Python 3 (ipykernel)",
   "language": "python",
   "name": "python3"
  },
  "language_info": {
   "codemirror_mode": {
    "name": "ipython",
    "version": 3
   },
   "file_extension": ".py",
   "mimetype": "text/x-python",
   "name": "python",
   "nbconvert_exporter": "python",
   "pygments_lexer": "ipython3",
   "version": "3.10.14"
  }
 },
 "nbformat": 4,
 "nbformat_minor": 5
}
