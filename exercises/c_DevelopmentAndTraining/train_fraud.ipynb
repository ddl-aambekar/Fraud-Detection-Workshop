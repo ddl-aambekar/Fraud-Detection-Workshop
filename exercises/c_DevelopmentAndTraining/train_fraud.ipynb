{
 "cells": [
  {
   "cell_type": "code",
   "execution_count": null,
   "id": "1e892762",
   "metadata": {},
   "outputs": [
    {
     "name": "stdout",
     "output_type": "stream",
     "text": [
      "📥 Downloading preprocessing_processed_cc_transactions.csv from data source\n",
      "✅ Loaded DataFrame with 98 rows, 34 columns\n"
     ]
    },
    {
     "name": "stderr",
     "output_type": "stream",
     "text": [
      "2025/07/03 21:59:42 INFO mlflow.tracking.fluent: Experiment with name 'CC Fraud Classifier Training eEZbWmiQ_2dfsyBR2' does not exist. Creating a new experiment.\n"
     ]
    },
    {
     "name": "stdout",
     "output_type": "stream",
     "text": [
      "loading data clean path preprocessing_processed_cc_transactions.csv\n",
      "training model AdaBoost\n"
     ]
    },
    {
     "name": "stderr",
     "output_type": "stream",
     "text": [
      "Registered model 'CC Fraud AdaBoost Classifier' already exists. Creating a new version of this model...\n",
      "2025/07/03 21:59:51 INFO mlflow.store.model_registry.abstract_store: Waiting up to 300 seconds for model version to finish creation. Model name: CC Fraud AdaBoost Classifier, version 122\n",
      "Created version '122' of model 'CC Fraud AdaBoost Classifier'.\n"
     ]
    },
    {
     "name": "stdout",
     "output_type": "stream",
     "text": [
      "🏃 View run AdaBoost at: http://127.0.0.1:8768/#/experiments/1572/runs/11b4e0af64ca4d9481810620b42102b2\n",
      "🧪 View experiment at: http://127.0.0.1:8768/#/experiments/1572\n",
      "✅ Training AdaBoost completed successfully\n",
      "Result: {'model_name': 'AdaBoost', 'roc_auc': 0.914141414141414, 'pr_auc': 0.8944444444444445, 'accuracy': 0.85, 'precision_fraud': 1.0, 'recall_fraud': 0.6666666666666666, 'f1_fraud': 0.8, 'fit_time_sec': 0.013422727584838867}\n",
      "✅✅✅ Trainings completed successfully\n",
      "loading data clean path preprocessing_processed_cc_transactions.csv\n",
      "training model GaussianNB\n"
     ]
    },
    {
     "name": "stderr",
     "output_type": "stream",
     "text": [
      "Successfully registered model 'CC Fraud GaussianNB Classifier'.\n",
      "2025/07/03 21:59:57 INFO mlflow.store.model_registry.abstract_store: Waiting up to 300 seconds for model version to finish creation. Model name: CC Fraud GaussianNB Classifier, version 1\n",
      "Created version '1' of model 'CC Fraud GaussianNB Classifier'.\n"
     ]
    },
    {
     "name": "stdout",
     "output_type": "stream",
     "text": [
      "🏃 View run GaussianNB at: http://127.0.0.1:8768/#/experiments/1572/runs/2c778c67c897445ca9bf43d8dc46bf86\n",
      "🧪 View experiment at: http://127.0.0.1:8768/#/experiments/1572\n",
      "✅ Training GaussianNB completed successfully\n",
      "Result: {'model_name': 'GaussianNB', 'roc_auc': 0.6363636363636362, 'pr_auc': 0.6157687991021323, 'accuracy': 0.6, 'precision_fraud': 0.5555555555555556, 'recall_fraud': 0.5555555555555556, 'f1_fraud': 0.5555555555555556, 'fit_time_sec': 0.001791238784790039}\n",
      "✅✅✅ Trainings completed successfully\n",
      "loading data clean path preprocessing_processed_cc_transactions.csv\n",
      "training model XGBoost\n"
     ]
    },
    {
     "name": "stderr",
     "output_type": "stream",
     "text": [
      "Registered model 'CC Fraud XGBoost Classifier' already exists. Creating a new version of this model...\n",
      "2025/07/03 22:00:04 INFO mlflow.store.model_registry.abstract_store: Waiting up to 300 seconds for model version to finish creation. Model name: CC Fraud XGBoost Classifier, version 111\n",
      "Created version '111' of model 'CC Fraud XGBoost Classifier'.\n"
     ]
    },
    {
     "name": "stdout",
     "output_type": "stream",
     "text": [
      "🏃 View run XGBoost at: http://127.0.0.1:8768/#/experiments/1572/runs/1e8b941107224aeda0a2a32e28b7b654\n",
      "🧪 View experiment at: http://127.0.0.1:8768/#/experiments/1572\n",
      "✅ Training XGBoost completed successfully\n",
      "Result: {'model_name': 'XGBoost', 'roc_auc': 0.8989898989898989, 'pr_auc': 0.9254901960784314, 'accuracy': 0.9, 'precision_fraud': 1.0, 'recall_fraud': 0.7777777777777778, 'f1_fraud': 0.875, 'fit_time_sec': 0.2982900142669678}\n",
      "✅✅✅ Trainings completed successfully\n"
     ]
    }
   ],
   "source": [
    "# File: flows/b_training_ada.py\n",
    "from sklearn.naive_bayes import GaussianNB\n",
    "from sklearn.ensemble import AdaBoostClassifier\n",
    "from xgboost import XGBClassifier\n",
    "\n",
    "from exercises.c_DevelopmentAndTraining.generic_trainer import train_fraud\n",
    "from helpers.domino_short_id import domino_short_id\n",
    "from helpers.dataset_utils import load_from_data_source\n",
    "\n",
    "\n",
    "# Load DataFrame from data source\n",
    "preprocessed_df_path = 'preprocessing_processed_cc_transactions.csv'\n",
    "preprocessed_df = load_from_data_source(preprocessed_df_path)\n",
    "\n",
    "ada_model = {'model': AdaBoostClassifier(\n",
    "            n_estimators=10,\n",
    "            learning_rate=0.1,\n",
    "            algorithm=\"SAMME\",\n",
    "        ), 'name': \"AdaBoost\"}\n",
    "gnb_model = {'model': GaussianNB(), \n",
    "             'name': \"GaussianNB\"}\n",
    "xbg_model = {'model': XGBClassifier(\n",
    "            n_estimators=200,\n",
    "            learning_rate=0.05,\n",
    "            max_depth=4,\n",
    "            subsample=0.8,\n",
    "            colsample_bytree=0.8,\n",
    "            use_label_encoder=False,\n",
    "            eval_metric=\"auc\",\n",
    "        ), 'name': \"XGBoost\"}\n",
    "\n",
    "\n",
    "experiment_name = f\"CC Fraud Classifier Training {domino_short_id()}\"\n",
    "all_models = [ada_model, gnb_model, xbg_model]\n",
    "for model_dict in all_models:\n",
    "\n",
    "    model_name = model_dict['name']\n",
    "    model_obj = model_dict['model']\n",
    "    result =  train_fraud(model_obj, model_name, preprocessed_df, experiment_name, preprocessed_df_path)\n",
    "    print(f\"✅ Training {model_name} completed successfully\")\n",
    "    print(f\"Result: {result}\")\n",
    "print(f\"{'✅' * len(all_models)} Trainings completed successfully\")\n",
    "\n"
   ]
  },
  {
   "cell_type": "code",
   "execution_count": null,
   "id": "d4238aef",
   "metadata": {},
   "outputs": [],
   "source": []
  }
 ],
 "metadata": {
  "kernelspec": {
   "display_name": "base",
   "language": "python",
   "name": "python3"
  },
  "language_info": {
   "codemirror_mode": {
    "name": "ipython",
    "version": 3
   },
   "file_extension": ".py",
   "mimetype": "text/x-python",
   "name": "python",
   "nbconvert_exporter": "python",
   "pygments_lexer": "ipython3",
   "version": "3.10.14"
  }
 },
 "nbformat": 4,
 "nbformat_minor": 5
}
