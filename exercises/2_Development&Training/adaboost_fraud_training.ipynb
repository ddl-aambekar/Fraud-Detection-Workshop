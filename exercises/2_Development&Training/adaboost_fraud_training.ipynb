{
 "cells": [
  {
   "cell_type": "code",
   "execution_count": 6,
   "id": "37cc6c97-0a73-4c0a-ad52-6201bc0d479c",
   "metadata": {},
   "outputs": [
    {
     "name": "stdout",
     "output_type": "stream",
     "text": [
      "AdaBoost (bad) AUC: 0.5447\n",
      "🏃 View run AdaBoost (bad) at: http://127.0.0.1:8768/#/experiments/1538/runs/db96a69da3614e3bb02b06b5c1068a8c\n",
      "🧪 View experiment at: http://127.0.0.1:8768/#/experiments/1538\n"
     ]
    }
   ],
   "source": [
    "import io, os\n",
    "import pandas as pd\n",
    "from pathlib import Path\n",
    "from sklearn.model_selection import train_test_split\n",
    "from sklearn.metrics import roc_auc_score\n",
    "from sklearn.ensemble import AdaBoostClassifier\n",
    "import mlflow\n",
    "from mlflow.models.signature import infer_signature\n",
    "import mlflow.sklearn\n",
    "\n",
    "domino_working_dir = os.environ.get(\"DOMINO_WORKING_DIR\", \".\")\n",
    "domino_datasource_dir = domino_working_dir.replace('code', 'data')\n",
    "domino_artifact_dir = domino_working_dir.replace('code', 'artifacts')\n",
    "domino_project_name = os.environ.get(\"DOMINO_PROJECT_NAME\", \"my-local-project\")\n",
    "\n",
    "def run_fraud_training(pca_filename: str):    \n",
    "    experiment_name = f\"CC Fraud Classifier Training [testing]\"\n",
    "    mlflow.set_experiment(experiment_name)\n",
    "    \n",
    "    # 1️⃣ Load cleaned PCA data\n",
    "    full_clean_file_path = f\"{domino_datasource_dir}/{domino_project_name}/{pca_filename}\"\n",
    "    df = pd.read_csv(full_clean_file_path)\n",
    "    df = df[df[\"Class\"].notna()].copy()\n",
    "\n",
    "    # 2️⃣ Define target & features\n",
    "    TARGET = \"Class\"\n",
    "    FEATURES = [c for c in df.columns if c != TARGET]\n",
    "    \n",
    "    X = df[FEATURES]\n",
    "    y = df[TARGET]\n",
    "    \n",
    "    # 3️⃣ Train/validation split\n",
    "    RANDOM_STATE = 2018\n",
    "    X_train, X_val, y_train, y_val = train_test_split(\n",
    "        X, y, test_size=0.20, random_state=RANDOM_STATE, stratify=y\n",
    "    )\n",
    "    \n",
    "    def train_and_log(model, name):\n",
    "        with mlflow.start_run(run_name=name):\n",
    "            mlflow.log_params(model.get_params())\n",
    "            mlflow.log_param(\"model_name\", model.__class__.__name__)\n",
    "            \n",
    "            model.fit(X_train, y_train)\n",
    "            \n",
    "            preds = model.predict_proba(X_val)[:, 1]\n",
    "            auc = roc_auc_score(y_val, preds)\n",
    "            mlflow.log_metric(\"roc_auc\", auc)\n",
    "            \n",
    "            signature = infer_signature(X_val, preds)\n",
    "            input_example = X_val.iloc[:5]\n",
    "    \n",
    "            mlflow.sklearn.log_model(\n",
    "                model,\n",
    "                artifact_path=\"classifier_adaboost_model\",\n",
    "                signature=signature,\n",
    "                input_example=input_example\n",
    "            )\n",
    "            mlflow.set_tag(\"pipeline\", \"classifier_training\")\n",
    "            mlflow.set_tag(\"model\", \"AdaBoost\")\n",
    "\n",
    "            print(f\"{name:12} AUC: {auc:.4f}\")\n",
    "    \n",
    "    # 4️⃣ AdaBoost\n",
    "    model = AdaBoostClassifier(\n",
    "        algorithm='SAMME',\n",
    "        n_estimators=50, learning_rate=0.5, random_state=RANDOM_STATE\n",
    "    )\n",
    "    train_and_log(model, \"AdaBoost (bad)\")\n",
    "\n",
    "\n",
    "run_fraud_training(\n",
    "    pca_filename=\"cleaned_cc_transactions.csv\",\n",
    ")\n",
    "\n"
   ]
  },
  {
   "cell_type": "code",
   "execution_count": null,
   "id": "6ac56ed6-8cc1-4c0f-b5b8-15719e077316",
   "metadata": {},
   "outputs": [],
   "source": []
  }
 ],
 "metadata": {
  "kernelspec": {
   "display_name": "Python 3 (ipykernel)",
   "language": "python",
   "name": "python3"
  },
  "language_info": {
   "codemirror_mode": {
    "name": "ipython",
    "version": 3
   },
   "file_extension": ".py",
   "mimetype": "text/x-python",
   "name": "python",
   "nbconvert_exporter": "python",
   "pygments_lexer": "ipython3",
   "version": "3.10.14"
  }
 },
 "nbformat": 4,
 "nbformat_minor": 5
}
