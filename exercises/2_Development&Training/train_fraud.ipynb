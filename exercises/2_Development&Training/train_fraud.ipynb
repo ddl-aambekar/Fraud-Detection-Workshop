{
 "cells": [
  {
   "cell_type": "code",
   "execution_count": 6,
   "id": "1e892762",
   "metadata": {},
   "outputs": [
    {
     "name": "stdout",
     "output_type": "stream",
     "text": [
      "training model XGBoost\n"
     ]
    },
    {
     "name": "stderr",
     "output_type": "stream",
     "text": [
      "Registered model 'CC Fraud XGBoost Classifier' already exists. Creating a new version of this model...\n",
      "2025/06/30 21:14:54 INFO mlflow.store.model_registry.abstract_store: Waiting up to 300 seconds for model version to finish creation. Model name: CC Fraud XGBoost Classifier, version 91\n",
      "Created version '91' of model 'CC Fraud XGBoost Classifier'.\n"
     ]
    },
    {
     "name": "stdout",
     "output_type": "stream",
     "text": [
      "🏃 View run XGBoost at: http://127.0.0.1:8768/#/experiments/1566/runs/6bb478e3f67d48f782c888fd703aa0ab\n",
      "🧪 View experiment at: http://127.0.0.1:8768/#/experiments/1566\n",
      "training model AdaBoost\n"
     ]
    },
    {
     "name": "stderr",
     "output_type": "stream",
     "text": [
      "/opt/conda/lib/python3.10/site-packages/sklearn/ensemble/_weight_boosting.py:527: FutureWarning: The SAMME.R algorithm (the default) is deprecated and will be removed in 1.6. Use the SAMME algorithm to circumvent this warning.\n",
      "  warnings.warn(\n",
      "Registered model 'CC Fraud AdaBoost Classifier' already exists. Creating a new version of this model...\n",
      "2025/06/30 21:15:02 INFO mlflow.store.model_registry.abstract_store: Waiting up to 300 seconds for model version to finish creation. Model name: CC Fraud AdaBoost Classifier, version 97\n",
      "Created version '97' of model 'CC Fraud AdaBoost Classifier'.\n"
     ]
    },
    {
     "name": "stdout",
     "output_type": "stream",
     "text": [
      "🏃 View run AdaBoost at: http://127.0.0.1:8768/#/experiments/1566/runs/aa4a5b03d83a458896cf6cacc9748a3a\n",
      "🧪 View experiment at: http://127.0.0.1:8768/#/experiments/1566\n",
      "training model NaiveBayes\n"
     ]
    },
    {
     "name": "stderr",
     "output_type": "stream",
     "text": [
      "Registered model 'CC Fraud NaiveBayes Classifier' already exists. Creating a new version of this model...\n",
      "2025/06/30 21:15:10 INFO mlflow.store.model_registry.abstract_store: Waiting up to 300 seconds for model version to finish creation. Model name: CC Fraud NaiveBayes Classifier, version 32\n",
      "Created version '32' of model 'CC Fraud NaiveBayes Classifier'.\n"
     ]
    },
    {
     "name": "stdout",
     "output_type": "stream",
     "text": [
      "🏃 View run NaiveBayes at: http://127.0.0.1:8768/#/experiments/1566/runs/c6699e380adb4e1492e72558c6c41cc8\n",
      "🧪 View experiment at: http://127.0.0.1:8768/#/experiments/1566\n",
      "training model XGBoost\n"
     ]
    },
    {
     "name": "stderr",
     "output_type": "stream",
     "text": [
      "Registered model 'CC Fraud XGBoost Classifier' already exists. Creating a new version of this model...\n",
      "2025/06/30 21:15:25 INFO mlflow.store.model_registry.abstract_store: Waiting up to 300 seconds for model version to finish creation. Model name: CC Fraud XGBoost Classifier, version 92\n",
      "Created version '92' of model 'CC Fraud XGBoost Classifier'.\n"
     ]
    },
    {
     "name": "stdout",
     "output_type": "stream",
     "text": [
      "🏃 View run XGBoost at: http://127.0.0.1:8768/#/experiments/1566/runs/a52c91ce40f045d1a0ea89aba4fee092\n",
      "🧪 View experiment at: http://127.0.0.1:8768/#/experiments/1566\n",
      "training model AdaBoost\n"
     ]
    },
    {
     "name": "stderr",
     "output_type": "stream",
     "text": [
      "/opt/conda/lib/python3.10/site-packages/sklearn/ensemble/_weight_boosting.py:527: FutureWarning: The SAMME.R algorithm (the default) is deprecated and will be removed in 1.6. Use the SAMME algorithm to circumvent this warning.\n",
      "  warnings.warn(\n",
      "Registered model 'CC Fraud AdaBoost Classifier' already exists. Creating a new version of this model...\n",
      "2025/06/30 21:15:33 INFO mlflow.store.model_registry.abstract_store: Waiting up to 300 seconds for model version to finish creation. Model name: CC Fraud AdaBoost Classifier, version 98\n",
      "Created version '98' of model 'CC Fraud AdaBoost Classifier'.\n"
     ]
    },
    {
     "name": "stdout",
     "output_type": "stream",
     "text": [
      "🏃 View run AdaBoost at: http://127.0.0.1:8768/#/experiments/1566/runs/3410b2e3b9d94add8cbb64672be37166\n",
      "🧪 View experiment at: http://127.0.0.1:8768/#/experiments/1566\n",
      "training model NaiveBayes\n"
     ]
    },
    {
     "name": "stderr",
     "output_type": "stream",
     "text": [
      "Registered model 'CC Fraud NaiveBayes Classifier' already exists. Creating a new version of this model...\n",
      "2025/06/30 21:15:40 INFO mlflow.store.model_registry.abstract_store: Waiting up to 300 seconds for model version to finish creation. Model name: CC Fraud NaiveBayes Classifier, version 33\n",
      "Created version '33' of model 'CC Fraud NaiveBayes Classifier'.\n"
     ]
    },
    {
     "name": "stdout",
     "output_type": "stream",
     "text": [
      "🏃 View run NaiveBayes at: http://127.0.0.1:8768/#/experiments/1566/runs/eb5359e08e2642ea8ea5fa512f0098b2\n",
      "🧪 View experiment at: http://127.0.0.1:8768/#/experiments/1566\n",
      "training model XGBoost\n"
     ]
    },
    {
     "name": "stderr",
     "output_type": "stream",
     "text": [
      "Registered model 'CC Fraud XGBoost Classifier' already exists. Creating a new version of this model...\n",
      "2025/06/30 21:15:53 INFO mlflow.store.model_registry.abstract_store: Waiting up to 300 seconds for model version to finish creation. Model name: CC Fraud XGBoost Classifier, version 93\n",
      "Created version '93' of model 'CC Fraud XGBoost Classifier'.\n"
     ]
    },
    {
     "name": "stdout",
     "output_type": "stream",
     "text": [
      "🏃 View run XGBoost at: http://127.0.0.1:8768/#/experiments/1566/runs/4c47e44df7734437a0a02fdf8d8a9fe8\n",
      "🧪 View experiment at: http://127.0.0.1:8768/#/experiments/1566\n",
      "training model AdaBoost\n"
     ]
    },
    {
     "name": "stderr",
     "output_type": "stream",
     "text": [
      "/opt/conda/lib/python3.10/site-packages/sklearn/ensemble/_weight_boosting.py:527: FutureWarning: The SAMME.R algorithm (the default) is deprecated and will be removed in 1.6. Use the SAMME algorithm to circumvent this warning.\n",
      "  warnings.warn(\n",
      "Registered model 'CC Fraud AdaBoost Classifier' already exists. Creating a new version of this model...\n",
      "2025/06/30 21:16:02 INFO mlflow.store.model_registry.abstract_store: Waiting up to 300 seconds for model version to finish creation. Model name: CC Fraud AdaBoost Classifier, version 99\n",
      "Created version '99' of model 'CC Fraud AdaBoost Classifier'.\n"
     ]
    },
    {
     "name": "stdout",
     "output_type": "stream",
     "text": [
      "🏃 View run AdaBoost at: http://127.0.0.1:8768/#/experiments/1566/runs/acb79cca3faf45eba0daa3d0eb1d8e32\n",
      "🧪 View experiment at: http://127.0.0.1:8768/#/experiments/1566\n",
      "training model NaiveBayes\n"
     ]
    },
    {
     "name": "stderr",
     "output_type": "stream",
     "text": [
      "Registered model 'CC Fraud NaiveBayes Classifier' already exists. Creating a new version of this model...\n",
      "2025/06/30 21:16:09 INFO mlflow.store.model_registry.abstract_store: Waiting up to 300 seconds for model version to finish creation. Model name: CC Fraud NaiveBayes Classifier, version 34\n",
      "Created version '34' of model 'CC Fraud NaiveBayes Classifier'.\n"
     ]
    },
    {
     "name": "stdout",
     "output_type": "stream",
     "text": [
      "🏃 View run NaiveBayes at: http://127.0.0.1:8768/#/experiments/1566/runs/87c194b25d6a4e3ba516e993ffe98520\n",
      "🧪 View experiment at: http://127.0.0.1:8768/#/experiments/1566\n",
      "training model XGBoost\n"
     ]
    },
    {
     "name": "stderr",
     "output_type": "stream",
     "text": [
      "Registered model 'CC Fraud XGBoost Classifier' already exists. Creating a new version of this model...\n",
      "2025/06/30 21:16:24 INFO mlflow.store.model_registry.abstract_store: Waiting up to 300 seconds for model version to finish creation. Model name: CC Fraud XGBoost Classifier, version 94\n",
      "Created version '94' of model 'CC Fraud XGBoost Classifier'.\n"
     ]
    },
    {
     "name": "stdout",
     "output_type": "stream",
     "text": [
      "🏃 View run XGBoost at: http://127.0.0.1:8768/#/experiments/1566/runs/263a0c2feb65435ea63bf5fe46ab20f4\n",
      "🧪 View experiment at: http://127.0.0.1:8768/#/experiments/1566\n",
      "training model AdaBoost\n"
     ]
    },
    {
     "name": "stderr",
     "output_type": "stream",
     "text": [
      "/opt/conda/lib/python3.10/site-packages/sklearn/ensemble/_weight_boosting.py:527: FutureWarning: The SAMME.R algorithm (the default) is deprecated and will be removed in 1.6. Use the SAMME algorithm to circumvent this warning.\n",
      "  warnings.warn(\n",
      "Registered model 'CC Fraud AdaBoost Classifier' already exists. Creating a new version of this model...\n",
      "2025/06/30 21:16:32 INFO mlflow.store.model_registry.abstract_store: Waiting up to 300 seconds for model version to finish creation. Model name: CC Fraud AdaBoost Classifier, version 100\n",
      "Created version '100' of model 'CC Fraud AdaBoost Classifier'.\n"
     ]
    },
    {
     "name": "stdout",
     "output_type": "stream",
     "text": [
      "🏃 View run AdaBoost at: http://127.0.0.1:8768/#/experiments/1566/runs/e2551094752e4725bd475d844e4b524f\n",
      "🧪 View experiment at: http://127.0.0.1:8768/#/experiments/1566\n",
      "training model NaiveBayes\n"
     ]
    },
    {
     "name": "stderr",
     "output_type": "stream",
     "text": [
      "Registered model 'CC Fraud NaiveBayes Classifier' already exists. Creating a new version of this model...\n",
      "2025/06/30 21:16:39 INFO mlflow.store.model_registry.abstract_store: Waiting up to 300 seconds for model version to finish creation. Model name: CC Fraud NaiveBayes Classifier, version 35\n",
      "Created version '35' of model 'CC Fraud NaiveBayes Classifier'.\n"
     ]
    },
    {
     "name": "stdout",
     "output_type": "stream",
     "text": [
      "🏃 View run NaiveBayes at: http://127.0.0.1:8768/#/experiments/1566/runs/34827406433a4d3f8ae994268cc5a03d\n",
      "🧪 View experiment at: http://127.0.0.1:8768/#/experiments/1566\n",
      "training model XGBoost\n"
     ]
    },
    {
     "name": "stderr",
     "output_type": "stream",
     "text": [
      "Registered model 'CC Fraud XGBoost Classifier' already exists. Creating a new version of this model...\n",
      "2025/06/30 21:16:52 INFO mlflow.store.model_registry.abstract_store: Waiting up to 300 seconds for model version to finish creation. Model name: CC Fraud XGBoost Classifier, version 95\n",
      "Created version '95' of model 'CC Fraud XGBoost Classifier'.\n"
     ]
    },
    {
     "name": "stdout",
     "output_type": "stream",
     "text": [
      "🏃 View run XGBoost at: http://127.0.0.1:8768/#/experiments/1566/runs/3268ab080bb941c4b14d71420e3a4d00\n",
      "🧪 View experiment at: http://127.0.0.1:8768/#/experiments/1566\n",
      "training model AdaBoost\n"
     ]
    },
    {
     "name": "stderr",
     "output_type": "stream",
     "text": [
      "/opt/conda/lib/python3.10/site-packages/sklearn/ensemble/_weight_boosting.py:527: FutureWarning: The SAMME.R algorithm (the default) is deprecated and will be removed in 1.6. Use the SAMME algorithm to circumvent this warning.\n",
      "  warnings.warn(\n",
      "Registered model 'CC Fraud AdaBoost Classifier' already exists. Creating a new version of this model...\n",
      "2025/06/30 21:17:00 INFO mlflow.store.model_registry.abstract_store: Waiting up to 300 seconds for model version to finish creation. Model name: CC Fraud AdaBoost Classifier, version 101\n",
      "Created version '101' of model 'CC Fraud AdaBoost Classifier'.\n"
     ]
    },
    {
     "name": "stdout",
     "output_type": "stream",
     "text": [
      "🏃 View run AdaBoost at: http://127.0.0.1:8768/#/experiments/1566/runs/29d86e781fcd4a98942e3fbf35a0f1ee\n",
      "🧪 View experiment at: http://127.0.0.1:8768/#/experiments/1566\n",
      "training model NaiveBayes\n"
     ]
    },
    {
     "name": "stderr",
     "output_type": "stream",
     "text": [
      "Registered model 'CC Fraud NaiveBayes Classifier' already exists. Creating a new version of this model...\n",
      "2025/06/30 21:17:07 INFO mlflow.store.model_registry.abstract_store: Waiting up to 300 seconds for model version to finish creation. Model name: CC Fraud NaiveBayes Classifier, version 36\n",
      "Created version '36' of model 'CC Fraud NaiveBayes Classifier'.\n"
     ]
    },
    {
     "name": "stdout",
     "output_type": "stream",
     "text": [
      "🏃 View run NaiveBayes at: http://127.0.0.1:8768/#/experiments/1566/runs/f5311f49e1e44bc5b187518ab8683729\n",
      "🧪 View experiment at: http://127.0.0.1:8768/#/experiments/1566\n",
      "training model XGBoost\n"
     ]
    },
    {
     "name": "stderr",
     "output_type": "stream",
     "text": [
      "Registered model 'CC Fraud XGBoost Classifier' already exists. Creating a new version of this model...\n",
      "2025/06/30 21:17:22 INFO mlflow.store.model_registry.abstract_store: Waiting up to 300 seconds for model version to finish creation. Model name: CC Fraud XGBoost Classifier, version 96\n",
      "Created version '96' of model 'CC Fraud XGBoost Classifier'.\n"
     ]
    },
    {
     "name": "stdout",
     "output_type": "stream",
     "text": [
      "🏃 View run XGBoost at: http://127.0.0.1:8768/#/experiments/1566/runs/ee5de537433b4db3b6f9618117b74c75\n",
      "🧪 View experiment at: http://127.0.0.1:8768/#/experiments/1566\n",
      "training model AdaBoost\n"
     ]
    },
    {
     "name": "stderr",
     "output_type": "stream",
     "text": [
      "/opt/conda/lib/python3.10/site-packages/sklearn/ensemble/_weight_boosting.py:527: FutureWarning: The SAMME.R algorithm (the default) is deprecated and will be removed in 1.6. Use the SAMME algorithm to circumvent this warning.\n",
      "  warnings.warn(\n",
      "Registered model 'CC Fraud AdaBoost Classifier' already exists. Creating a new version of this model...\n",
      "2025/06/30 21:17:30 INFO mlflow.store.model_registry.abstract_store: Waiting up to 300 seconds for model version to finish creation. Model name: CC Fraud AdaBoost Classifier, version 102\n",
      "Created version '102' of model 'CC Fraud AdaBoost Classifier'.\n"
     ]
    },
    {
     "name": "stdout",
     "output_type": "stream",
     "text": [
      "🏃 View run AdaBoost at: http://127.0.0.1:8768/#/experiments/1566/runs/82daf6fc1c9f472d8d1283640b01b98d\n",
      "🧪 View experiment at: http://127.0.0.1:8768/#/experiments/1566\n",
      "training model NaiveBayes\n"
     ]
    },
    {
     "name": "stderr",
     "output_type": "stream",
     "text": [
      "Registered model 'CC Fraud NaiveBayes Classifier' already exists. Creating a new version of this model...\n",
      "2025/06/30 21:17:37 INFO mlflow.store.model_registry.abstract_store: Waiting up to 300 seconds for model version to finish creation. Model name: CC Fraud NaiveBayes Classifier, version 37\n",
      "Created version '37' of model 'CC Fraud NaiveBayes Classifier'.\n"
     ]
    },
    {
     "name": "stdout",
     "output_type": "stream",
     "text": [
      "🏃 View run NaiveBayes at: http://127.0.0.1:8768/#/experiments/1566/runs/4766b60f432b4190a6bd3805f3f76753\n",
      "🧪 View experiment at: http://127.0.0.1:8768/#/experiments/1566\n",
      "training model XGBoost\n"
     ]
    },
    {
     "name": "stderr",
     "output_type": "stream",
     "text": [
      "Registered model 'CC Fraud XGBoost Classifier' already exists. Creating a new version of this model...\n",
      "2025/06/30 21:17:50 INFO mlflow.store.model_registry.abstract_store: Waiting up to 300 seconds for model version to finish creation. Model name: CC Fraud XGBoost Classifier, version 97\n",
      "Created version '97' of model 'CC Fraud XGBoost Classifier'.\n"
     ]
    },
    {
     "name": "stdout",
     "output_type": "stream",
     "text": [
      "🏃 View run XGBoost at: http://127.0.0.1:8768/#/experiments/1566/runs/a64a5a1c9c714126a13f7acc82d2e5e4\n",
      "🧪 View experiment at: http://127.0.0.1:8768/#/experiments/1566\n",
      "training model AdaBoost\n"
     ]
    },
    {
     "name": "stderr",
     "output_type": "stream",
     "text": [
      "/opt/conda/lib/python3.10/site-packages/sklearn/ensemble/_weight_boosting.py:527: FutureWarning: The SAMME.R algorithm (the default) is deprecated and will be removed in 1.6. Use the SAMME algorithm to circumvent this warning.\n",
      "  warnings.warn(\n",
      "Registered model 'CC Fraud AdaBoost Classifier' already exists. Creating a new version of this model...\n",
      "2025/06/30 21:17:59 INFO mlflow.store.model_registry.abstract_store: Waiting up to 300 seconds for model version to finish creation. Model name: CC Fraud AdaBoost Classifier, version 103\n",
      "Created version '103' of model 'CC Fraud AdaBoost Classifier'.\n"
     ]
    },
    {
     "name": "stdout",
     "output_type": "stream",
     "text": [
      "🏃 View run AdaBoost at: http://127.0.0.1:8768/#/experiments/1566/runs/657db6f027424477962ad15c2d0a34b3\n",
      "🧪 View experiment at: http://127.0.0.1:8768/#/experiments/1566\n",
      "training model NaiveBayes\n"
     ]
    },
    {
     "name": "stderr",
     "output_type": "stream",
     "text": [
      "Registered model 'CC Fraud NaiveBayes Classifier' already exists. Creating a new version of this model...\n",
      "2025/06/30 21:18:06 INFO mlflow.store.model_registry.abstract_store: Waiting up to 300 seconds for model version to finish creation. Model name: CC Fraud NaiveBayes Classifier, version 38\n",
      "Created version '38' of model 'CC Fraud NaiveBayes Classifier'.\n"
     ]
    },
    {
     "name": "stdout",
     "output_type": "stream",
     "text": [
      "🏃 View run NaiveBayes at: http://127.0.0.1:8768/#/experiments/1566/runs/18c0d8ecba8249719a0c5b7810a10874\n",
      "🧪 View experiment at: http://127.0.0.1:8768/#/experiments/1566\n",
      "training model XGBoost\n"
     ]
    },
    {
     "name": "stderr",
     "output_type": "stream",
     "text": [
      "Registered model 'CC Fraud XGBoost Classifier' already exists. Creating a new version of this model...\n",
      "2025/06/30 21:18:20 INFO mlflow.store.model_registry.abstract_store: Waiting up to 300 seconds for model version to finish creation. Model name: CC Fraud XGBoost Classifier, version 98\n",
      "Created version '98' of model 'CC Fraud XGBoost Classifier'.\n"
     ]
    },
    {
     "name": "stdout",
     "output_type": "stream",
     "text": [
      "🏃 View run XGBoost at: http://127.0.0.1:8768/#/experiments/1566/runs/0fb88ac99ae746f999d3ce437403297f\n",
      "🧪 View experiment at: http://127.0.0.1:8768/#/experiments/1566\n",
      "training model AdaBoost\n"
     ]
    },
    {
     "name": "stderr",
     "output_type": "stream",
     "text": [
      "/opt/conda/lib/python3.10/site-packages/sklearn/ensemble/_weight_boosting.py:527: FutureWarning: The SAMME.R algorithm (the default) is deprecated and will be removed in 1.6. Use the SAMME algorithm to circumvent this warning.\n",
      "  warnings.warn(\n",
      "Registered model 'CC Fraud AdaBoost Classifier' already exists. Creating a new version of this model...\n",
      "2025/06/30 21:18:28 INFO mlflow.store.model_registry.abstract_store: Waiting up to 300 seconds for model version to finish creation. Model name: CC Fraud AdaBoost Classifier, version 104\n",
      "Created version '104' of model 'CC Fraud AdaBoost Classifier'.\n"
     ]
    },
    {
     "name": "stdout",
     "output_type": "stream",
     "text": [
      "🏃 View run AdaBoost at: http://127.0.0.1:8768/#/experiments/1566/runs/1d34fe4f1d954044b4aea677e1c3381d\n",
      "🧪 View experiment at: http://127.0.0.1:8768/#/experiments/1566\n",
      "training model NaiveBayes\n"
     ]
    },
    {
     "name": "stderr",
     "output_type": "stream",
     "text": [
      "Registered model 'CC Fraud NaiveBayes Classifier' already exists. Creating a new version of this model...\n",
      "2025/06/30 21:18:36 INFO mlflow.store.model_registry.abstract_store: Waiting up to 300 seconds for model version to finish creation. Model name: CC Fraud NaiveBayes Classifier, version 39\n",
      "Created version '39' of model 'CC Fraud NaiveBayes Classifier'.\n"
     ]
    },
    {
     "name": "stdout",
     "output_type": "stream",
     "text": [
      "🏃 View run NaiveBayes at: http://127.0.0.1:8768/#/experiments/1566/runs/2edc3f01bd5d4aa798995bcf93aeae0e\n",
      "🧪 View experiment at: http://127.0.0.1:8768/#/experiments/1566\n",
      "training model XGBoost\n"
     ]
    },
    {
     "name": "stderr",
     "output_type": "stream",
     "text": [
      "Registered model 'CC Fraud XGBoost Classifier' already exists. Creating a new version of this model...\n",
      "2025/06/30 21:18:49 INFO mlflow.store.model_registry.abstract_store: Waiting up to 300 seconds for model version to finish creation. Model name: CC Fraud XGBoost Classifier, version 99\n",
      "Created version '99' of model 'CC Fraud XGBoost Classifier'.\n"
     ]
    },
    {
     "name": "stdout",
     "output_type": "stream",
     "text": [
      "🏃 View run XGBoost at: http://127.0.0.1:8768/#/experiments/1566/runs/1f79cc9784ab45fdb3699460e883ccca\n",
      "🧪 View experiment at: http://127.0.0.1:8768/#/experiments/1566\n",
      "training model AdaBoost\n"
     ]
    },
    {
     "name": "stderr",
     "output_type": "stream",
     "text": [
      "/opt/conda/lib/python3.10/site-packages/sklearn/ensemble/_weight_boosting.py:527: FutureWarning: The SAMME.R algorithm (the default) is deprecated and will be removed in 1.6. Use the SAMME algorithm to circumvent this warning.\n",
      "  warnings.warn(\n",
      "Registered model 'CC Fraud AdaBoost Classifier' already exists. Creating a new version of this model...\n",
      "2025/06/30 21:18:57 INFO mlflow.store.model_registry.abstract_store: Waiting up to 300 seconds for model version to finish creation. Model name: CC Fraud AdaBoost Classifier, version 105\n",
      "Created version '105' of model 'CC Fraud AdaBoost Classifier'.\n"
     ]
    },
    {
     "name": "stdout",
     "output_type": "stream",
     "text": [
      "🏃 View run AdaBoost at: http://127.0.0.1:8768/#/experiments/1566/runs/1bc991a100fd4cafa498aabfce65a718\n",
      "🧪 View experiment at: http://127.0.0.1:8768/#/experiments/1566\n",
      "training model NaiveBayes\n"
     ]
    },
    {
     "name": "stderr",
     "output_type": "stream",
     "text": [
      "Registered model 'CC Fraud NaiveBayes Classifier' already exists. Creating a new version of this model...\n",
      "2025/06/30 21:19:04 INFO mlflow.store.model_registry.abstract_store: Waiting up to 300 seconds for model version to finish creation. Model name: CC Fraud NaiveBayes Classifier, version 40\n",
      "Created version '40' of model 'CC Fraud NaiveBayes Classifier'.\n"
     ]
    },
    {
     "name": "stdout",
     "output_type": "stream",
     "text": [
      "🏃 View run NaiveBayes at: http://127.0.0.1:8768/#/experiments/1566/runs/83909bede95f44dd9deb20d5de2dbfcf\n",
      "🧪 View experiment at: http://127.0.0.1:8768/#/experiments/1566\n",
      "training model XGBoost\n"
     ]
    },
    {
     "name": "stderr",
     "output_type": "stream",
     "text": [
      "Registered model 'CC Fraud XGBoost Classifier' already exists. Creating a new version of this model...\n",
      "2025/06/30 21:19:19 INFO mlflow.store.model_registry.abstract_store: Waiting up to 300 seconds for model version to finish creation. Model name: CC Fraud XGBoost Classifier, version 100\n",
      "Created version '100' of model 'CC Fraud XGBoost Classifier'.\n"
     ]
    },
    {
     "name": "stdout",
     "output_type": "stream",
     "text": [
      "🏃 View run XGBoost at: http://127.0.0.1:8768/#/experiments/1566/runs/96d5362cf8614106b132ccef723ded67\n",
      "🧪 View experiment at: http://127.0.0.1:8768/#/experiments/1566\n",
      "training model AdaBoost\n"
     ]
    },
    {
     "name": "stderr",
     "output_type": "stream",
     "text": [
      "/opt/conda/lib/python3.10/site-packages/sklearn/ensemble/_weight_boosting.py:527: FutureWarning: The SAMME.R algorithm (the default) is deprecated and will be removed in 1.6. Use the SAMME algorithm to circumvent this warning.\n",
      "  warnings.warn(\n",
      "Registered model 'CC Fraud AdaBoost Classifier' already exists. Creating a new version of this model...\n",
      "2025/06/30 21:19:27 INFO mlflow.store.model_registry.abstract_store: Waiting up to 300 seconds for model version to finish creation. Model name: CC Fraud AdaBoost Classifier, version 106\n",
      "Created version '106' of model 'CC Fraud AdaBoost Classifier'.\n"
     ]
    },
    {
     "name": "stdout",
     "output_type": "stream",
     "text": [
      "🏃 View run AdaBoost at: http://127.0.0.1:8768/#/experiments/1566/runs/aa5c105ffec74167ade1be6c382703f7\n",
      "🧪 View experiment at: http://127.0.0.1:8768/#/experiments/1566\n",
      "training model NaiveBayes\n"
     ]
    },
    {
     "name": "stderr",
     "output_type": "stream",
     "text": [
      "Registered model 'CC Fraud NaiveBayes Classifier' already exists. Creating a new version of this model...\n",
      "2025/06/30 21:19:34 INFO mlflow.store.model_registry.abstract_store: Waiting up to 300 seconds for model version to finish creation. Model name: CC Fraud NaiveBayes Classifier, version 41\n",
      "Created version '41' of model 'CC Fraud NaiveBayes Classifier'.\n"
     ]
    },
    {
     "name": "stdout",
     "output_type": "stream",
     "text": [
      "🏃 View run NaiveBayes at: http://127.0.0.1:8768/#/experiments/1566/runs/73265627c3a340c2849cf44e95015f4e\n",
      "🧪 View experiment at: http://127.0.0.1:8768/#/experiments/1566\n",
      "training model XGBoost\n"
     ]
    },
    {
     "name": "stderr",
     "output_type": "stream",
     "text": [
      "Registered model 'CC Fraud XGBoost Classifier' already exists. Creating a new version of this model...\n",
      "2025/06/30 21:19:47 INFO mlflow.store.model_registry.abstract_store: Waiting up to 300 seconds for model version to finish creation. Model name: CC Fraud XGBoost Classifier, version 101\n",
      "Created version '101' of model 'CC Fraud XGBoost Classifier'.\n"
     ]
    },
    {
     "name": "stdout",
     "output_type": "stream",
     "text": [
      "🏃 View run XGBoost at: http://127.0.0.1:8768/#/experiments/1566/runs/72c9fbb577b74f699043687e46c501de\n",
      "🧪 View experiment at: http://127.0.0.1:8768/#/experiments/1566\n",
      "training model AdaBoost\n"
     ]
    },
    {
     "name": "stderr",
     "output_type": "stream",
     "text": [
      "/opt/conda/lib/python3.10/site-packages/sklearn/ensemble/_weight_boosting.py:527: FutureWarning: The SAMME.R algorithm (the default) is deprecated and will be removed in 1.6. Use the SAMME algorithm to circumvent this warning.\n",
      "  warnings.warn(\n",
      "Registered model 'CC Fraud AdaBoost Classifier' already exists. Creating a new version of this model...\n",
      "2025/06/30 21:19:56 INFO mlflow.store.model_registry.abstract_store: Waiting up to 300 seconds for model version to finish creation. Model name: CC Fraud AdaBoost Classifier, version 107\n",
      "Created version '107' of model 'CC Fraud AdaBoost Classifier'.\n"
     ]
    },
    {
     "name": "stdout",
     "output_type": "stream",
     "text": [
      "🏃 View run AdaBoost at: http://127.0.0.1:8768/#/experiments/1566/runs/52d27ffb5e00431cbefa3750ab3624e0\n",
      "🧪 View experiment at: http://127.0.0.1:8768/#/experiments/1566\n",
      "training model NaiveBayes\n"
     ]
    },
    {
     "name": "stderr",
     "output_type": "stream",
     "text": [
      "Registered model 'CC Fraud NaiveBayes Classifier' already exists. Creating a new version of this model...\n",
      "2025/06/30 21:20:03 INFO mlflow.store.model_registry.abstract_store: Waiting up to 300 seconds for model version to finish creation. Model name: CC Fraud NaiveBayes Classifier, version 42\n",
      "Created version '42' of model 'CC Fraud NaiveBayes Classifier'.\n"
     ]
    },
    {
     "name": "stdout",
     "output_type": "stream",
     "text": [
      "🏃 View run NaiveBayes at: http://127.0.0.1:8768/#/experiments/1566/runs/45665d57bfca41fe857315a8ff9f314e\n",
      "🧪 View experiment at: http://127.0.0.1:8768/#/experiments/1566\n",
      "training model XGBoost\n"
     ]
    },
    {
     "name": "stderr",
     "output_type": "stream",
     "text": [
      "Registered model 'CC Fraud XGBoost Classifier' already exists. Creating a new version of this model...\n",
      "2025/06/30 21:20:18 INFO mlflow.store.model_registry.abstract_store: Waiting up to 300 seconds for model version to finish creation. Model name: CC Fraud XGBoost Classifier, version 102\n",
      "Created version '102' of model 'CC Fraud XGBoost Classifier'.\n"
     ]
    },
    {
     "name": "stdout",
     "output_type": "stream",
     "text": [
      "🏃 View run XGBoost at: http://127.0.0.1:8768/#/experiments/1566/runs/8b85d0890e034be18630f8eb84ed679c\n",
      "🧪 View experiment at: http://127.0.0.1:8768/#/experiments/1566\n",
      "training model AdaBoost\n"
     ]
    },
    {
     "name": "stderr",
     "output_type": "stream",
     "text": [
      "/opt/conda/lib/python3.10/site-packages/sklearn/ensemble/_weight_boosting.py:527: FutureWarning: The SAMME.R algorithm (the default) is deprecated and will be removed in 1.6. Use the SAMME algorithm to circumvent this warning.\n",
      "  warnings.warn(\n",
      "Registered model 'CC Fraud AdaBoost Classifier' already exists. Creating a new version of this model...\n",
      "2025/06/30 21:20:26 INFO mlflow.store.model_registry.abstract_store: Waiting up to 300 seconds for model version to finish creation. Model name: CC Fraud AdaBoost Classifier, version 108\n",
      "Created version '108' of model 'CC Fraud AdaBoost Classifier'.\n"
     ]
    },
    {
     "name": "stdout",
     "output_type": "stream",
     "text": [
      "🏃 View run AdaBoost at: http://127.0.0.1:8768/#/experiments/1566/runs/ecb7b72a367c48e3bfc8401dbd21edf8\n",
      "🧪 View experiment at: http://127.0.0.1:8768/#/experiments/1566\n",
      "training model NaiveBayes\n"
     ]
    },
    {
     "name": "stderr",
     "output_type": "stream",
     "text": [
      "Registered model 'CC Fraud NaiveBayes Classifier' already exists. Creating a new version of this model...\n",
      "2025/06/30 21:20:33 INFO mlflow.store.model_registry.abstract_store: Waiting up to 300 seconds for model version to finish creation. Model name: CC Fraud NaiveBayes Classifier, version 43\n",
      "Created version '43' of model 'CC Fraud NaiveBayes Classifier'.\n"
     ]
    },
    {
     "name": "stdout",
     "output_type": "stream",
     "text": [
      "🏃 View run NaiveBayes at: http://127.0.0.1:8768/#/experiments/1566/runs/3cbb56fa88ca41fdae98413cbd7ee984\n",
      "🧪 View experiment at: http://127.0.0.1:8768/#/experiments/1566\n",
      "training model XGBoost\n"
     ]
    },
    {
     "name": "stderr",
     "output_type": "stream",
     "text": [
      "Registered model 'CC Fraud XGBoost Classifier' already exists. Creating a new version of this model...\n",
      "2025/06/30 21:20:46 INFO mlflow.store.model_registry.abstract_store: Waiting up to 300 seconds for model version to finish creation. Model name: CC Fraud XGBoost Classifier, version 103\n",
      "Created version '103' of model 'CC Fraud XGBoost Classifier'.\n"
     ]
    },
    {
     "name": "stdout",
     "output_type": "stream",
     "text": [
      "🏃 View run XGBoost at: http://127.0.0.1:8768/#/experiments/1566/runs/172f5ef2799948de967976045e64a2bc\n",
      "🧪 View experiment at: http://127.0.0.1:8768/#/experiments/1566\n",
      "training model AdaBoost\n"
     ]
    },
    {
     "name": "stderr",
     "output_type": "stream",
     "text": [
      "/opt/conda/lib/python3.10/site-packages/sklearn/ensemble/_weight_boosting.py:527: FutureWarning: The SAMME.R algorithm (the default) is deprecated and will be removed in 1.6. Use the SAMME algorithm to circumvent this warning.\n",
      "  warnings.warn(\n",
      "Registered model 'CC Fraud AdaBoost Classifier' already exists. Creating a new version of this model...\n",
      "2025/06/30 21:20:55 INFO mlflow.store.model_registry.abstract_store: Waiting up to 300 seconds for model version to finish creation. Model name: CC Fraud AdaBoost Classifier, version 109\n",
      "Created version '109' of model 'CC Fraud AdaBoost Classifier'.\n"
     ]
    },
    {
     "name": "stdout",
     "output_type": "stream",
     "text": [
      "🏃 View run AdaBoost at: http://127.0.0.1:8768/#/experiments/1566/runs/89225e004c284fa3a659b93a870529e7\n",
      "🧪 View experiment at: http://127.0.0.1:8768/#/experiments/1566\n",
      "training model NaiveBayes\n"
     ]
    },
    {
     "name": "stderr",
     "output_type": "stream",
     "text": [
      "Registered model 'CC Fraud NaiveBayes Classifier' already exists. Creating a new version of this model...\n",
      "2025/06/30 21:21:02 INFO mlflow.store.model_registry.abstract_store: Waiting up to 300 seconds for model version to finish creation. Model name: CC Fraud NaiveBayes Classifier, version 44\n",
      "Created version '44' of model 'CC Fraud NaiveBayes Classifier'.\n"
     ]
    },
    {
     "name": "stdout",
     "output_type": "stream",
     "text": [
      "🏃 View run NaiveBayes at: http://127.0.0.1:8768/#/experiments/1566/runs/1c3fd3ec106345548a5fc22b89ac42ee\n",
      "🧪 View experiment at: http://127.0.0.1:8768/#/experiments/1566\n",
      "training model XGBoost\n"
     ]
    },
    {
     "name": "stderr",
     "output_type": "stream",
     "text": [
      "Registered model 'CC Fraud XGBoost Classifier' already exists. Creating a new version of this model...\n",
      "2025/06/30 21:21:17 INFO mlflow.store.model_registry.abstract_store: Waiting up to 300 seconds for model version to finish creation. Model name: CC Fraud XGBoost Classifier, version 104\n",
      "Created version '104' of model 'CC Fraud XGBoost Classifier'.\n"
     ]
    },
    {
     "name": "stdout",
     "output_type": "stream",
     "text": [
      "🏃 View run XGBoost at: http://127.0.0.1:8768/#/experiments/1566/runs/1834c43c81fe42e4b7514938c9b2fed9\n",
      "🧪 View experiment at: http://127.0.0.1:8768/#/experiments/1566\n",
      "training model AdaBoost\n"
     ]
    },
    {
     "name": "stderr",
     "output_type": "stream",
     "text": [
      "/opt/conda/lib/python3.10/site-packages/sklearn/ensemble/_weight_boosting.py:527: FutureWarning: The SAMME.R algorithm (the default) is deprecated and will be removed in 1.6. Use the SAMME algorithm to circumvent this warning.\n",
      "  warnings.warn(\n",
      "Registered model 'CC Fraud AdaBoost Classifier' already exists. Creating a new version of this model...\n",
      "2025/06/30 21:21:25 INFO mlflow.store.model_registry.abstract_store: Waiting up to 300 seconds for model version to finish creation. Model name: CC Fraud AdaBoost Classifier, version 110\n",
      "Created version '110' of model 'CC Fraud AdaBoost Classifier'.\n"
     ]
    },
    {
     "name": "stdout",
     "output_type": "stream",
     "text": [
      "🏃 View run AdaBoost at: http://127.0.0.1:8768/#/experiments/1566/runs/169a9745dba44ae3b38e043d19031bdf\n",
      "🧪 View experiment at: http://127.0.0.1:8768/#/experiments/1566\n",
      "training model NaiveBayes\n"
     ]
    },
    {
     "name": "stderr",
     "output_type": "stream",
     "text": [
      "Registered model 'CC Fraud NaiveBayes Classifier' already exists. Creating a new version of this model...\n",
      "2025/06/30 21:21:32 INFO mlflow.store.model_registry.abstract_store: Waiting up to 300 seconds for model version to finish creation. Model name: CC Fraud NaiveBayes Classifier, version 45\n",
      "Created version '45' of model 'CC Fraud NaiveBayes Classifier'.\n"
     ]
    },
    {
     "name": "stdout",
     "output_type": "stream",
     "text": [
      "🏃 View run NaiveBayes at: http://127.0.0.1:8768/#/experiments/1566/runs/277e8d465c474b4b983298e6029c596a\n",
      "🧪 View experiment at: http://127.0.0.1:8768/#/experiments/1566\n",
      "training model XGBoost\n"
     ]
    },
    {
     "name": "stderr",
     "output_type": "stream",
     "text": [
      "Registered model 'CC Fraud XGBoost Classifier' already exists. Creating a new version of this model...\n",
      "2025/06/30 21:21:47 INFO mlflow.store.model_registry.abstract_store: Waiting up to 300 seconds for model version to finish creation. Model name: CC Fraud XGBoost Classifier, version 105\n",
      "Created version '105' of model 'CC Fraud XGBoost Classifier'.\n"
     ]
    },
    {
     "name": "stdout",
     "output_type": "stream",
     "text": [
      "🏃 View run XGBoost at: http://127.0.0.1:8768/#/experiments/1566/runs/4446d2ca6e9843edbf64cdc6f2257cc0\n",
      "🧪 View experiment at: http://127.0.0.1:8768/#/experiments/1566\n",
      "training model AdaBoost\n"
     ]
    },
    {
     "name": "stderr",
     "output_type": "stream",
     "text": [
      "/opt/conda/lib/python3.10/site-packages/sklearn/ensemble/_weight_boosting.py:527: FutureWarning: The SAMME.R algorithm (the default) is deprecated and will be removed in 1.6. Use the SAMME algorithm to circumvent this warning.\n",
      "  warnings.warn(\n",
      "Registered model 'CC Fraud AdaBoost Classifier' already exists. Creating a new version of this model...\n",
      "2025/06/30 21:21:55 INFO mlflow.store.model_registry.abstract_store: Waiting up to 300 seconds for model version to finish creation. Model name: CC Fraud AdaBoost Classifier, version 111\n",
      "Created version '111' of model 'CC Fraud AdaBoost Classifier'.\n"
     ]
    },
    {
     "name": "stdout",
     "output_type": "stream",
     "text": [
      "🏃 View run AdaBoost at: http://127.0.0.1:8768/#/experiments/1566/runs/7a06a0c8b60e4f2ab2a7a2489cf3ef02\n",
      "🧪 View experiment at: http://127.0.0.1:8768/#/experiments/1566\n",
      "training model NaiveBayes\n"
     ]
    },
    {
     "name": "stderr",
     "output_type": "stream",
     "text": [
      "Registered model 'CC Fraud NaiveBayes Classifier' already exists. Creating a new version of this model...\n",
      "2025/06/30 21:22:02 INFO mlflow.store.model_registry.abstract_store: Waiting up to 300 seconds for model version to finish creation. Model name: CC Fraud NaiveBayes Classifier, version 46\n",
      "Created version '46' of model 'CC Fraud NaiveBayes Classifier'.\n"
     ]
    },
    {
     "name": "stdout",
     "output_type": "stream",
     "text": [
      "🏃 View run NaiveBayes at: http://127.0.0.1:8768/#/experiments/1566/runs/ebb64416054e4b05b2f8189becb0ebec\n",
      "🧪 View experiment at: http://127.0.0.1:8768/#/experiments/1566\n"
     ]
    }
   ],
   "source": [
    "import argparse\n",
    "import mlflow\n",
    "from fraud_trainer import load_data, train_and_log\n",
    "from helpers.domino_short_id import domino_short_id\n",
    "from sklearn.ensemble import AdaBoostClassifier\n",
    "from xgboost import XGBClassifier\n",
    "from sklearn.naive_bayes import GaussianNB\n",
    "\n",
    "\n",
    "def train_fraud():\n",
    "    # parser = argparse.ArgumentParser(description=\"Train fraud classifiers and log to MLflow\")\n",
    "    # parser.add_argument('--clean-filename', required=True, help='CSV file name under data/<project>')\n",
    "    # parser.add_argument('--model', choices=['xgb','ada','all'], default='all', help='Which model(s) to run')\n",
    "    # parser.add_argument('--experiment-name', default=\"CC Fraud Classifier Training\", help='MLflow experiment name')\n",
    "    # parser.add_argument('--random-state', type=int, default=2018)\n",
    "    # args = parser.parse_args()\n",
    "    clean_filename = 'cleaned_cc_transactions.csv'\n",
    "    experiment_name = f\"CC Fraud Classifier Training {domino_short_id()}\"\n",
    "    model = 'ada'\n",
    "    random_state = None\n",
    "    \n",
    "    # Set up experiment\n",
    "    mlflow.set_experiment(experiment_name)\n",
    "\n",
    "    # Load data once\n",
    "    df, X_train, X_val, y_train, y_val, features = load_data(\n",
    "        clean_filename,\n",
    "        random_state=random_state\n",
    "    )\n",
    "    clean_filename = 'cleaned_cc_transactions.csv'\n",
    "    \n",
    "    xgb = XGBClassifier(\n",
    "        n_estimators=200,\n",
    "        learning_rate=0.05,\n",
    "        max_depth=4,\n",
    "        subsample=0.8,\n",
    "        colsample_bytree=0.8,\n",
    "        use_label_encoder=False,\n",
    "        eval_metric=\"auc\",\n",
    "        random_state=random_state\n",
    "    )\n",
    "    \n",
    "    ada = AdaBoostClassifier(\n",
    "        n_estimators=10,\n",
    "        learning_rate=0.1,\n",
    "        random_state=random_state\n",
    "    )\n",
    "    \n",
    "    gnb = GaussianNB()\n",
    "\n",
    "    model_list = [\n",
    "        (xgb, 'XGBoost'),\n",
    "        (ada, 'AdaBoost'),\n",
    "        (gnb, 'NaiveBayes')\n",
    "    ]\n",
    "    \n",
    "    for model, name in model_list:\n",
    "        print(f'training model {name}')\n",
    "        train_and_log(\n",
    "            model, name,\n",
    "            df, X_train, X_val, y_train, y_val,\n",
    "            features, clean_filename\n",
    "        )\n",
    "\n",
    "for i in range(15):\n",
    "    train_fraud()\n"
   ]
  },
  {
   "cell_type": "code",
   "execution_count": null,
   "id": "f6d39e0d-4d61-4dc0-ba03-270cc66be9a3",
   "metadata": {},
   "outputs": [],
   "source": []
  }
 ],
 "metadata": {
  "kernelspec": {
   "display_name": "Python 3 (ipykernel)",
   "language": "python",
   "name": "python3"
  },
  "language_info": {
   "codemirror_mode": {
    "name": "ipython",
    "version": 3
   },
   "file_extension": ".py",
   "mimetype": "text/x-python",
   "name": "python",
   "nbconvert_exporter": "python",
   "pygments_lexer": "ipython3",
   "version": "3.10.14"
  }
 },
 "nbformat": 4,
 "nbformat_minor": 5
}
