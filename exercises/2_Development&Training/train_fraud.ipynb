{
 "cells": [
  {
   "cell_type": "code",
   "execution_count": 5,
   "id": "1e892762",
   "metadata": {},
   "outputs": [
    {
     "name": "stdout",
     "output_type": "stream",
     "text": [
      "training model XGBoost\n"
     ]
    },
    {
     "name": "stderr",
     "output_type": "stream",
     "text": [
      "Registered model 'CC Fraud XGBoost Classifier' already exists. Creating a new version of this model...\n",
      "2025/06/30 20:48:32 INFO mlflow.store.model_registry.abstract_store: Waiting up to 300 seconds for model version to finish creation. Model name: CC Fraud XGBoost Classifier, version 76\n",
      "Created version '76' of model 'CC Fraud XGBoost Classifier'.\n"
     ]
    },
    {
     "name": "stdout",
     "output_type": "stream",
     "text": [
      "🏃 View run XGBoost at: http://127.0.0.1:8768/#/experiments/1566/runs/177cbdda5cfd4ddca89d85d6d10e8f82\n",
      "🧪 View experiment at: http://127.0.0.1:8768/#/experiments/1566\n",
      "training model AdaBoost\n"
     ]
    },
    {
     "name": "stderr",
     "output_type": "stream",
     "text": [
      "/opt/conda/lib/python3.10/site-packages/sklearn/ensemble/_weight_boosting.py:527: FutureWarning: The SAMME.R algorithm (the default) is deprecated and will be removed in 1.6. Use the SAMME algorithm to circumvent this warning.\n",
      "  warnings.warn(\n",
      "Registered model 'CC Fraud AdaBoost Classifier' already exists. Creating a new version of this model...\n",
      "2025/06/30 20:48:41 INFO mlflow.store.model_registry.abstract_store: Waiting up to 300 seconds for model version to finish creation. Model name: CC Fraud AdaBoost Classifier, version 82\n",
      "Created version '82' of model 'CC Fraud AdaBoost Classifier'.\n"
     ]
    },
    {
     "name": "stdout",
     "output_type": "stream",
     "text": [
      "🏃 View run AdaBoost at: http://127.0.0.1:8768/#/experiments/1566/runs/2936b6f9aaeb45c1bf894e49f979a4ce\n",
      "🧪 View experiment at: http://127.0.0.1:8768/#/experiments/1566\n",
      "training model NaiveBayes\n"
     ]
    },
    {
     "name": "stderr",
     "output_type": "stream",
     "text": [
      "Registered model 'CC Fraud NaiveBayes Classifier' already exists. Creating a new version of this model...\n",
      "2025/06/30 20:48:48 INFO mlflow.store.model_registry.abstract_store: Waiting up to 300 seconds for model version to finish creation. Model name: CC Fraud NaiveBayes Classifier, version 17\n",
      "Created version '17' of model 'CC Fraud NaiveBayes Classifier'.\n"
     ]
    },
    {
     "name": "stdout",
     "output_type": "stream",
     "text": [
      "🏃 View run NaiveBayes at: http://127.0.0.1:8768/#/experiments/1566/runs/268a94a5f8cf452fac462dd81c615699\n",
      "🧪 View experiment at: http://127.0.0.1:8768/#/experiments/1566\n",
      "training model XGBoost\n"
     ]
    },
    {
     "name": "stderr",
     "output_type": "stream",
     "text": [
      "Registered model 'CC Fraud XGBoost Classifier' already exists. Creating a new version of this model...\n",
      "2025/06/30 20:49:03 INFO mlflow.store.model_registry.abstract_store: Waiting up to 300 seconds for model version to finish creation. Model name: CC Fraud XGBoost Classifier, version 77\n",
      "Created version '77' of model 'CC Fraud XGBoost Classifier'.\n"
     ]
    },
    {
     "name": "stdout",
     "output_type": "stream",
     "text": [
      "🏃 View run XGBoost at: http://127.0.0.1:8768/#/experiments/1566/runs/22561272cf434e3b9807c283e3c31604\n",
      "🧪 View experiment at: http://127.0.0.1:8768/#/experiments/1566\n",
      "training model AdaBoost\n"
     ]
    },
    {
     "name": "stderr",
     "output_type": "stream",
     "text": [
      "/opt/conda/lib/python3.10/site-packages/sklearn/ensemble/_weight_boosting.py:527: FutureWarning: The SAMME.R algorithm (the default) is deprecated and will be removed in 1.6. Use the SAMME algorithm to circumvent this warning.\n",
      "  warnings.warn(\n",
      "Registered model 'CC Fraud AdaBoost Classifier' already exists. Creating a new version of this model...\n",
      "2025/06/30 20:49:11 INFO mlflow.store.model_registry.abstract_store: Waiting up to 300 seconds for model version to finish creation. Model name: CC Fraud AdaBoost Classifier, version 83\n",
      "Created version '83' of model 'CC Fraud AdaBoost Classifier'.\n"
     ]
    },
    {
     "name": "stdout",
     "output_type": "stream",
     "text": [
      "🏃 View run AdaBoost at: http://127.0.0.1:8768/#/experiments/1566/runs/e8cb99bc26c94c8f857e484d2a5c5ad8\n",
      "🧪 View experiment at: http://127.0.0.1:8768/#/experiments/1566\n",
      "training model NaiveBayes\n"
     ]
    },
    {
     "name": "stderr",
     "output_type": "stream",
     "text": [
      "Registered model 'CC Fraud NaiveBayes Classifier' already exists. Creating a new version of this model...\n",
      "2025/06/30 20:49:18 INFO mlflow.store.model_registry.abstract_store: Waiting up to 300 seconds for model version to finish creation. Model name: CC Fraud NaiveBayes Classifier, version 18\n",
      "Created version '18' of model 'CC Fraud NaiveBayes Classifier'.\n"
     ]
    },
    {
     "name": "stdout",
     "output_type": "stream",
     "text": [
      "🏃 View run NaiveBayes at: http://127.0.0.1:8768/#/experiments/1566/runs/b19f1443ebeb418f9cb9c5da13f0578b\n",
      "🧪 View experiment at: http://127.0.0.1:8768/#/experiments/1566\n",
      "training model XGBoost\n"
     ]
    },
    {
     "name": "stderr",
     "output_type": "stream",
     "text": [
      "Registered model 'CC Fraud XGBoost Classifier' already exists. Creating a new version of this model...\n",
      "2025/06/30 20:49:32 INFO mlflow.store.model_registry.abstract_store: Waiting up to 300 seconds for model version to finish creation. Model name: CC Fraud XGBoost Classifier, version 78\n",
      "Created version '78' of model 'CC Fraud XGBoost Classifier'.\n"
     ]
    },
    {
     "name": "stdout",
     "output_type": "stream",
     "text": [
      "🏃 View run XGBoost at: http://127.0.0.1:8768/#/experiments/1566/runs/a8ae7bed606942d8abdb94a54f2c0d55\n",
      "🧪 View experiment at: http://127.0.0.1:8768/#/experiments/1566\n",
      "training model AdaBoost\n"
     ]
    },
    {
     "name": "stderr",
     "output_type": "stream",
     "text": [
      "/opt/conda/lib/python3.10/site-packages/sklearn/ensemble/_weight_boosting.py:527: FutureWarning: The SAMME.R algorithm (the default) is deprecated and will be removed in 1.6. Use the SAMME algorithm to circumvent this warning.\n",
      "  warnings.warn(\n",
      "Registered model 'CC Fraud AdaBoost Classifier' already exists. Creating a new version of this model...\n",
      "2025/06/30 20:49:40 INFO mlflow.store.model_registry.abstract_store: Waiting up to 300 seconds for model version to finish creation. Model name: CC Fraud AdaBoost Classifier, version 84\n",
      "Created version '84' of model 'CC Fraud AdaBoost Classifier'.\n"
     ]
    },
    {
     "name": "stdout",
     "output_type": "stream",
     "text": [
      "🏃 View run AdaBoost at: http://127.0.0.1:8768/#/experiments/1566/runs/fe90823f58ae48088dad136775bc8673\n",
      "🧪 View experiment at: http://127.0.0.1:8768/#/experiments/1566\n",
      "training model NaiveBayes\n"
     ]
    },
    {
     "name": "stderr",
     "output_type": "stream",
     "text": [
      "Registered model 'CC Fraud NaiveBayes Classifier' already exists. Creating a new version of this model...\n",
      "2025/06/30 20:49:47 INFO mlflow.store.model_registry.abstract_store: Waiting up to 300 seconds for model version to finish creation. Model name: CC Fraud NaiveBayes Classifier, version 19\n",
      "Created version '19' of model 'CC Fraud NaiveBayes Classifier'.\n"
     ]
    },
    {
     "name": "stdout",
     "output_type": "stream",
     "text": [
      "🏃 View run NaiveBayes at: http://127.0.0.1:8768/#/experiments/1566/runs/aa45733f1ad149499a70df5b6ab5daea\n",
      "🧪 View experiment at: http://127.0.0.1:8768/#/experiments/1566\n",
      "training model XGBoost\n"
     ]
    },
    {
     "name": "stderr",
     "output_type": "stream",
     "text": [
      "Registered model 'CC Fraud XGBoost Classifier' already exists. Creating a new version of this model...\n",
      "2025/06/30 20:50:02 INFO mlflow.store.model_registry.abstract_store: Waiting up to 300 seconds for model version to finish creation. Model name: CC Fraud XGBoost Classifier, version 79\n",
      "Created version '79' of model 'CC Fraud XGBoost Classifier'.\n"
     ]
    },
    {
     "name": "stdout",
     "output_type": "stream",
     "text": [
      "🏃 View run XGBoost at: http://127.0.0.1:8768/#/experiments/1566/runs/bef2a9d7eb0646ce8b00b3fc41c473cd\n",
      "🧪 View experiment at: http://127.0.0.1:8768/#/experiments/1566\n",
      "training model AdaBoost\n"
     ]
    },
    {
     "name": "stderr",
     "output_type": "stream",
     "text": [
      "/opt/conda/lib/python3.10/site-packages/sklearn/ensemble/_weight_boosting.py:527: FutureWarning: The SAMME.R algorithm (the default) is deprecated and will be removed in 1.6. Use the SAMME algorithm to circumvent this warning.\n",
      "  warnings.warn(\n",
      "Registered model 'CC Fraud AdaBoost Classifier' already exists. Creating a new version of this model...\n",
      "2025/06/30 20:50:10 INFO mlflow.store.model_registry.abstract_store: Waiting up to 300 seconds for model version to finish creation. Model name: CC Fraud AdaBoost Classifier, version 85\n",
      "Created version '85' of model 'CC Fraud AdaBoost Classifier'.\n"
     ]
    },
    {
     "name": "stdout",
     "output_type": "stream",
     "text": [
      "🏃 View run AdaBoost at: http://127.0.0.1:8768/#/experiments/1566/runs/cc9710fe43cc46b98eb6aadbb6a125dc\n",
      "🧪 View experiment at: http://127.0.0.1:8768/#/experiments/1566\n",
      "training model NaiveBayes\n"
     ]
    },
    {
     "name": "stderr",
     "output_type": "stream",
     "text": [
      "Registered model 'CC Fraud NaiveBayes Classifier' already exists. Creating a new version of this model...\n",
      "2025/06/30 20:50:17 INFO mlflow.store.model_registry.abstract_store: Waiting up to 300 seconds for model version to finish creation. Model name: CC Fraud NaiveBayes Classifier, version 20\n",
      "Created version '20' of model 'CC Fraud NaiveBayes Classifier'.\n"
     ]
    },
    {
     "name": "stdout",
     "output_type": "stream",
     "text": [
      "🏃 View run NaiveBayes at: http://127.0.0.1:8768/#/experiments/1566/runs/e156f473c4984aca83469c050fa096ec\n",
      "🧪 View experiment at: http://127.0.0.1:8768/#/experiments/1566\n",
      "training model XGBoost\n"
     ]
    },
    {
     "name": "stderr",
     "output_type": "stream",
     "text": [
      "Registered model 'CC Fraud XGBoost Classifier' already exists. Creating a new version of this model...\n",
      "2025/06/30 20:50:30 INFO mlflow.store.model_registry.abstract_store: Waiting up to 300 seconds for model version to finish creation. Model name: CC Fraud XGBoost Classifier, version 80\n",
      "Created version '80' of model 'CC Fraud XGBoost Classifier'.\n"
     ]
    },
    {
     "name": "stdout",
     "output_type": "stream",
     "text": [
      "🏃 View run XGBoost at: http://127.0.0.1:8768/#/experiments/1566/runs/30f0baddc14c4a35926c96f8ec272436\n",
      "🧪 View experiment at: http://127.0.0.1:8768/#/experiments/1566\n",
      "training model AdaBoost\n"
     ]
    },
    {
     "name": "stderr",
     "output_type": "stream",
     "text": [
      "/opt/conda/lib/python3.10/site-packages/sklearn/ensemble/_weight_boosting.py:527: FutureWarning: The SAMME.R algorithm (the default) is deprecated and will be removed in 1.6. Use the SAMME algorithm to circumvent this warning.\n",
      "  warnings.warn(\n",
      "Registered model 'CC Fraud AdaBoost Classifier' already exists. Creating a new version of this model...\n",
      "2025/06/30 20:50:39 INFO mlflow.store.model_registry.abstract_store: Waiting up to 300 seconds for model version to finish creation. Model name: CC Fraud AdaBoost Classifier, version 86\n",
      "Created version '86' of model 'CC Fraud AdaBoost Classifier'.\n"
     ]
    },
    {
     "name": "stdout",
     "output_type": "stream",
     "text": [
      "🏃 View run AdaBoost at: http://127.0.0.1:8768/#/experiments/1566/runs/d604a42a7d2f42d98a8c8758f22b358d\n",
      "🧪 View experiment at: http://127.0.0.1:8768/#/experiments/1566\n",
      "training model NaiveBayes\n"
     ]
    },
    {
     "name": "stderr",
     "output_type": "stream",
     "text": [
      "Registered model 'CC Fraud NaiveBayes Classifier' already exists. Creating a new version of this model...\n",
      "2025/06/30 20:50:46 INFO mlflow.store.model_registry.abstract_store: Waiting up to 300 seconds for model version to finish creation. Model name: CC Fraud NaiveBayes Classifier, version 21\n",
      "Created version '21' of model 'CC Fraud NaiveBayes Classifier'.\n"
     ]
    },
    {
     "name": "stdout",
     "output_type": "stream",
     "text": [
      "🏃 View run NaiveBayes at: http://127.0.0.1:8768/#/experiments/1566/runs/776d37ef4af241ca9458846a46b273b7\n",
      "🧪 View experiment at: http://127.0.0.1:8768/#/experiments/1566\n",
      "training model XGBoost\n"
     ]
    },
    {
     "name": "stderr",
     "output_type": "stream",
     "text": [
      "Registered model 'CC Fraud XGBoost Classifier' already exists. Creating a new version of this model...\n",
      "2025/06/30 20:51:01 INFO mlflow.store.model_registry.abstract_store: Waiting up to 300 seconds for model version to finish creation. Model name: CC Fraud XGBoost Classifier, version 81\n",
      "Created version '81' of model 'CC Fraud XGBoost Classifier'.\n"
     ]
    },
    {
     "name": "stdout",
     "output_type": "stream",
     "text": [
      "🏃 View run XGBoost at: http://127.0.0.1:8768/#/experiments/1566/runs/b604b80d3d54481bb9eadfede8a33035\n",
      "🧪 View experiment at: http://127.0.0.1:8768/#/experiments/1566\n",
      "training model AdaBoost\n"
     ]
    },
    {
     "name": "stderr",
     "output_type": "stream",
     "text": [
      "/opt/conda/lib/python3.10/site-packages/sklearn/ensemble/_weight_boosting.py:527: FutureWarning: The SAMME.R algorithm (the default) is deprecated and will be removed in 1.6. Use the SAMME algorithm to circumvent this warning.\n",
      "  warnings.warn(\n",
      "Registered model 'CC Fraud AdaBoost Classifier' already exists. Creating a new version of this model...\n",
      "2025/06/30 20:51:10 INFO mlflow.store.model_registry.abstract_store: Waiting up to 300 seconds for model version to finish creation. Model name: CC Fraud AdaBoost Classifier, version 87\n",
      "Created version '87' of model 'CC Fraud AdaBoost Classifier'.\n"
     ]
    },
    {
     "name": "stdout",
     "output_type": "stream",
     "text": [
      "🏃 View run AdaBoost at: http://127.0.0.1:8768/#/experiments/1566/runs/ad80b3121db646ed8943e50bfa2974c1\n",
      "🧪 View experiment at: http://127.0.0.1:8768/#/experiments/1566\n",
      "training model NaiveBayes\n"
     ]
    },
    {
     "name": "stderr",
     "output_type": "stream",
     "text": [
      "Registered model 'CC Fraud NaiveBayes Classifier' already exists. Creating a new version of this model...\n",
      "2025/06/30 20:51:17 INFO mlflow.store.model_registry.abstract_store: Waiting up to 300 seconds for model version to finish creation. Model name: CC Fraud NaiveBayes Classifier, version 22\n",
      "Created version '22' of model 'CC Fraud NaiveBayes Classifier'.\n"
     ]
    },
    {
     "name": "stdout",
     "output_type": "stream",
     "text": [
      "🏃 View run NaiveBayes at: http://127.0.0.1:8768/#/experiments/1566/runs/7b04c7f05b12438387f9ffef785249ce\n",
      "🧪 View experiment at: http://127.0.0.1:8768/#/experiments/1566\n",
      "training model XGBoost\n"
     ]
    },
    {
     "name": "stderr",
     "output_type": "stream",
     "text": [
      "Registered model 'CC Fraud XGBoost Classifier' already exists. Creating a new version of this model...\n",
      "2025/06/30 20:51:30 INFO mlflow.store.model_registry.abstract_store: Waiting up to 300 seconds for model version to finish creation. Model name: CC Fraud XGBoost Classifier, version 82\n",
      "Created version '82' of model 'CC Fraud XGBoost Classifier'.\n"
     ]
    },
    {
     "name": "stdout",
     "output_type": "stream",
     "text": [
      "🏃 View run XGBoost at: http://127.0.0.1:8768/#/experiments/1566/runs/7ed571585a6642d085ad3f210fc2b0bb\n",
      "🧪 View experiment at: http://127.0.0.1:8768/#/experiments/1566\n",
      "training model AdaBoost\n"
     ]
    },
    {
     "name": "stderr",
     "output_type": "stream",
     "text": [
      "/opt/conda/lib/python3.10/site-packages/sklearn/ensemble/_weight_boosting.py:527: FutureWarning: The SAMME.R algorithm (the default) is deprecated and will be removed in 1.6. Use the SAMME algorithm to circumvent this warning.\n",
      "  warnings.warn(\n",
      "Registered model 'CC Fraud AdaBoost Classifier' already exists. Creating a new version of this model...\n",
      "2025/06/30 20:51:38 INFO mlflow.store.model_registry.abstract_store: Waiting up to 300 seconds for model version to finish creation. Model name: CC Fraud AdaBoost Classifier, version 88\n",
      "Created version '88' of model 'CC Fraud AdaBoost Classifier'.\n"
     ]
    },
    {
     "name": "stdout",
     "output_type": "stream",
     "text": [
      "🏃 View run AdaBoost at: http://127.0.0.1:8768/#/experiments/1566/runs/c62f0d89c4b14c8aa02ec4c8aad1b989\n",
      "🧪 View experiment at: http://127.0.0.1:8768/#/experiments/1566\n",
      "training model NaiveBayes\n"
     ]
    },
    {
     "name": "stderr",
     "output_type": "stream",
     "text": [
      "Registered model 'CC Fraud NaiveBayes Classifier' already exists. Creating a new version of this model...\n",
      "2025/06/30 20:51:45 INFO mlflow.store.model_registry.abstract_store: Waiting up to 300 seconds for model version to finish creation. Model name: CC Fraud NaiveBayes Classifier, version 23\n",
      "Created version '23' of model 'CC Fraud NaiveBayes Classifier'.\n"
     ]
    },
    {
     "name": "stdout",
     "output_type": "stream",
     "text": [
      "🏃 View run NaiveBayes at: http://127.0.0.1:8768/#/experiments/1566/runs/00184b0d5000460a8d39f0cd95a03bc2\n",
      "🧪 View experiment at: http://127.0.0.1:8768/#/experiments/1566\n",
      "training model XGBoost\n"
     ]
    },
    {
     "name": "stderr",
     "output_type": "stream",
     "text": [
      "Registered model 'CC Fraud XGBoost Classifier' already exists. Creating a new version of this model...\n",
      "2025/06/30 20:52:00 INFO mlflow.store.model_registry.abstract_store: Waiting up to 300 seconds for model version to finish creation. Model name: CC Fraud XGBoost Classifier, version 83\n",
      "Created version '83' of model 'CC Fraud XGBoost Classifier'.\n"
     ]
    },
    {
     "name": "stdout",
     "output_type": "stream",
     "text": [
      "🏃 View run XGBoost at: http://127.0.0.1:8768/#/experiments/1566/runs/776642c87bcb4770af52a831339de9a3\n",
      "🧪 View experiment at: http://127.0.0.1:8768/#/experiments/1566\n",
      "training model AdaBoost\n"
     ]
    },
    {
     "name": "stderr",
     "output_type": "stream",
     "text": [
      "/opt/conda/lib/python3.10/site-packages/sklearn/ensemble/_weight_boosting.py:527: FutureWarning: The SAMME.R algorithm (the default) is deprecated and will be removed in 1.6. Use the SAMME algorithm to circumvent this warning.\n",
      "  warnings.warn(\n",
      "Registered model 'CC Fraud AdaBoost Classifier' already exists. Creating a new version of this model...\n",
      "2025/06/30 20:52:09 INFO mlflow.store.model_registry.abstract_store: Waiting up to 300 seconds for model version to finish creation. Model name: CC Fraud AdaBoost Classifier, version 89\n",
      "Created version '89' of model 'CC Fraud AdaBoost Classifier'.\n"
     ]
    },
    {
     "name": "stdout",
     "output_type": "stream",
     "text": [
      "🏃 View run AdaBoost at: http://127.0.0.1:8768/#/experiments/1566/runs/c1a1a237343e48c0ab79c90c690cd6f7\n",
      "🧪 View experiment at: http://127.0.0.1:8768/#/experiments/1566\n",
      "training model NaiveBayes\n"
     ]
    },
    {
     "name": "stderr",
     "output_type": "stream",
     "text": [
      "Registered model 'CC Fraud NaiveBayes Classifier' already exists. Creating a new version of this model...\n",
      "2025/06/30 20:52:17 INFO mlflow.store.model_registry.abstract_store: Waiting up to 300 seconds for model version to finish creation. Model name: CC Fraud NaiveBayes Classifier, version 24\n",
      "Created version '24' of model 'CC Fraud NaiveBayes Classifier'.\n"
     ]
    },
    {
     "name": "stdout",
     "output_type": "stream",
     "text": [
      "🏃 View run NaiveBayes at: http://127.0.0.1:8768/#/experiments/1566/runs/298be21d4e334cda9437b38afcbdf4a9\n",
      "🧪 View experiment at: http://127.0.0.1:8768/#/experiments/1566\n",
      "training model XGBoost\n"
     ]
    },
    {
     "name": "stderr",
     "output_type": "stream",
     "text": [
      "Registered model 'CC Fraud XGBoost Classifier' already exists. Creating a new version of this model...\n",
      "2025/06/30 20:52:32 INFO mlflow.store.model_registry.abstract_store: Waiting up to 300 seconds for model version to finish creation. Model name: CC Fraud XGBoost Classifier, version 84\n",
      "Created version '84' of model 'CC Fraud XGBoost Classifier'.\n"
     ]
    },
    {
     "name": "stdout",
     "output_type": "stream",
     "text": [
      "🏃 View run XGBoost at: http://127.0.0.1:8768/#/experiments/1566/runs/7866ab9018f5475887fae72806371c6d\n",
      "🧪 View experiment at: http://127.0.0.1:8768/#/experiments/1566\n",
      "training model AdaBoost\n"
     ]
    },
    {
     "name": "stderr",
     "output_type": "stream",
     "text": [
      "/opt/conda/lib/python3.10/site-packages/sklearn/ensemble/_weight_boosting.py:527: FutureWarning: The SAMME.R algorithm (the default) is deprecated and will be removed in 1.6. Use the SAMME algorithm to circumvent this warning.\n",
      "  warnings.warn(\n",
      "Registered model 'CC Fraud AdaBoost Classifier' already exists. Creating a new version of this model...\n",
      "2025/06/30 20:52:40 INFO mlflow.store.model_registry.abstract_store: Waiting up to 300 seconds for model version to finish creation. Model name: CC Fraud AdaBoost Classifier, version 90\n",
      "Created version '90' of model 'CC Fraud AdaBoost Classifier'.\n"
     ]
    },
    {
     "name": "stdout",
     "output_type": "stream",
     "text": [
      "🏃 View run AdaBoost at: http://127.0.0.1:8768/#/experiments/1566/runs/d15506eb104f411fb4d1ac1a9090983f\n",
      "🧪 View experiment at: http://127.0.0.1:8768/#/experiments/1566\n",
      "training model NaiveBayes\n"
     ]
    },
    {
     "name": "stderr",
     "output_type": "stream",
     "text": [
      "Registered model 'CC Fraud NaiveBayes Classifier' already exists. Creating a new version of this model...\n",
      "2025/06/30 20:52:47 INFO mlflow.store.model_registry.abstract_store: Waiting up to 300 seconds for model version to finish creation. Model name: CC Fraud NaiveBayes Classifier, version 25\n",
      "Created version '25' of model 'CC Fraud NaiveBayes Classifier'.\n"
     ]
    },
    {
     "name": "stdout",
     "output_type": "stream",
     "text": [
      "🏃 View run NaiveBayes at: http://127.0.0.1:8768/#/experiments/1566/runs/1e52954556884417b1101ec6a8cd3c69\n",
      "🧪 View experiment at: http://127.0.0.1:8768/#/experiments/1566\n",
      "training model XGBoost\n"
     ]
    },
    {
     "name": "stderr",
     "output_type": "stream",
     "text": [
      "Registered model 'CC Fraud XGBoost Classifier' already exists. Creating a new version of this model...\n",
      "2025/06/30 20:53:01 INFO mlflow.store.model_registry.abstract_store: Waiting up to 300 seconds for model version to finish creation. Model name: CC Fraud XGBoost Classifier, version 85\n",
      "Created version '85' of model 'CC Fraud XGBoost Classifier'.\n"
     ]
    },
    {
     "name": "stdout",
     "output_type": "stream",
     "text": [
      "🏃 View run XGBoost at: http://127.0.0.1:8768/#/experiments/1566/runs/a88985736d414c0ab310f75e79e55076\n",
      "🧪 View experiment at: http://127.0.0.1:8768/#/experiments/1566\n",
      "training model AdaBoost\n"
     ]
    },
    {
     "name": "stderr",
     "output_type": "stream",
     "text": [
      "/opt/conda/lib/python3.10/site-packages/sklearn/ensemble/_weight_boosting.py:527: FutureWarning: The SAMME.R algorithm (the default) is deprecated and will be removed in 1.6. Use the SAMME algorithm to circumvent this warning.\n",
      "  warnings.warn(\n",
      "Registered model 'CC Fraud AdaBoost Classifier' already exists. Creating a new version of this model...\n",
      "2025/06/30 20:53:09 INFO mlflow.store.model_registry.abstract_store: Waiting up to 300 seconds for model version to finish creation. Model name: CC Fraud AdaBoost Classifier, version 91\n",
      "Created version '91' of model 'CC Fraud AdaBoost Classifier'.\n"
     ]
    },
    {
     "name": "stdout",
     "output_type": "stream",
     "text": [
      "🏃 View run AdaBoost at: http://127.0.0.1:8768/#/experiments/1566/runs/83b9fac8f6d5422b85fab8efdcfd1b75\n",
      "🧪 View experiment at: http://127.0.0.1:8768/#/experiments/1566\n",
      "training model NaiveBayes\n"
     ]
    },
    {
     "name": "stderr",
     "output_type": "stream",
     "text": [
      "Registered model 'CC Fraud NaiveBayes Classifier' already exists. Creating a new version of this model...\n",
      "2025/06/30 20:53:16 INFO mlflow.store.model_registry.abstract_store: Waiting up to 300 seconds for model version to finish creation. Model name: CC Fraud NaiveBayes Classifier, version 26\n",
      "Created version '26' of model 'CC Fraud NaiveBayes Classifier'.\n"
     ]
    },
    {
     "name": "stdout",
     "output_type": "stream",
     "text": [
      "🏃 View run NaiveBayes at: http://127.0.0.1:8768/#/experiments/1566/runs/e120e0557a7245a28639329fd4d60391\n",
      "🧪 View experiment at: http://127.0.0.1:8768/#/experiments/1566\n",
      "training model XGBoost\n"
     ]
    },
    {
     "name": "stderr",
     "output_type": "stream",
     "text": [
      "Registered model 'CC Fraud XGBoost Classifier' already exists. Creating a new version of this model...\n",
      "2025/06/30 20:53:32 INFO mlflow.store.model_registry.abstract_store: Waiting up to 300 seconds for model version to finish creation. Model name: CC Fraud XGBoost Classifier, version 86\n",
      "Created version '86' of model 'CC Fraud XGBoost Classifier'.\n"
     ]
    },
    {
     "name": "stdout",
     "output_type": "stream",
     "text": [
      "🏃 View run XGBoost at: http://127.0.0.1:8768/#/experiments/1566/runs/ba060f1653944c658cf8cebdcfd25313\n",
      "🧪 View experiment at: http://127.0.0.1:8768/#/experiments/1566\n",
      "training model AdaBoost\n"
     ]
    },
    {
     "name": "stderr",
     "output_type": "stream",
     "text": [
      "/opt/conda/lib/python3.10/site-packages/sklearn/ensemble/_weight_boosting.py:527: FutureWarning: The SAMME.R algorithm (the default) is deprecated and will be removed in 1.6. Use the SAMME algorithm to circumvent this warning.\n",
      "  warnings.warn(\n",
      "Registered model 'CC Fraud AdaBoost Classifier' already exists. Creating a new version of this model...\n",
      "2025/06/30 20:53:40 INFO mlflow.store.model_registry.abstract_store: Waiting up to 300 seconds for model version to finish creation. Model name: CC Fraud AdaBoost Classifier, version 92\n",
      "Created version '92' of model 'CC Fraud AdaBoost Classifier'.\n"
     ]
    },
    {
     "name": "stdout",
     "output_type": "stream",
     "text": [
      "🏃 View run AdaBoost at: http://127.0.0.1:8768/#/experiments/1566/runs/93c3acdd78104d76b1cd37192900da07\n",
      "🧪 View experiment at: http://127.0.0.1:8768/#/experiments/1566\n",
      "training model NaiveBayes\n"
     ]
    },
    {
     "name": "stderr",
     "output_type": "stream",
     "text": [
      "Registered model 'CC Fraud NaiveBayes Classifier' already exists. Creating a new version of this model...\n",
      "2025/06/30 20:53:47 INFO mlflow.store.model_registry.abstract_store: Waiting up to 300 seconds for model version to finish creation. Model name: CC Fraud NaiveBayes Classifier, version 27\n",
      "Created version '27' of model 'CC Fraud NaiveBayes Classifier'.\n"
     ]
    },
    {
     "name": "stdout",
     "output_type": "stream",
     "text": [
      "🏃 View run NaiveBayes at: http://127.0.0.1:8768/#/experiments/1566/runs/9f08709f80c64a2e8a75528faadec390\n",
      "🧪 View experiment at: http://127.0.0.1:8768/#/experiments/1566\n",
      "training model XGBoost\n"
     ]
    },
    {
     "name": "stderr",
     "output_type": "stream",
     "text": [
      "Registered model 'CC Fraud XGBoost Classifier' already exists. Creating a new version of this model...\n",
      "2025/06/30 20:54:01 INFO mlflow.store.model_registry.abstract_store: Waiting up to 300 seconds for model version to finish creation. Model name: CC Fraud XGBoost Classifier, version 87\n",
      "Created version '87' of model 'CC Fraud XGBoost Classifier'.\n"
     ]
    },
    {
     "name": "stdout",
     "output_type": "stream",
     "text": [
      "🏃 View run XGBoost at: http://127.0.0.1:8768/#/experiments/1566/runs/cea3aaf7428a4a518034fd908e04ceaf\n",
      "🧪 View experiment at: http://127.0.0.1:8768/#/experiments/1566\n",
      "training model AdaBoost\n"
     ]
    },
    {
     "name": "stderr",
     "output_type": "stream",
     "text": [
      "/opt/conda/lib/python3.10/site-packages/sklearn/ensemble/_weight_boosting.py:527: FutureWarning: The SAMME.R algorithm (the default) is deprecated and will be removed in 1.6. Use the SAMME algorithm to circumvent this warning.\n",
      "  warnings.warn(\n",
      "Registered model 'CC Fraud AdaBoost Classifier' already exists. Creating a new version of this model...\n",
      "2025/06/30 20:54:10 INFO mlflow.store.model_registry.abstract_store: Waiting up to 300 seconds for model version to finish creation. Model name: CC Fraud AdaBoost Classifier, version 93\n",
      "Created version '93' of model 'CC Fraud AdaBoost Classifier'.\n"
     ]
    },
    {
     "name": "stdout",
     "output_type": "stream",
     "text": [
      "🏃 View run AdaBoost at: http://127.0.0.1:8768/#/experiments/1566/runs/44c64b72afba4fd2bbf35e12149d8f4a\n",
      "🧪 View experiment at: http://127.0.0.1:8768/#/experiments/1566\n",
      "training model NaiveBayes\n"
     ]
    },
    {
     "name": "stderr",
     "output_type": "stream",
     "text": [
      "Registered model 'CC Fraud NaiveBayes Classifier' already exists. Creating a new version of this model...\n",
      "2025/06/30 20:54:18 INFO mlflow.store.model_registry.abstract_store: Waiting up to 300 seconds for model version to finish creation. Model name: CC Fraud NaiveBayes Classifier, version 28\n",
      "Created version '28' of model 'CC Fraud NaiveBayes Classifier'.\n"
     ]
    },
    {
     "name": "stdout",
     "output_type": "stream",
     "text": [
      "🏃 View run NaiveBayes at: http://127.0.0.1:8768/#/experiments/1566/runs/66be8265850f4881b019b0593caa3e66\n",
      "🧪 View experiment at: http://127.0.0.1:8768/#/experiments/1566\n",
      "training model XGBoost\n"
     ]
    },
    {
     "name": "stderr",
     "output_type": "stream",
     "text": [
      "Registered model 'CC Fraud XGBoost Classifier' already exists. Creating a new version of this model...\n",
      "2025/06/30 20:54:32 INFO mlflow.store.model_registry.abstract_store: Waiting up to 300 seconds for model version to finish creation. Model name: CC Fraud XGBoost Classifier, version 88\n",
      "Created version '88' of model 'CC Fraud XGBoost Classifier'.\n"
     ]
    },
    {
     "name": "stdout",
     "output_type": "stream",
     "text": [
      "🏃 View run XGBoost at: http://127.0.0.1:8768/#/experiments/1566/runs/840ca587b67141eaaa01c125b6e7fcea\n",
      "🧪 View experiment at: http://127.0.0.1:8768/#/experiments/1566\n",
      "training model AdaBoost\n"
     ]
    },
    {
     "name": "stderr",
     "output_type": "stream",
     "text": [
      "/opt/conda/lib/python3.10/site-packages/sklearn/ensemble/_weight_boosting.py:527: FutureWarning: The SAMME.R algorithm (the default) is deprecated and will be removed in 1.6. Use the SAMME algorithm to circumvent this warning.\n",
      "  warnings.warn(\n",
      "Registered model 'CC Fraud AdaBoost Classifier' already exists. Creating a new version of this model...\n",
      "2025/06/30 20:54:41 INFO mlflow.store.model_registry.abstract_store: Waiting up to 300 seconds for model version to finish creation. Model name: CC Fraud AdaBoost Classifier, version 94\n",
      "Created version '94' of model 'CC Fraud AdaBoost Classifier'.\n"
     ]
    },
    {
     "name": "stdout",
     "output_type": "stream",
     "text": [
      "🏃 View run AdaBoost at: http://127.0.0.1:8768/#/experiments/1566/runs/e5925b0716ea4279ad329e6ffac7d742\n",
      "🧪 View experiment at: http://127.0.0.1:8768/#/experiments/1566\n",
      "training model NaiveBayes\n"
     ]
    },
    {
     "name": "stderr",
     "output_type": "stream",
     "text": [
      "Registered model 'CC Fraud NaiveBayes Classifier' already exists. Creating a new version of this model...\n",
      "2025/06/30 20:54:48 INFO mlflow.store.model_registry.abstract_store: Waiting up to 300 seconds for model version to finish creation. Model name: CC Fraud NaiveBayes Classifier, version 29\n",
      "Created version '29' of model 'CC Fraud NaiveBayes Classifier'.\n"
     ]
    },
    {
     "name": "stdout",
     "output_type": "stream",
     "text": [
      "🏃 View run NaiveBayes at: http://127.0.0.1:8768/#/experiments/1566/runs/0264a8ba52f7473b9f23ff2ea7030d4a\n",
      "🧪 View experiment at: http://127.0.0.1:8768/#/experiments/1566\n",
      "training model XGBoost\n"
     ]
    },
    {
     "name": "stderr",
     "output_type": "stream",
     "text": [
      "Registered model 'CC Fraud XGBoost Classifier' already exists. Creating a new version of this model...\n",
      "2025/06/30 20:55:02 INFO mlflow.store.model_registry.abstract_store: Waiting up to 300 seconds for model version to finish creation. Model name: CC Fraud XGBoost Classifier, version 89\n",
      "Created version '89' of model 'CC Fraud XGBoost Classifier'.\n"
     ]
    },
    {
     "name": "stdout",
     "output_type": "stream",
     "text": [
      "🏃 View run XGBoost at: http://127.0.0.1:8768/#/experiments/1566/runs/78e20f93ad5e47e790ca5a731716d75e\n",
      "🧪 View experiment at: http://127.0.0.1:8768/#/experiments/1566\n",
      "training model AdaBoost\n"
     ]
    },
    {
     "name": "stderr",
     "output_type": "stream",
     "text": [
      "/opt/conda/lib/python3.10/site-packages/sklearn/ensemble/_weight_boosting.py:527: FutureWarning: The SAMME.R algorithm (the default) is deprecated and will be removed in 1.6. Use the SAMME algorithm to circumvent this warning.\n",
      "  warnings.warn(\n",
      "Registered model 'CC Fraud AdaBoost Classifier' already exists. Creating a new version of this model...\n",
      "2025/06/30 20:55:10 INFO mlflow.store.model_registry.abstract_store: Waiting up to 300 seconds for model version to finish creation. Model name: CC Fraud AdaBoost Classifier, version 95\n",
      "Created version '95' of model 'CC Fraud AdaBoost Classifier'.\n"
     ]
    },
    {
     "name": "stdout",
     "output_type": "stream",
     "text": [
      "🏃 View run AdaBoost at: http://127.0.0.1:8768/#/experiments/1566/runs/6f4d1f71d3ce46ad8d1912744a352eb2\n",
      "🧪 View experiment at: http://127.0.0.1:8768/#/experiments/1566\n",
      "training model NaiveBayes\n"
     ]
    },
    {
     "name": "stderr",
     "output_type": "stream",
     "text": [
      "Registered model 'CC Fraud NaiveBayes Classifier' already exists. Creating a new version of this model...\n",
      "2025/06/30 20:55:17 INFO mlflow.store.model_registry.abstract_store: Waiting up to 300 seconds for model version to finish creation. Model name: CC Fraud NaiveBayes Classifier, version 30\n",
      "Created version '30' of model 'CC Fraud NaiveBayes Classifier'.\n"
     ]
    },
    {
     "name": "stdout",
     "output_type": "stream",
     "text": [
      "🏃 View run NaiveBayes at: http://127.0.0.1:8768/#/experiments/1566/runs/f0732a29a4ce43f8a296bab61c021e3a\n",
      "🧪 View experiment at: http://127.0.0.1:8768/#/experiments/1566\n",
      "training model XGBoost\n"
     ]
    },
    {
     "name": "stderr",
     "output_type": "stream",
     "text": [
      "Registered model 'CC Fraud XGBoost Classifier' already exists. Creating a new version of this model...\n",
      "2025/06/30 20:55:31 INFO mlflow.store.model_registry.abstract_store: Waiting up to 300 seconds for model version to finish creation. Model name: CC Fraud XGBoost Classifier, version 90\n",
      "Created version '90' of model 'CC Fraud XGBoost Classifier'.\n"
     ]
    },
    {
     "name": "stdout",
     "output_type": "stream",
     "text": [
      "🏃 View run XGBoost at: http://127.0.0.1:8768/#/experiments/1566/runs/dc2517fa2a10497ca1279be59b88d042\n",
      "🧪 View experiment at: http://127.0.0.1:8768/#/experiments/1566\n",
      "training model AdaBoost\n"
     ]
    },
    {
     "name": "stderr",
     "output_type": "stream",
     "text": [
      "/opt/conda/lib/python3.10/site-packages/sklearn/ensemble/_weight_boosting.py:527: FutureWarning: The SAMME.R algorithm (the default) is deprecated and will be removed in 1.6. Use the SAMME algorithm to circumvent this warning.\n",
      "  warnings.warn(\n",
      "Registered model 'CC Fraud AdaBoost Classifier' already exists. Creating a new version of this model...\n",
      "2025/06/30 20:55:40 INFO mlflow.store.model_registry.abstract_store: Waiting up to 300 seconds for model version to finish creation. Model name: CC Fraud AdaBoost Classifier, version 96\n",
      "Created version '96' of model 'CC Fraud AdaBoost Classifier'.\n"
     ]
    },
    {
     "name": "stdout",
     "output_type": "stream",
     "text": [
      "🏃 View run AdaBoost at: http://127.0.0.1:8768/#/experiments/1566/runs/1347017d17bc47e6ba72bcc5b6c1c575\n",
      "🧪 View experiment at: http://127.0.0.1:8768/#/experiments/1566\n",
      "training model NaiveBayes\n"
     ]
    },
    {
     "name": "stderr",
     "output_type": "stream",
     "text": [
      "Registered model 'CC Fraud NaiveBayes Classifier' already exists. Creating a new version of this model...\n",
      "2025/06/30 20:55:47 INFO mlflow.store.model_registry.abstract_store: Waiting up to 300 seconds for model version to finish creation. Model name: CC Fraud NaiveBayes Classifier, version 31\n",
      "Created version '31' of model 'CC Fraud NaiveBayes Classifier'.\n"
     ]
    },
    {
     "name": "stdout",
     "output_type": "stream",
     "text": [
      "🏃 View run NaiveBayes at: http://127.0.0.1:8768/#/experiments/1566/runs/6788b2e08b4542318eb30bf702837e2e\n",
      "🧪 View experiment at: http://127.0.0.1:8768/#/experiments/1566\n"
     ]
    }
   ],
   "source": [
    "import argparse\n",
    "import mlflow\n",
    "from fraud_trainer import load_data, train_and_log\n",
    "from helpers.domino_short_id import domino_short_id\n",
    "from sklearn.ensemble import AdaBoostClassifier\n",
    "from xgboost import XGBClassifier\n",
    "from sklearn.naive_bayes import GaussianNB\n",
    "\n",
    "\n",
    "def train_fraud():\n",
    "    # parser = argparse.ArgumentParser(description=\"Train fraud classifiers and log to MLflow\")\n",
    "    # parser.add_argument('--clean-filename', required=True, help='CSV file name under data/<project>')\n",
    "    # parser.add_argument('--model', choices=['xgb','ada','all'], default='all', help='Which model(s) to run')\n",
    "    # parser.add_argument('--experiment-name', default=\"CC Fraud Classifier Training\", help='MLflow experiment name')\n",
    "    # parser.add_argument('--random-state', type=int, default=2018)\n",
    "    # args = parser.parse_args()\n",
    "    clean_filename = 'cleaned_cc_transactions.csv'\n",
    "    experiment_name = f\"CC Fraud Classifier Training {domino_short_id()}\"\n",
    "    model = 'ada'\n",
    "    random_state = None\n",
    "    \n",
    "    # Set up experiment\n",
    "    mlflow.set_experiment(experiment_name)\n",
    "\n",
    "    # Load data once\n",
    "    df, X_train, X_val, y_train, y_val, features = load_data(\n",
    "        clean_filename,\n",
    "        random_state=random_state\n",
    "    )\n",
    "    clean_filename = 'cleaned_cc_transactions.csv'\n",
    "    \n",
    "    xgb = XGBClassifier(\n",
    "        n_estimators=200,\n",
    "        learning_rate=0.05,\n",
    "        max_depth=4,\n",
    "        subsample=0.8,\n",
    "        colsample_bytree=0.8,\n",
    "        use_label_encoder=False,\n",
    "        eval_metric=\"auc\",\n",
    "        random_state=random_state\n",
    "    )\n",
    "    \n",
    "    ada = AdaBoostClassifier(\n",
    "        n_estimators=10,\n",
    "        learning_rate=0.1,\n",
    "        random_state=random_state\n",
    "    )\n",
    "    \n",
    "    gnb = GaussianNB()\n",
    "\n",
    "    model_list = [\n",
    "        (xgb, 'XGBoost'),\n",
    "        (ada, 'AdaBoost'),\n",
    "        (gnb, 'NaiveBayes')\n",
    "    ]\n",
    "    \n",
    "    for model, name in model_list:\n",
    "        print(f'training model {name}')\n",
    "        train_and_log(\n",
    "            model, name,\n",
    "            df, X_train, X_val, y_train, y_val,\n",
    "            features, clean_filename\n",
    "        )\n",
    "\n",
    "for i in range(15):\n",
    "    train_fraud()\n"
   ]
  },
  {
   "cell_type": "code",
   "execution_count": null,
   "id": "f6d39e0d-4d61-4dc0-ba03-270cc66be9a3",
   "metadata": {},
   "outputs": [],
   "source": []
  }
 ],
 "metadata": {
  "kernelspec": {
   "display_name": "Python 3 (ipykernel)",
   "language": "python",
   "name": "python3"
  },
  "language_info": {
   "codemirror_mode": {
    "name": "ipython",
    "version": 3
   },
   "file_extension": ".py",
   "mimetype": "text/x-python",
   "name": "python",
   "nbconvert_exporter": "python",
   "pygments_lexer": "ipython3",
   "version": "3.10.14"
  }
 },
 "nbformat": 4,
 "nbformat_minor": 5
}
