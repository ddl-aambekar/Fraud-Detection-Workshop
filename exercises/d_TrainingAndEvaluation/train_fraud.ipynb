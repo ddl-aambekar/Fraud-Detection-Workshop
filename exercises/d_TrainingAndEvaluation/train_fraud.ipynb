{
 "cells": [
  {
   "cell_type": "code",
   "execution_count": 2,
   "id": "1e892762",
   "metadata": {},
   "outputs": [
    {
     "name": "stdout",
     "output_type": "stream",
     "text": [
      "training model AdaBoost\n",
      "🏃 View run AdaBoost at: http://127.0.0.1:8768/#/experiments/1566/runs/e252926ca5d54f8a87acd1c9b78c0f4e\n",
      "🧪 View experiment at: http://127.0.0.1:8768/#/experiments/1566\n",
      "✅ Training AdaBoost completed successfully\n",
      "{'model_name': 'AdaBoost', 'roc_auc': 0.7920946465652298, 'pr_auc': 0.6611633477127952, 'accuracy': 0.8233389457324181, 'precision_fraud': 0.8026649746192893, 'recall_fraud': 0.6788908765652951, 'f1_fraud': 0.7356076759061834, 'fit_time_sec': 1.3792343139648438}\n",
      "training model GaussianNB\n",
      "🏃 View run GaussianNB at: http://127.0.0.1:8768/#/experiments/1566/runs/5878ca9f00884fbe91e984889b3b5fc7\n",
      "🧪 View experiment at: http://127.0.0.1:8768/#/experiments/1566\n",
      "✅ Training GaussianNB completed successfully\n",
      "{'model_name': 'GaussianNB', 'roc_auc': 0.8606071740107799, 'pr_auc': 0.7316422120373787, 'accuracy': 0.7477010749902863, 'precision_fraud': 0.7819573901464714, 'recall_fraud': 0.4202146690518784, 'f1_fraud': 0.5466604607865952, 'fit_time_sec': 0.0312349796295166}\n",
      "training model XGBoost\n",
      "🏃 View run XGBoost at: http://127.0.0.1:8768/#/experiments/1566/runs/ab1491ce8ed344ab947ee12899b2aea1\n",
      "🧪 View experiment at: http://127.0.0.1:8768/#/experiments/1566\n",
      "✅ Training XGBoost completed successfully\n",
      "{'model_name': 'XGBoost', 'roc_auc': 0.9318631851582309, 'pr_auc': 0.8969275427366508, 'accuracy': 0.8467167465354228, 'precision_fraud': 0.8099634545104828, 'recall_fraud': 0.7533094812164579, 'f1_fraud': 0.7806098804337751, 'fit_time_sec': 8.1390380859375}\n",
      "✅✅✅ Trainings completed successfully\n"
     ]
    }
   ],
   "source": [
    "# File: flows/b_training_ada.py\n",
    "from sklearn.naive_bayes import GaussianNB\n",
    "from sklearn.ensemble import AdaBoostClassifier\n",
    "from xgboost import XGBClassifier\n",
    "\n",
    "from exercises.d_TrainingAndEvaluation.generic_trainer import train_fraud\n",
    "from domino_short_id import domino_short_id\n",
    "\n",
    "\n",
    "# Load DataFrame from data source\n",
    "transformed_df_filename = 'transformed_cc_transactions.csv'\n",
    "\n",
    "ada_model = {'model': AdaBoostClassifier(\n",
    "            n_estimators=10,\n",
    "            learning_rate=0.001,\n",
    "            algorithm=\"SAMME\",\n",
    "        ), 'name': \"AdaBoost\"}\n",
    "gnb_model = {'model': GaussianNB(), \n",
    "             'name': \"GaussianNB\"}\n",
    "xbg_model = {'model': XGBClassifier(\n",
    "            n_estimators=200,\n",
    "            learning_rate=0.05,\n",
    "            max_depth=4,\n",
    "            subsample=0.8,\n",
    "            colsample_bytree=0.8,\n",
    "            use_label_encoder=False,\n",
    "            eval_metric=\"auc\",\n",
    "        ), 'name': \"XGBoost\"}\n",
    "\n",
    "all_models = [ada_model, gnb_model, xbg_model]\n",
    "\n",
    "for model_dict in all_models:\n",
    "    model_name = model_dict['name']\n",
    "    model_obj = model_dict['model']\n",
    "    res = train_fraud(model_obj, model_name, transformed_df_filename)\n",
    "    print(f\"✅ Training {model_name} completed successfully\")\n",
    "    print(res)\n",
    "    \n",
    "print(f\"{'✅' * len(all_models)} Trainings completed successfully\")\n",
    "\n"
   ]
  },
  {
   "cell_type": "code",
   "execution_count": null,
   "id": "a6540a44-e4b0-4b7e-a2d4-b8ff7e811012",
   "metadata": {},
   "outputs": [],
   "source": []
  }
 ],
 "metadata": {
  "kernelspec": {
   "display_name": "Python 3 (ipykernel)",
   "language": "python",
   "name": "python3"
  },
  "language_info": {
   "codemirror_mode": {
    "name": "ipython",
    "version": 3
   },
   "file_extension": ".py",
   "mimetype": "text/x-python",
   "name": "python",
   "nbconvert_exporter": "python",
   "pygments_lexer": "ipython3",
   "version": "3.10.14"
  }
 },
 "nbformat": 4,
 "nbformat_minor": 5
}
