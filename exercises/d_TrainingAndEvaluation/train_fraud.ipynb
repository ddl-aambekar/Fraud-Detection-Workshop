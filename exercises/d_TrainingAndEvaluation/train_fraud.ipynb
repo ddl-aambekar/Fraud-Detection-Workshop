{
 "cells": [
  {
   "cell_type": "code",
   "execution_count": 2,
   "id": "1e892762",
   "metadata": {},
   "outputs": [
    {
     "name": "stdout",
     "output_type": "stream",
     "text": [
      "training model AdaBoost\n",
      "🏃 View run AdaBoost at: http://127.0.0.1:8768/#/experiments/1566/runs/aebac0dc7ff744cd91cada3ccb2141a0\n",
      "🧪 View experiment at: http://127.0.0.1:8768/#/experiments/1566\n",
      "✅ Training AdaBoost completed successfully\n",
      "{'model_name': 'AdaBoost', 'roc_auc': 0.8717215868194539, 'pr_auc': 0.7683758048261189, 'accuracy': 0.8194534386737469, 'precision_fraud': 0.7959442332065906, 'recall_fraud': 0.6740608228980322, 'f1_fraud': 0.7299496319256102, 'fit_time_sec': 1.3663485050201416}\n",
      "training model GaussianNB\n",
      "🏃 View run GaussianNB at: http://127.0.0.1:8768/#/experiments/1566/runs/a6b5b76b472540b6b1b8e5594604e7cd\n",
      "🧪 View experiment at: http://127.0.0.1:8768/#/experiments/1566\n",
      "✅ Training GaussianNB completed successfully\n",
      "{'model_name': 'GaussianNB', 'roc_auc': 0.8652405875290616, 'pr_auc': 0.7418668718181737, 'accuracy': 0.723675689677503, 'precision_fraud': 0.7816091954022989, 'recall_fraud': 0.32844364937388193, 'f1_fraud': 0.4625267665952891, 'fit_time_sec': 0.031319379806518555}\n",
      "training model XGBoost\n",
      "🏃 View run XGBoost at: http://127.0.0.1:8768/#/experiments/1566/runs/8442dd90da254860bc448cb91e7b9cee\n",
      "🧪 View experiment at: http://127.0.0.1:8768/#/experiments/1566\n",
      "✅ Training XGBoost completed successfully\n",
      "{'model_name': 'XGBoost', 'roc_auc': 0.9333303372924653, 'pr_auc': 0.901069652766484, 'accuracy': 0.8512498381038726, 'precision_fraud': 0.8176731622612387, 'recall_fraud': 0.7581395348837209, 'f1_fraud': 0.7867817692379095, 'fit_time_sec': 8.211510181427002}\n",
      "✅✅✅ Trainings completed successfully\n"
     ]
    }
   ],
   "source": [
    "# File: flows/b_training_ada.py\n",
    "from sklearn.naive_bayes import GaussianNB\n",
    "from sklearn.ensemble import AdaBoostClassifier\n",
    "from xgboost import XGBClassifier\n",
    "\n",
    "from exercises.c_DevelopmentAndTraining.generic_trainer import train_fraud\n",
    "from helpers.domino_short_id import domino_short_id\n",
    "from helpers.dataset_utils import load_from_data_source\n",
    "\n",
    "\n",
    "# Load DataFrame from data source\n",
    "transformed_df_filename = 'transformed_cc_transactions.csv'\n",
    "\n",
    "ada_model = {'model': AdaBoostClassifier(\n",
    "            n_estimators=10,\n",
    "            learning_rate=0.001,\n",
    "            algorithm=\"SAMME\",\n",
    "        ), 'name': \"AdaBoost\"}\n",
    "gnb_model = {'model': GaussianNB(), \n",
    "             'name': \"GaussianNB\"}\n",
    "xbg_model = {'model': XGBClassifier(\n",
    "            n_estimators=200,\n",
    "            learning_rate=0.05,\n",
    "            max_depth=4,\n",
    "            subsample=0.8,\n",
    "            colsample_bytree=0.8,\n",
    "            use_label_encoder=False,\n",
    "            eval_metric=\"auc\",\n",
    "        ), 'name': \"XGBoost\"}\n",
    "\n",
    "all_models = [ada_model, gnb_model, xbg_model]\n",
    "\n",
    "for model_dict in all_models:\n",
    "    model_name = model_dict['name']\n",
    "    model_obj = model_dict['model']\n",
    "    res = train_fraud(model_obj, model_name, transformed_df_filename)\n",
    "    print(f\"✅ Training {model_name} completed successfully\")\n",
    "    print(res)\n",
    "    \n",
    "print(f\"{'✅' * len(all_models)} Trainings completed successfully\")\n",
    "\n"
   ]
  }
 ],
 "metadata": {
  "kernelspec": {
   "display_name": "Python 3 (ipykernel)",
   "language": "python",
   "name": "python3"
  },
  "language_info": {
   "codemirror_mode": {
    "name": "ipython",
    "version": 3
   },
   "file_extension": ".py",
   "mimetype": "text/x-python",
   "name": "python",
   "nbconvert_exporter": "python",
   "pygments_lexer": "ipython3",
   "version": "3.10.14"
  }
 },
 "nbformat": 4,
 "nbformat_minor": 5
}
