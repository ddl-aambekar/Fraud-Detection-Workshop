{
 "cells": [
  {
   "cell_type": "code",
   "execution_count": 1,
   "id": "1e892762",
   "metadata": {},
   "outputs": [
    {
     "name": "stdout",
     "output_type": "stream",
     "text": [
      "training model AdaBoost\n",
      "metrics metrics_csv_path /mnt/artifacts/adaboost_metrics.csv\n",
      "🏃 View run AdaBoost at: http://127.0.0.1:8768/#/experiments/1566/runs/1f539f2be68040de85407028aa24d76a\n",
      "🧪 View experiment at: http://127.0.0.1:8768/#/experiments/1566\n",
      "✅ Training AdaBoost completed successfully\n",
      "{'model_name': 'AdaBoost', 'roc_auc': 0.7873590862111668, 'pr_auc': 0.6547427228244699, 'accuracy': 0.8195181971247247, 'precision_fraud': 0.7983819459229295, 'recall_fraud': 0.6708407871198568, 'f1_fraud': 0.7290755322251385, 'fit_time_sec': 1.3906135559082031}\n",
      "training model GaussianNB\n",
      "metrics metrics_csv_path /mnt/artifacts/gaussiannb_metrics.csv\n",
      "🏃 View run GaussianNB at: http://127.0.0.1:8768/#/experiments/1566/runs/6cb9b902c5e544bd96a1a7ac433a5f4d\n",
      "🧪 View experiment at: http://127.0.0.1:8768/#/experiments/1566\n",
      "✅ Training GaussianNB completed successfully\n",
      "{'model_name': 'GaussianNB', 'roc_auc': 0.8666652594353498, 'pr_auc': 0.7407963490028929, 'accuracy': 0.746017355264862, 'precision_fraud': 0.7854209445585215, 'recall_fraud': 0.41055456171735244, 'f1_fraud': 0.5392387218045113, 'fit_time_sec': 0.031996965408325195}\n",
      "training model XGBoost\n",
      "metrics metrics_csv_path /mnt/artifacts/xgboost_metrics.csv\n",
      "🏃 View run XGBoost at: http://127.0.0.1:8768/#/experiments/1566/runs/529b862f5b6d434ebc70c4944d87dbf4\n",
      "🧪 View experiment at: http://127.0.0.1:8768/#/experiments/1566\n",
      "✅ Training XGBoost completed successfully\n",
      "{'model_name': 'XGBoost', 'roc_auc': 0.9327778673563736, 'pr_auc': 0.8926285327265941, 'accuracy': 0.8474290894961792, 'precision_fraud': 0.7994444444444444, 'recall_fraud': 0.7722719141323793, 'f1_fraud': 0.7856232939035487, 'fit_time_sec': 0.4796907901763916}\n",
      "✅✅✅ Trainings completed successfully\n"
     ]
    }
   ],
   "source": [
    "# train_fraud.ipynb\n",
    "from sklearn.naive_bayes import GaussianNB\n",
    "from sklearn.ensemble import AdaBoostClassifier\n",
    "from xgboost import XGBClassifier\n",
    "\n",
    "from exercises.d_TrainingAndEvaluation.generic_trainer import train_fraud\n",
    "from domino_short_id import domino_short_id\n",
    "\n",
    "\n",
    "# Load DataFrame from data source\n",
    "transformed_df_filename = 'transformed_cc_transactions.csv'\n",
    "\n",
    "ada_model = {'model': AdaBoostClassifier(\n",
    "            n_estimators=10,\n",
    "            learning_rate=0.001,\n",
    "            algorithm=\"SAMME\",\n",
    "        ), 'name': \"AdaBoost\"}\n",
    "gnb_model = {'model': GaussianNB(), \n",
    "             'name': \"GaussianNB\"}\n",
    "xbg_model = {'model': XGBClassifier(\n",
    "            n_estimators=100,\n",
    "            learning_rate=0.1,\n",
    "            max_depth=3,\n",
    "            subsample=0.8,\n",
    "            colsample_bytree=0.8,\n",
    "            tree_method='hist',\n",
    "            n_jobs=-1,\n",
    "            use_label_encoder=False,\n",
    "            eval_metric=\"auc\",\n",
    "        ), 'name': \"XGBoost\"}\n",
    "\n",
    "all_models = [ada_model, gnb_model, xbg_model]\n",
    "\n",
    "for model_dict in all_models:\n",
    "    model_name = model_dict['name']\n",
    "    model_obj = model_dict['model']\n",
    "    res = train_fraud(model_obj, model_name, transformed_df_filename)\n",
    "    print(f\"✅ Training {model_name} completed successfully\")\n",
    "    print(res)\n",
    "    \n",
    "print(f\"{'✅' * len(all_models)} Trainings completed successfully\")\n",
    "\n"
   ]
  },
  {
   "cell_type": "code",
   "execution_count": null,
   "id": "a6540a44-e4b0-4b7e-a2d4-b8ff7e811012",
   "metadata": {},
   "outputs": [],
   "source": []
  }
 ],
 "metadata": {
  "kernelspec": {
   "display_name": "Python 3 (ipykernel)",
   "language": "python",
   "name": "python3"
  },
  "language_info": {
   "codemirror_mode": {
    "name": "ipython",
    "version": 3
   },
   "file_extension": ".py",
   "mimetype": "text/x-python",
   "name": "python",
   "nbconvert_exporter": "python",
   "pygments_lexer": "ipython3",
   "version": "3.10.14"
  }
 },
 "nbformat": 4,
 "nbformat_minor": 5
}
