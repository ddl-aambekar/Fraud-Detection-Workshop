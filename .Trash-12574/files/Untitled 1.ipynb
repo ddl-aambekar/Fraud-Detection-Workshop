{
 "cells": [
  {
   "cell_type": "code",
   "execution_count": 1,
   "id": "4181b835-7dc5-41c0-83d0-2ac2fd15b9d2",
   "metadata": {},
   "outputs": [
    {
     "name": "stdout",
     "output_type": "stream",
     "text": [
      "training model AdaBoost\n"
     ]
    },
    {
     "name": "stderr",
     "output_type": "stream",
     "text": [
      "/opt/conda/lib/python3.10/site-packages/sklearn/ensemble/_weight_boosting.py:527: FutureWarning: The SAMME.R algorithm (the default) is deprecated and will be removed in 1.6. Use the SAMME algorithm to circumvent this warning.\n",
      "  warnings.warn(\n"
     ]
    },
    {
     "name": "stdout",
     "output_type": "stream",
     "text": [
      "🏃 View run AdaBoost at: http://127.0.0.1:8768/#/experiments/1566/runs/12037a063fbf492f8eee3e94e26b9eee\n",
      "🧪 View experiment at: http://127.0.0.1:8768/#/experiments/1566\n",
      "Iteration 1: Training AdaBoost completed successfully\n",
      "Params: n_est=63, lr=0.447, algo=SAMME.R\n",
      "Results: AUC=0.934, F1=0.781\n",
      "--------------------------------------------------\n",
      "training model AdaBoost\n",
      "🏃 View run AdaBoost at: http://127.0.0.1:8768/#/experiments/1566/runs/e896fe1f352b453183fb7872a975bb6e\n",
      "🧪 View experiment at: http://127.0.0.1:8768/#/experiments/1566\n",
      "Iteration 2: Training AdaBoost completed successfully\n",
      "Params: n_est=100, lr=0.596, algo=SAMME\n",
      "Results: AUC=0.927, F1=0.781\n",
      "--------------------------------------------------\n",
      "training model AdaBoost\n"
     ]
    },
    {
     "name": "stderr",
     "output_type": "stream",
     "text": [
      "/opt/conda/lib/python3.10/site-packages/sklearn/ensemble/_weight_boosting.py:527: FutureWarning: The SAMME.R algorithm (the default) is deprecated and will be removed in 1.6. Use the SAMME algorithm to circumvent this warning.\n",
      "  warnings.warn(\n"
     ]
    },
    {
     "name": "stdout",
     "output_type": "stream",
     "text": [
      "🏃 View run AdaBoost at: http://127.0.0.1:8768/#/experiments/1566/runs/fd4213053d8745f3b94b2d1bcfbac27f\n",
      "🧪 View experiment at: http://127.0.0.1:8768/#/experiments/1566\n",
      "Iteration 3: Training AdaBoost completed successfully\n",
      "Params: n_est=181, lr=0.561, algo=SAMME.R\n",
      "Results: AUC=0.936, F1=0.788\n",
      "--------------------------------------------------\n",
      "training model AdaBoost\n"
     ]
    },
    {
     "name": "stderr",
     "output_type": "stream",
     "text": [
      "/opt/conda/lib/python3.10/site-packages/sklearn/ensemble/_weight_boosting.py:527: FutureWarning: The SAMME.R algorithm (the default) is deprecated and will be removed in 1.6. Use the SAMME algorithm to circumvent this warning.\n",
      "  warnings.warn(\n"
     ]
    },
    {
     "name": "stdout",
     "output_type": "stream",
     "text": [
      "🏃 View run AdaBoost at: http://127.0.0.1:8768/#/experiments/1566/runs/ebe1de710ae8448f9dfaab071061aecc\n",
      "🧪 View experiment at: http://127.0.0.1:8768/#/experiments/1566\n",
      "Iteration 4: Training AdaBoost completed successfully\n",
      "Params: n_est=51, lr=0.760, algo=SAMME.R\n",
      "Results: AUC=0.931, F1=0.786\n",
      "--------------------------------------------------\n",
      "training model AdaBoost\n",
      "🏃 View run AdaBoost at: http://127.0.0.1:8768/#/experiments/1566/runs/656d792542d44869aca2e4e2aabbee6f\n",
      "🧪 View experiment at: http://127.0.0.1:8768/#/experiments/1566\n",
      "Iteration 5: Training AdaBoost completed successfully\n",
      "Params: n_est=67, lr=0.662, algo=SAMME\n",
      "Results: AUC=0.929, F1=0.773\n",
      "--------------------------------------------------\n",
      "training model AdaBoost\n"
     ]
    },
    {
     "name": "stderr",
     "output_type": "stream",
     "text": [
      "/opt/conda/lib/python3.10/site-packages/sklearn/ensemble/_weight_boosting.py:527: FutureWarning: The SAMME.R algorithm (the default) is deprecated and will be removed in 1.6. Use the SAMME algorithm to circumvent this warning.\n",
      "  warnings.warn(\n"
     ]
    },
    {
     "name": "stdout",
     "output_type": "stream",
     "text": [
      "🏃 View run AdaBoost at: http://127.0.0.1:8768/#/experiments/1566/runs/2057387fadb940f8823768494f1c64c7\n",
      "🧪 View experiment at: http://127.0.0.1:8768/#/experiments/1566\n",
      "Iteration 6: Training AdaBoost completed successfully\n",
      "Params: n_est=51, lr=0.569, algo=SAMME.R\n",
      "Results: AUC=0.931, F1=0.786\n",
      "--------------------------------------------------\n",
      "training model AdaBoost\n",
      "🏃 View run AdaBoost at: http://127.0.0.1:8768/#/experiments/1566/runs/15b19ecf87ea43188411291e20ce631d\n",
      "🧪 View experiment at: http://127.0.0.1:8768/#/experiments/1566\n",
      "Iteration 7: Training AdaBoost completed successfully\n",
      "Params: n_est=143, lr=0.045, algo=SAMME\n",
      "Results: AUC=0.912, F1=0.735\n",
      "--------------------------------------------------\n",
      "training model AdaBoost\n"
     ]
    },
    {
     "name": "stderr",
     "output_type": "stream",
     "text": [
      "/opt/conda/lib/python3.10/site-packages/sklearn/ensemble/_weight_boosting.py:527: FutureWarning: The SAMME.R algorithm (the default) is deprecated and will be removed in 1.6. Use the SAMME algorithm to circumvent this warning.\n",
      "  warnings.warn(\n"
     ]
    },
    {
     "name": "stdout",
     "output_type": "stream",
     "text": [
      "🏃 View run AdaBoost at: http://127.0.0.1:8768/#/experiments/1566/runs/a38110ac985549f5a88f225d4e102203\n",
      "🧪 View experiment at: http://127.0.0.1:8768/#/experiments/1566\n",
      "Iteration 8: Training AdaBoost completed successfully\n",
      "Params: n_est=98, lr=0.092, algo=SAMME.R\n",
      "Results: AUC=0.927, F1=0.772\n",
      "--------------------------------------------------\n",
      "training model AdaBoost\n"
     ]
    },
    {
     "name": "stderr",
     "output_type": "stream",
     "text": [
      "/opt/conda/lib/python3.10/site-packages/sklearn/ensemble/_weight_boosting.py:527: FutureWarning: The SAMME.R algorithm (the default) is deprecated and will be removed in 1.6. Use the SAMME algorithm to circumvent this warning.\n",
      "  warnings.warn(\n"
     ]
    },
    {
     "name": "stdout",
     "output_type": "stream",
     "text": [
      "🏃 View run AdaBoost at: http://127.0.0.1:8768/#/experiments/1566/runs/034ec87c0a3d409597ac25daa3bdaeb7\n",
      "🧪 View experiment at: http://127.0.0.1:8768/#/experiments/1566\n",
      "Iteration 9: Training AdaBoost completed successfully\n",
      "Params: n_est=140, lr=0.249, algo=SAMME.R\n",
      "Results: AUC=0.934, F1=0.795\n",
      "--------------------------------------------------\n",
      "training model AdaBoost\n",
      "🏃 View run AdaBoost at: http://127.0.0.1:8768/#/experiments/1566/runs/39dbf088c74942818ecf24ba9c5cc214\n",
      "🧪 View experiment at: http://127.0.0.1:8768/#/experiments/1566\n",
      "Iteration 10: Training AdaBoost completed successfully\n",
      "Params: n_est=68, lr=0.679, algo=SAMME\n",
      "Results: AUC=0.928, F1=0.784\n",
      "--------------------------------------------------\n",
      "training model AdaBoost\n"
     ]
    },
    {
     "name": "stderr",
     "output_type": "stream",
     "text": [
      "/opt/conda/lib/python3.10/site-packages/sklearn/ensemble/_weight_boosting.py:527: FutureWarning: The SAMME.R algorithm (the default) is deprecated and will be removed in 1.6. Use the SAMME algorithm to circumvent this warning.\n",
      "  warnings.warn(\n"
     ]
    },
    {
     "name": "stdout",
     "output_type": "stream",
     "text": [
      "🏃 View run AdaBoost at: http://127.0.0.1:8768/#/experiments/1566/runs/57485299cdb34bcea693be411f64fb0e\n",
      "🧪 View experiment at: http://127.0.0.1:8768/#/experiments/1566\n",
      "Iteration 11: Training AdaBoost completed successfully\n",
      "Params: n_est=101, lr=0.604, algo=SAMME.R\n",
      "Results: AUC=0.935, F1=0.787\n",
      "--------------------------------------------------\n",
      "training model AdaBoost\n"
     ]
    },
    {
     "name": "stderr",
     "output_type": "stream",
     "text": [
      "/opt/conda/lib/python3.10/site-packages/sklearn/ensemble/_weight_boosting.py:527: FutureWarning: The SAMME.R algorithm (the default) is deprecated and will be removed in 1.6. Use the SAMME algorithm to circumvent this warning.\n",
      "  warnings.warn(\n"
     ]
    },
    {
     "name": "stdout",
     "output_type": "stream",
     "text": [
      "🏃 View run AdaBoost at: http://127.0.0.1:8768/#/experiments/1566/runs/1a673137adf9414b8cfacec42143288a\n",
      "🧪 View experiment at: http://127.0.0.1:8768/#/experiments/1566\n",
      "Iteration 12: Training AdaBoost completed successfully\n",
      "Params: n_est=137, lr=0.884, algo=SAMME.R\n",
      "Results: AUC=0.937, F1=0.788\n",
      "--------------------------------------------------\n",
      "training model AdaBoost\n"
     ]
    },
    {
     "name": "stderr",
     "output_type": "stream",
     "text": [
      "/opt/conda/lib/python3.10/site-packages/sklearn/ensemble/_weight_boosting.py:527: FutureWarning: The SAMME.R algorithm (the default) is deprecated and will be removed in 1.6. Use the SAMME algorithm to circumvent this warning.\n",
      "  warnings.warn(\n"
     ]
    },
    {
     "name": "stdout",
     "output_type": "stream",
     "text": [
      "🏃 View run AdaBoost at: http://127.0.0.1:8768/#/experiments/1566/runs/cfc14cc425ab4fa89f7bb635aee746b0\n",
      "🧪 View experiment at: http://127.0.0.1:8768/#/experiments/1566\n",
      "Iteration 13: Training AdaBoost completed successfully\n",
      "Params: n_est=178, lr=0.954, algo=SAMME.R\n",
      "Results: AUC=0.934, F1=0.783\n",
      "--------------------------------------------------\n",
      "training model AdaBoost\n"
     ]
    },
    {
     "name": "stderr",
     "output_type": "stream",
     "text": [
      "/opt/conda/lib/python3.10/site-packages/sklearn/ensemble/_weight_boosting.py:527: FutureWarning: The SAMME.R algorithm (the default) is deprecated and will be removed in 1.6. Use the SAMME algorithm to circumvent this warning.\n",
      "  warnings.warn(\n"
     ]
    },
    {
     "name": "stdout",
     "output_type": "stream",
     "text": [
      "🏃 View run AdaBoost at: http://127.0.0.1:8768/#/experiments/1566/runs/ae1a01b9508141879b133177206273a3\n",
      "🧪 View experiment at: http://127.0.0.1:8768/#/experiments/1566\n",
      "Iteration 14: Training AdaBoost completed successfully\n",
      "Params: n_est=82, lr=0.226, algo=SAMME.R\n",
      "Results: AUC=0.937, F1=0.796\n",
      "--------------------------------------------------\n",
      "training model AdaBoost\n"
     ]
    },
    {
     "name": "stderr",
     "output_type": "stream",
     "text": [
      "/opt/conda/lib/python3.10/site-packages/sklearn/ensemble/_weight_boosting.py:527: FutureWarning: The SAMME.R algorithm (the default) is deprecated and will be removed in 1.6. Use the SAMME algorithm to circumvent this warning.\n",
      "  warnings.warn(\n"
     ]
    },
    {
     "name": "stdout",
     "output_type": "stream",
     "text": [
      "🏃 View run AdaBoost at: http://127.0.0.1:8768/#/experiments/1566/runs/3e8e1727d264478fa28a4ddd8b146f0b\n",
      "🧪 View experiment at: http://127.0.0.1:8768/#/experiments/1566\n",
      "Iteration 15: Training AdaBoost completed successfully\n",
      "Params: n_est=71, lr=0.230, algo=SAMME.R\n",
      "Results: AUC=0.932, F1=0.787\n",
      "--------------------------------------------------\n",
      "training model AdaBoost\n"
     ]
    },
    {
     "name": "stderr",
     "output_type": "stream",
     "text": [
      "/opt/conda/lib/python3.10/site-packages/sklearn/ensemble/_weight_boosting.py:527: FutureWarning: The SAMME.R algorithm (the default) is deprecated and will be removed in 1.6. Use the SAMME algorithm to circumvent this warning.\n",
      "  warnings.warn(\n"
     ]
    },
    {
     "name": "stdout",
     "output_type": "stream",
     "text": [
      "🏃 View run AdaBoost at: http://127.0.0.1:8768/#/experiments/1566/runs/6e5ebf5bbb374243814273587d0e1a09\n",
      "🧪 View experiment at: http://127.0.0.1:8768/#/experiments/1566\n",
      "Iteration 16: Training AdaBoost completed successfully\n",
      "Params: n_est=76, lr=0.069, algo=SAMME.R\n",
      "Results: AUC=0.917, F1=0.740\n",
      "--------------------------------------------------\n",
      "training model AdaBoost\n",
      "🏃 View run AdaBoost at: http://127.0.0.1:8768/#/experiments/1566/runs/dbbe94f87ecb45c8b6fcc04f5c36bb32\n",
      "🧪 View experiment at: http://127.0.0.1:8768/#/experiments/1566\n",
      "Iteration 17: Training AdaBoost completed successfully\n",
      "Params: n_est=160, lr=0.486, algo=SAMME\n",
      "Results: AUC=0.932, F1=0.790\n",
      "--------------------------------------------------\n",
      "training model AdaBoost\n",
      "🏃 View run AdaBoost at: http://127.0.0.1:8768/#/experiments/1566/runs/4305604dffde4d7f95b5f5d7ef9915bd\n",
      "🧪 View experiment at: http://127.0.0.1:8768/#/experiments/1566\n",
      "Iteration 18: Training AdaBoost completed successfully\n",
      "Params: n_est=157, lr=0.358, algo=SAMME\n",
      "Results: AUC=0.925, F1=0.762\n",
      "--------------------------------------------------\n",
      "training model AdaBoost\n"
     ]
    },
    {
     "name": "stderr",
     "output_type": "stream",
     "text": [
      "/opt/conda/lib/python3.10/site-packages/sklearn/ensemble/_weight_boosting.py:527: FutureWarning: The SAMME.R algorithm (the default) is deprecated and will be removed in 1.6. Use the SAMME algorithm to circumvent this warning.\n",
      "  warnings.warn(\n"
     ]
    },
    {
     "name": "stdout",
     "output_type": "stream",
     "text": [
      "🏃 View run AdaBoost at: http://127.0.0.1:8768/#/experiments/1566/runs/dfeabcf9e8684be28345524080ddaa7d\n",
      "🧪 View experiment at: http://127.0.0.1:8768/#/experiments/1566\n",
      "Iteration 19: Training AdaBoost completed successfully\n",
      "Params: n_est=178, lr=0.091, algo=SAMME.R\n",
      "Results: AUC=0.929, F1=0.779\n",
      "--------------------------------------------------\n",
      "training model AdaBoost\n",
      "🏃 View run AdaBoost at: http://127.0.0.1:8768/#/experiments/1566/runs/d3d2b41258f8441b9496798be2da9477\n",
      "🧪 View experiment at: http://127.0.0.1:8768/#/experiments/1566\n",
      "Iteration 20: Training AdaBoost completed successfully\n",
      "Params: n_est=111, lr=0.314, algo=SAMME\n",
      "Results: AUC=0.915, F1=0.767\n",
      "--------------------------------------------------\n",
      "training model AdaBoost\n"
     ]
    },
    {
     "name": "stderr",
     "output_type": "stream",
     "text": [
      "/opt/conda/lib/python3.10/site-packages/sklearn/ensemble/_weight_boosting.py:527: FutureWarning: The SAMME.R algorithm (the default) is deprecated and will be removed in 1.6. Use the SAMME algorithm to circumvent this warning.\n",
      "  warnings.warn(\n"
     ]
    },
    {
     "name": "stdout",
     "output_type": "stream",
     "text": [
      "🏃 View run AdaBoost at: http://127.0.0.1:8768/#/experiments/1566/runs/4eb2e9a833d2465588bcec9320dcd807\n",
      "🧪 View experiment at: http://127.0.0.1:8768/#/experiments/1566\n",
      "Iteration 21: Training AdaBoost completed successfully\n",
      "Params: n_est=92, lr=0.340, algo=SAMME.R\n",
      "Results: AUC=0.932, F1=0.789\n",
      "--------------------------------------------------\n",
      "training model AdaBoost\n",
      "🏃 View run AdaBoost at: http://127.0.0.1:8768/#/experiments/1566/runs/720abaf5122b419ebf880cca42c3e6bf\n",
      "🧪 View experiment at: http://127.0.0.1:8768/#/experiments/1566\n",
      "Iteration 22: Training AdaBoost completed successfully\n",
      "Params: n_est=184, lr=0.438, algo=SAMME\n",
      "Results: AUC=0.931, F1=0.786\n",
      "--------------------------------------------------\n",
      "training model AdaBoost\n"
     ]
    },
    {
     "name": "stderr",
     "output_type": "stream",
     "text": [
      "/opt/conda/lib/python3.10/site-packages/sklearn/ensemble/_weight_boosting.py:527: FutureWarning: The SAMME.R algorithm (the default) is deprecated and will be removed in 1.6. Use the SAMME algorithm to circumvent this warning.\n",
      "  warnings.warn(\n"
     ]
    },
    {
     "name": "stdout",
     "output_type": "stream",
     "text": [
      "🏃 View run AdaBoost at: http://127.0.0.1:8768/#/experiments/1566/runs/8afccf8e821f459ba8aa181a5e49d002\n",
      "🧪 View experiment at: http://127.0.0.1:8768/#/experiments/1566\n",
      "Iteration 23: Training AdaBoost completed successfully\n",
      "Params: n_est=60, lr=0.015, algo=SAMME.R\n",
      "Results: AUC=0.878, F1=0.738\n",
      "--------------------------------------------------\n",
      "training model AdaBoost\n",
      "🏃 View run AdaBoost at: http://127.0.0.1:8768/#/experiments/1566/runs/371b29143beb4f8d8e9cc25d0bc260d3\n",
      "🧪 View experiment at: http://127.0.0.1:8768/#/experiments/1566\n",
      "Iteration 24: Training AdaBoost completed successfully\n",
      "Params: n_est=199, lr=0.348, algo=SAMME\n",
      "Results: AUC=0.931, F1=0.775\n",
      "--------------------------------------------------\n",
      "training model AdaBoost\n",
      "🏃 View run AdaBoost at: http://127.0.0.1:8768/#/experiments/1566/runs/e119cde82bd74128a1b7671b59ffec3b\n",
      "🧪 View experiment at: http://127.0.0.1:8768/#/experiments/1566\n",
      "Iteration 25: Training AdaBoost completed successfully\n",
      "Params: n_est=57, lr=0.614, algo=SAMME\n",
      "Results: AUC=0.929, F1=0.777\n",
      "--------------------------------------------------\n",
      "training model AdaBoost\n"
     ]
    },
    {
     "name": "stderr",
     "output_type": "stream",
     "text": [
      "/opt/conda/lib/python3.10/site-packages/sklearn/ensemble/_weight_boosting.py:527: FutureWarning: The SAMME.R algorithm (the default) is deprecated and will be removed in 1.6. Use the SAMME algorithm to circumvent this warning.\n",
      "  warnings.warn(\n"
     ]
    },
    {
     "name": "stdout",
     "output_type": "stream",
     "text": [
      "🏃 View run AdaBoost at: http://127.0.0.1:8768/#/experiments/1566/runs/699736baafa5482a9ec86e8d359628cf\n",
      "🧪 View experiment at: http://127.0.0.1:8768/#/experiments/1566\n",
      "Iteration 26: Training AdaBoost completed successfully\n",
      "Params: n_est=78, lr=0.635, algo=SAMME.R\n",
      "Results: AUC=0.932, F1=0.782\n",
      "--------------------------------------------------\n",
      "training model AdaBoost\n"
     ]
    },
    {
     "name": "stderr",
     "output_type": "stream",
     "text": [
      "/opt/conda/lib/python3.10/site-packages/sklearn/ensemble/_weight_boosting.py:527: FutureWarning: The SAMME.R algorithm (the default) is deprecated and will be removed in 1.6. Use the SAMME algorithm to circumvent this warning.\n",
      "  warnings.warn(\n"
     ]
    },
    {
     "name": "stdout",
     "output_type": "stream",
     "text": [
      "🏃 View run AdaBoost at: http://127.0.0.1:8768/#/experiments/1566/runs/62763192f46943a6b8d93eef1b862005\n",
      "🧪 View experiment at: http://127.0.0.1:8768/#/experiments/1566\n",
      "Iteration 27: Training AdaBoost completed successfully\n",
      "Params: n_est=157, lr=0.956, algo=SAMME.R\n",
      "Results: AUC=0.934, F1=0.786\n",
      "--------------------------------------------------\n",
      "training model AdaBoost\n"
     ]
    },
    {
     "name": "stderr",
     "output_type": "stream",
     "text": [
      "/opt/conda/lib/python3.10/site-packages/sklearn/ensemble/_weight_boosting.py:527: FutureWarning: The SAMME.R algorithm (the default) is deprecated and will be removed in 1.6. Use the SAMME algorithm to circumvent this warning.\n",
      "  warnings.warn(\n"
     ]
    },
    {
     "name": "stdout",
     "output_type": "stream",
     "text": [
      "🏃 View run AdaBoost at: http://127.0.0.1:8768/#/experiments/1566/runs/a53161329fa14c4fae01cf33943c8551\n",
      "🧪 View experiment at: http://127.0.0.1:8768/#/experiments/1566\n",
      "Iteration 28: Training AdaBoost completed successfully\n",
      "Params: n_est=135, lr=0.595, algo=SAMME.R\n",
      "Results: AUC=0.933, F1=0.785\n",
      "--------------------------------------------------\n",
      "training model AdaBoost\n",
      "🏃 View run AdaBoost at: http://127.0.0.1:8768/#/experiments/1566/runs/e9a7749bfaf9409cb04ad656606a922c\n",
      "🧪 View experiment at: http://127.0.0.1:8768/#/experiments/1566\n",
      "Iteration 29: Training AdaBoost completed successfully\n",
      "Params: n_est=121, lr=0.585, algo=SAMME\n",
      "Results: AUC=0.927, F1=0.781\n",
      "--------------------------------------------------\n",
      "training model AdaBoost\n"
     ]
    },
    {
     "name": "stderr",
     "output_type": "stream",
     "text": [
      "/opt/conda/lib/python3.10/site-packages/sklearn/ensemble/_weight_boosting.py:527: FutureWarning: The SAMME.R algorithm (the default) is deprecated and will be removed in 1.6. Use the SAMME algorithm to circumvent this warning.\n",
      "  warnings.warn(\n"
     ]
    },
    {
     "name": "stdout",
     "output_type": "stream",
     "text": [
      "🏃 View run AdaBoost at: http://127.0.0.1:8768/#/experiments/1566/runs/8bba8c31bb8f4842987c2dc21aa28854\n",
      "🧪 View experiment at: http://127.0.0.1:8768/#/experiments/1566\n",
      "Iteration 30: Training AdaBoost completed successfully\n",
      "Params: n_est=102, lr=0.518, algo=SAMME.R\n",
      "Results: AUC=0.936, F1=0.781\n",
      "--------------------------------------------------\n",
      "training model AdaBoost\n"
     ]
    },
    {
     "name": "stderr",
     "output_type": "stream",
     "text": [
      "/opt/conda/lib/python3.10/site-packages/sklearn/ensemble/_weight_boosting.py:527: FutureWarning: The SAMME.R algorithm (the default) is deprecated and will be removed in 1.6. Use the SAMME algorithm to circumvent this warning.\n",
      "  warnings.warn(\n"
     ]
    },
    {
     "name": "stdout",
     "output_type": "stream",
     "text": [
      "🏃 View run AdaBoost at: http://127.0.0.1:8768/#/experiments/1566/runs/4276d8e88fe548868715b4f32c96f3b4\n",
      "🧪 View experiment at: http://127.0.0.1:8768/#/experiments/1566\n",
      "Iteration 31: Training AdaBoost completed successfully\n",
      "Params: n_est=184, lr=0.207, algo=SAMME.R\n",
      "Results: AUC=0.930, F1=0.786\n",
      "--------------------------------------------------\n",
      "training model AdaBoost\n",
      "🏃 View run AdaBoost at: http://127.0.0.1:8768/#/experiments/1566/runs/61155cf2c8614b24b67f669aaf54fbc9\n",
      "🧪 View experiment at: http://127.0.0.1:8768/#/experiments/1566\n",
      "Iteration 32: Training AdaBoost completed successfully\n",
      "Params: n_est=100, lr=0.918, algo=SAMME\n",
      "Results: AUC=0.933, F1=0.791\n",
      "--------------------------------------------------\n",
      "training model AdaBoost\n",
      "🏃 View run AdaBoost at: http://127.0.0.1:8768/#/experiments/1566/runs/52a126c2b51d47d8a7d8a21495f3c156\n",
      "🧪 View experiment at: http://127.0.0.1:8768/#/experiments/1566\n",
      "Iteration 33: Training AdaBoost completed successfully\n",
      "Params: n_est=175, lr=0.978, algo=SAMME\n",
      "Results: AUC=0.932, F1=0.783\n",
      "--------------------------------------------------\n",
      "training model AdaBoost\n"
     ]
    },
    {
     "name": "stderr",
     "output_type": "stream",
     "text": [
      "/opt/conda/lib/python3.10/site-packages/sklearn/ensemble/_weight_boosting.py:527: FutureWarning: The SAMME.R algorithm (the default) is deprecated and will be removed in 1.6. Use the SAMME algorithm to circumvent this warning.\n",
      "  warnings.warn(\n"
     ]
    },
    {
     "name": "stdout",
     "output_type": "stream",
     "text": [
      "🏃 View run AdaBoost at: http://127.0.0.1:8768/#/experiments/1566/runs/ec61bd5b41bc425480e55cb802758562\n",
      "🧪 View experiment at: http://127.0.0.1:8768/#/experiments/1566\n",
      "Iteration 34: Training AdaBoost completed successfully\n",
      "Params: n_est=191, lr=0.178, algo=SAMME.R\n",
      "Results: AUC=0.930, F1=0.783\n",
      "--------------------------------------------------\n",
      "training model AdaBoost\n",
      "🏃 View run AdaBoost at: http://127.0.0.1:8768/#/experiments/1566/runs/0d573e468e27491aaed33f21e88c9214\n",
      "🧪 View experiment at: http://127.0.0.1:8768/#/experiments/1566\n",
      "Iteration 35: Training AdaBoost completed successfully\n",
      "Params: n_est=179, lr=0.437, algo=SAMME\n",
      "Results: AUC=0.927, F1=0.781\n",
      "--------------------------------------------------\n",
      "training model AdaBoost\n",
      "🏃 View run AdaBoost at: http://127.0.0.1:8768/#/experiments/1566/runs/a086d65653204ab4ba1f8819be746ac3\n",
      "🧪 View experiment at: http://127.0.0.1:8768/#/experiments/1566\n",
      "Iteration 36: Training AdaBoost completed successfully\n",
      "Params: n_est=88, lr=0.334, algo=SAMME\n",
      "Results: AUC=0.923, F1=0.769\n",
      "--------------------------------------------------\n",
      "training model AdaBoost\n"
     ]
    },
    {
     "name": "stderr",
     "output_type": "stream",
     "text": [
      "/opt/conda/lib/python3.10/site-packages/sklearn/ensemble/_weight_boosting.py:527: FutureWarning: The SAMME.R algorithm (the default) is deprecated and will be removed in 1.6. Use the SAMME algorithm to circumvent this warning.\n",
      "  warnings.warn(\n"
     ]
    },
    {
     "name": "stdout",
     "output_type": "stream",
     "text": [
      "🏃 View run AdaBoost at: http://127.0.0.1:8768/#/experiments/1566/runs/357947890975447592fd6bbedf82dbf1\n",
      "🧪 View experiment at: http://127.0.0.1:8768/#/experiments/1566\n",
      "Iteration 37: Training AdaBoost completed successfully\n",
      "Params: n_est=92, lr=0.398, algo=SAMME.R\n",
      "Results: AUC=0.932, F1=0.790\n",
      "--------------------------------------------------\n",
      "training model AdaBoost\n",
      "🏃 View run AdaBoost at: http://127.0.0.1:8768/#/experiments/1566/runs/ac11f807790b472aabf74a7c8b697c94\n",
      "🧪 View experiment at: http://127.0.0.1:8768/#/experiments/1566\n",
      "Iteration 38: Training AdaBoost completed successfully\n",
      "Params: n_est=65, lr=0.493, algo=SAMME\n",
      "Results: AUC=0.923, F1=0.772\n",
      "--------------------------------------------------\n",
      "training model AdaBoost\n",
      "🏃 View run AdaBoost at: http://127.0.0.1:8768/#/experiments/1566/runs/78acf28c1b354e2e897c31dc3301f14e\n",
      "🧪 View experiment at: http://127.0.0.1:8768/#/experiments/1566\n",
      "Iteration 39: Training AdaBoost completed successfully\n",
      "Params: n_est=57, lr=0.759, algo=SAMME\n",
      "Results: AUC=0.930, F1=0.767\n",
      "--------------------------------------------------\n",
      "training model AdaBoost\n"
     ]
    },
    {
     "name": "stderr",
     "output_type": "stream",
     "text": [
      "/opt/conda/lib/python3.10/site-packages/sklearn/ensemble/_weight_boosting.py:527: FutureWarning: The SAMME.R algorithm (the default) is deprecated and will be removed in 1.6. Use the SAMME algorithm to circumvent this warning.\n",
      "  warnings.warn(\n"
     ]
    },
    {
     "name": "stdout",
     "output_type": "stream",
     "text": [
      "🏃 View run AdaBoost at: http://127.0.0.1:8768/#/experiments/1566/runs/56996b461a63472c9077c5b4a649693b\n",
      "🧪 View experiment at: http://127.0.0.1:8768/#/experiments/1566\n",
      "Iteration 40: Training AdaBoost completed successfully\n",
      "Params: n_est=129, lr=0.382, algo=SAMME.R\n",
      "Results: AUC=0.935, F1=0.784\n",
      "--------------------------------------------------\n",
      "training model AdaBoost\n"
     ]
    },
    {
     "name": "stderr",
     "output_type": "stream",
     "text": [
      "/opt/conda/lib/python3.10/site-packages/sklearn/ensemble/_weight_boosting.py:527: FutureWarning: The SAMME.R algorithm (the default) is deprecated and will be removed in 1.6. Use the SAMME algorithm to circumvent this warning.\n",
      "  warnings.warn(\n"
     ]
    },
    {
     "name": "stdout",
     "output_type": "stream",
     "text": [
      "🏃 View run AdaBoost at: http://127.0.0.1:8768/#/experiments/1566/runs/541d5850a7fa4bc6ba0d96cea1b0b058\n",
      "🧪 View experiment at: http://127.0.0.1:8768/#/experiments/1566\n",
      "Iteration 41: Training AdaBoost completed successfully\n",
      "Params: n_est=186, lr=0.066, algo=SAMME.R\n",
      "Results: AUC=0.932, F1=0.788\n",
      "--------------------------------------------------\n",
      "training model AdaBoost\n",
      "🏃 View run AdaBoost at: http://127.0.0.1:8768/#/experiments/1566/runs/b095a164f5944345b35859a673bec457\n",
      "🧪 View experiment at: http://127.0.0.1:8768/#/experiments/1566\n",
      "Iteration 42: Training AdaBoost completed successfully\n",
      "Params: n_est=194, lr=0.087, algo=SAMME\n",
      "Results: AUC=0.920, F1=0.744\n",
      "--------------------------------------------------\n",
      "training model AdaBoost\n"
     ]
    },
    {
     "name": "stderr",
     "output_type": "stream",
     "text": [
      "/opt/conda/lib/python3.10/site-packages/sklearn/ensemble/_weight_boosting.py:527: FutureWarning: The SAMME.R algorithm (the default) is deprecated and will be removed in 1.6. Use the SAMME algorithm to circumvent this warning.\n",
      "  warnings.warn(\n"
     ]
    },
    {
     "name": "stdout",
     "output_type": "stream",
     "text": [
      "🏃 View run AdaBoost at: http://127.0.0.1:8768/#/experiments/1566/runs/ab8743d1bf2f4115b1fff71d81162388\n",
      "🧪 View experiment at: http://127.0.0.1:8768/#/experiments/1566\n",
      "Iteration 43: Training AdaBoost completed successfully\n",
      "Params: n_est=68, lr=0.589, algo=SAMME.R\n",
      "Results: AUC=0.932, F1=0.778\n",
      "--------------------------------------------------\n",
      "training model AdaBoost\n"
     ]
    },
    {
     "name": "stderr",
     "output_type": "stream",
     "text": [
      "/opt/conda/lib/python3.10/site-packages/sklearn/ensemble/_weight_boosting.py:527: FutureWarning: The SAMME.R algorithm (the default) is deprecated and will be removed in 1.6. Use the SAMME algorithm to circumvent this warning.\n",
      "  warnings.warn(\n"
     ]
    },
    {
     "name": "stdout",
     "output_type": "stream",
     "text": [
      "🏃 View run AdaBoost at: http://127.0.0.1:8768/#/experiments/1566/runs/a18ab90c3d164e5186f9e8c1295a686f\n",
      "🧪 View experiment at: http://127.0.0.1:8768/#/experiments/1566\n",
      "Iteration 44: Training AdaBoost completed successfully\n",
      "Params: n_est=189, lr=0.370, algo=SAMME.R\n",
      "Results: AUC=0.933, F1=0.780\n",
      "--------------------------------------------------\n",
      "training model AdaBoost\n"
     ]
    },
    {
     "name": "stderr",
     "output_type": "stream",
     "text": [
      "/opt/conda/lib/python3.10/site-packages/sklearn/ensemble/_weight_boosting.py:527: FutureWarning: The SAMME.R algorithm (the default) is deprecated and will be removed in 1.6. Use the SAMME algorithm to circumvent this warning.\n",
      "  warnings.warn(\n"
     ]
    },
    {
     "name": "stdout",
     "output_type": "stream",
     "text": [
      "🏃 View run AdaBoost at: http://127.0.0.1:8768/#/experiments/1566/runs/35c80dfe718a4a50a27251176ce2e3ce\n",
      "🧪 View experiment at: http://127.0.0.1:8768/#/experiments/1566\n",
      "Iteration 45: Training AdaBoost completed successfully\n",
      "Params: n_est=89, lr=0.641, algo=SAMME.R\n",
      "Results: AUC=0.933, F1=0.785\n",
      "--------------------------------------------------\n",
      "training model AdaBoost\n",
      "🏃 View run AdaBoost at: http://127.0.0.1:8768/#/experiments/1566/runs/c3d16faa01a74a379727119fbc60b321\n",
      "🧪 View experiment at: http://127.0.0.1:8768/#/experiments/1566\n",
      "Iteration 46: Training AdaBoost completed successfully\n",
      "Params: n_est=157, lr=0.884, algo=SAMME\n",
      "Results: AUC=0.933, F1=0.787\n",
      "--------------------------------------------------\n",
      "training model AdaBoost\n",
      "🏃 View run AdaBoost at: http://127.0.0.1:8768/#/experiments/1566/runs/20c7183a67ab442daeb024df53baca51\n",
      "🧪 View experiment at: http://127.0.0.1:8768/#/experiments/1566\n",
      "Iteration 47: Training AdaBoost completed successfully\n",
      "Params: n_est=176, lr=0.876, algo=SAMME\n",
      "Results: AUC=0.932, F1=0.788\n",
      "--------------------------------------------------\n",
      "training model AdaBoost\n",
      "🏃 View run AdaBoost at: http://127.0.0.1:8768/#/experiments/1566/runs/ffeb9fe206074b239ec6ba353ad5338d\n",
      "🧪 View experiment at: http://127.0.0.1:8768/#/experiments/1566\n",
      "Iteration 48: Training AdaBoost completed successfully\n",
      "Params: n_est=118, lr=0.606, algo=SAMME\n",
      "Results: AUC=0.929, F1=0.780\n",
      "--------------------------------------------------\n",
      "training model AdaBoost\n",
      "🏃 View run AdaBoost at: http://127.0.0.1:8768/#/experiments/1566/runs/4cc79c8f61464728a5c26eb75c8abc27\n",
      "🧪 View experiment at: http://127.0.0.1:8768/#/experiments/1566\n",
      "Iteration 49: Training AdaBoost completed successfully\n",
      "Params: n_est=137, lr=0.599, algo=SAMME\n",
      "Results: AUC=0.934, F1=0.790\n",
      "--------------------------------------------------\n",
      "training model AdaBoost\n"
     ]
    },
    {
     "name": "stderr",
     "output_type": "stream",
     "text": [
      "/opt/conda/lib/python3.10/site-packages/sklearn/ensemble/_weight_boosting.py:527: FutureWarning: The SAMME.R algorithm (the default) is deprecated and will be removed in 1.6. Use the SAMME algorithm to circumvent this warning.\n",
      "  warnings.warn(\n"
     ]
    },
    {
     "name": "stdout",
     "output_type": "stream",
     "text": [
      "🏃 View run AdaBoost at: http://127.0.0.1:8768/#/experiments/1566/runs/7c0641f288c04016a277c225130e3eb2\n",
      "🧪 View experiment at: http://127.0.0.1:8768/#/experiments/1566\n",
      "Iteration 50: Training AdaBoost completed successfully\n",
      "Params: n_est=89, lr=0.683, algo=SAMME.R\n",
      "Results: AUC=0.936, F1=0.784\n",
      "--------------------------------------------------\n"
     ]
    }
   ],
   "source": [
    "from sklearn.ensemble import AdaBoostClassifier\n",
    "from exercises.c_DevelopmentAndTraining.generic_trainer import train_fraud\n",
    "import numpy as np\n",
    "\n",
    "# Load DataFrame from dataset\n",
    "transformed_df_filename = 'transformed_cc_transactions.csv'\n",
    "model_name = 'AdaBoost'\n",
    "\n",
    "for i in range(50):\n",
    "   # Randomize hyperparameters for each iteration\n",
    "   model_obj = AdaBoostClassifier(\n",
    "       n_estimators=np.random.randint(50, 200),\n",
    "       learning_rate=np.random.uniform(0.01, 1.0),\n",
    "       algorithm=np.random.choice(['SAMME', 'SAMME.R']),\n",
    "       random_state=np.random.randint(0, 10000),  # Different seed each time\n",
    "   )\n",
    "   \n",
    "   res = train_fraud(model_obj, model_name, transformed_df_filename, random_state=i)\n",
    "   print(f\"Iteration {i+1}: Training {model_name} completed successfully\")\n",
    "   print(f\"Params: n_est={model_obj.n_estimators}, lr={model_obj.learning_rate:.3f}, \"\n",
    "         f\"algo={model_obj.algorithm}\")\n",
    "   print(f\"Results: AUC={res['roc_auc']:.3f}, F1={res['f1_fraud']:.3f}\")\n",
    "   print(\"-\" * 50)"
   ]
  },
  {
   "cell_type": "code",
   "execution_count": null,
   "id": "2c3b1226-a308-4069-9733-7deb40a74060",
   "metadata": {},
   "outputs": [],
   "source": []
  }
 ],
 "metadata": {
  "kernelspec": {
   "display_name": "Python 3 (ipykernel)",
   "language": "python",
   "name": "python3"
  },
  "language_info": {
   "codemirror_mode": {
    "name": "ipython",
    "version": 3
   },
   "file_extension": ".py",
   "mimetype": "text/x-python",
   "name": "python",
   "nbconvert_exporter": "python",
   "pygments_lexer": "ipython3",
   "version": "3.10.14"
  }
 },
 "nbformat": 4,
 "nbformat_minor": 5
}
